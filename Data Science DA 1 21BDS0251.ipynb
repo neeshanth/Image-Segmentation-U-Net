{
  "cells": [
    {
      "cell_type": "markdown",
      "metadata": {
        "id": "sY48Ap7wK2Sn"
      },
      "source": [
        "SIIM-ACR PNEUMOTHORAX SEGMENTATION"
      ]
    },
    {
      "cell_type": "code",
      "execution_count": null,
      "metadata": {
        "colab": {
          "base_uri": "https://localhost:8080/"
        },
        "id": "ZMmEp3gqUyn1",
        "outputId": "36661791-8fa2-4384-d570-7bb153efc23b"
      },
      "outputs": [
        {
          "output_type": "stream",
          "name": "stdout",
          "text": [
            "Mounted at /content/drive\n"
          ]
        }
      ],
      "source": [
        "from google.colab import drive\n",
        "drive.mount('/content/drive')"
      ]
    },
    {
      "cell_type": "markdown",
      "metadata": {
        "id": "Y7HFiESzDWcY"
      },
      "source": [
        "## Importing Libraries"
      ]
    },
    {
      "cell_type": "code",
      "execution_count": null,
      "metadata": {
        "id": "CUKZcMbBK2Ss"
      },
      "outputs": [],
      "source": [
        "import os\n",
        "import torch\n",
        "import numpy as np\n",
        "import pandas as pd\n",
        "from PIL import Image\n",
        "import cv2\n",
        "from pathlib import Path\n",
        "import matplotlib.pyplot as plt\n",
        "# import torchvision\n",
        "from torch.utils.data import DataLoader\n",
        "import torch.nn as nn\n",
        "from collections import defaultdict\n",
        "import albumentations as albu\n",
        "from albumentations.pytorch.transforms import ToTensorV2\n",
        "import torch.nn.functional as F\n",
        "from torch import nn\n",
        "from torch.autograd import Variable\n",
        "\n",
        "import torch.nn.functional as F\n",
        "import torchvision.transforms.functional as TF\n",
        "from sklearn.model_selection import StratifiedKFold\n",
        "from torch.utils.data.sampler import Sampler\n",
        "from tqdm import tqdm\n",
        "from sklearn.metrics import confusion_matrix, accuracy_score, recall_score, f1_score\n",
        "\n",
        "try:\n",
        "    from itertools import ifilterfalse\n",
        "except ImportError:  # py3k\n",
        "    from itertools import filterfalse\n",
        "\n",
        "# import segmentation_models_pytorch as smp\n",
        "# import sys; sys.path.append('../pneumothorax-segmentation/unet_pipeline/')\n",
        "#from Losses import ComboLoss, dice_metric"
      ]
    },
    {
      "cell_type": "markdown",
      "metadata": {
        "id": "7xtZrBIJeLH_"
      },
      "source": [
        "## Losses"
      ]
    },
    {
      "cell_type": "code",
      "execution_count": null,
      "metadata": {
        "id": "-GiUgprmeQ97"
      },
      "outputs": [],
      "source": [
        "eps = 1e-6\n",
        "\n",
        "\n",
        "def soft_dice_loss(outputs, targets, per_image=False, per_channel=False):\n",
        "    batch_size, n_channels = outputs.size(0), outputs.size(1)\n",
        "\n",
        "    eps = 1e-6\n",
        "    n_parts = 1\n",
        "    if per_image:\n",
        "        n_parts = batch_size\n",
        "    if per_channel:\n",
        "        n_parts = batch_size * n_channels\n",
        "\n",
        "    dice_target = targets.contiguous().view(n_parts, -1).float()\n",
        "    dice_output = outputs.contiguous().view(n_parts, -1)\n",
        "    intersection = torch.sum(dice_output * dice_target, dim=1)\n",
        "    union = torch.sum(dice_output, dim=1) + torch.sum(dice_target, dim=1) + eps\n",
        "    loss = (1 - (2 * intersection + eps) / union).mean()\n",
        "    return loss\n",
        "\n",
        "def dice_metric(preds, trues, per_image=False, per_channel=False):\n",
        "    preds = preds.float()\n",
        "    return 1 - soft_dice_loss(preds, trues, per_image, per_channel)\n",
        "\n",
        "\n",
        "def jaccard(outputs, targets, per_image=False, non_empty=False, min_pixels=5):\n",
        "    batch_size = outputs.size()[0]\n",
        "    eps = 1e-3\n",
        "    if not per_image:\n",
        "        batch_size = 1\n",
        "    dice_target = targets.contiguous().view(batch_size, -1).float()\n",
        "    dice_output = outputs.contiguous().view(batch_size, -1)\n",
        "    target_sum = torch.sum(dice_target, dim=1)\n",
        "    intersection = torch.sum(dice_output * dice_target, dim=1)\n",
        "    losses = 1 - (intersection + eps) / (torch.sum(dice_output + dice_target, dim=1) - intersection + eps)\n",
        "    if non_empty:\n",
        "        assert per_image == True\n",
        "        non_empty_images = 0\n",
        "        sum_loss = 0\n",
        "        for i in range(batch_size):\n",
        "            if target_sum[i] > min_pixels:\n",
        "                sum_loss += losses[i]\n",
        "                non_empty_images += 1\n",
        "        if non_empty_images == 0:\n",
        "            return 0\n",
        "        else:\n",
        "            return sum_loss / non_empty_images\n",
        "\n",
        "    return losses.mean()\n",
        "\n",
        "\n",
        "class DiceLoss(nn.Module):\n",
        "    def __init__(self, weight=None, size_average=True, per_image=False):\n",
        "        super().__init__()\n",
        "        self.size_average = size_average\n",
        "        self.register_buffer('weight', weight)\n",
        "        self.per_image = per_image\n",
        "\n",
        "    def forward(self, input, target):\n",
        "        return soft_dice_loss(input, target, per_image=self.per_image)\n",
        "\n",
        "\n",
        "class JaccardLoss(nn.Module):\n",
        "    def __init__(self, weight=None, size_average=True, per_image=False, non_empty=False, apply_sigmoid=False,\n",
        "                 min_pixels=5):\n",
        "        super().__init__()\n",
        "        self.size_average = size_average\n",
        "        self.register_buffer('weight', weight)\n",
        "        self.per_image = per_image\n",
        "        self.non_empty = non_empty\n",
        "        self.apply_sigmoid = apply_sigmoid\n",
        "        self.min_pixels = min_pixels\n",
        "\n",
        "    def forward(self, input, target):\n",
        "        if self.apply_sigmoid:\n",
        "            input = torch.sigmoid(input)\n",
        "        return jaccard(input, target, per_image=self.per_image, non_empty=self.non_empty, min_pixels=self.min_pixels)\n",
        "\n",
        "\n",
        "class StableBCELoss(nn.Module):\n",
        "    def __init__(self):\n",
        "        super(StableBCELoss, self).__init__()\n",
        "\n",
        "    def forward(self, input, target):\n",
        "        input = input.float().view(-1)\n",
        "        target = target.float().view(-1)\n",
        "        neg_abs = - input.abs()\n",
        "        # todo check correctness\n",
        "        loss = input.clamp(min=0) - input * target + (1 + neg_abs.exp()).log()\n",
        "        return loss.mean()\n",
        "\n",
        "\n",
        "class ComboLoss(nn.Module):\n",
        "    def __init__(self, weights, per_image=False, channel_weights=[1, 0.5, 0.5], channel_losses=None):\n",
        "        super().__init__()\n",
        "        self.weights = weights\n",
        "        self.bce = StableBCELoss()\n",
        "        self.dice = DiceLoss(per_image=False)\n",
        "        self.jaccard = JaccardLoss(per_image=False)\n",
        "        self.lovasz = LovaszLoss(per_image=per_image)\n",
        "        self.lovasz_sigmoid = LovaszLossSigmoid(per_image=per_image)\n",
        "        self.focal = FocalLoss2d()\n",
        "        self.mapping = {'bce': self.bce,\n",
        "                        'dice': self.dice,\n",
        "                        'focal': self.focal,\n",
        "                        'jaccard': self.jaccard,\n",
        "                        'lovasz': self.lovasz,\n",
        "                        'lovasz_sigmoid': self.lovasz_sigmoid}\n",
        "        self.expect_sigmoid = {'dice', 'focal', 'jaccard', 'lovasz_sigmoid'}\n",
        "        self.per_channel = {'dice', 'jaccard', 'lovasz_sigmoid'}\n",
        "        self.values = {}\n",
        "        self.channel_weights = channel_weights\n",
        "        self.channel_losses = channel_losses\n",
        "\n",
        "    def forward(self, outputs, targets):\n",
        "        loss = 0\n",
        "        weights = self.weights\n",
        "        sigmoid_input = torch.sigmoid(outputs)\n",
        "        for k, v in weights.items():\n",
        "            if not v:\n",
        "                continue\n",
        "            val = 0\n",
        "            if k in self.per_channel:\n",
        "                channels = targets.size(1)\n",
        "                for c in range(channels):\n",
        "                    if not self.channel_losses or k in self.channel_losses[c]:\n",
        "                        val += self.channel_weights[c] * self.mapping[k](sigmoid_input[:, c, ...] if k in self.expect_sigmoid else outputs[:, c, ...],\n",
        "                                               targets[:, c, ...])\n",
        "\n",
        "            else:\n",
        "                val = self.mapping[k](sigmoid_input if k in self.expect_sigmoid else outputs, targets)\n",
        "\n",
        "            self.values[k] = val\n",
        "            loss += self.weights[k] * val\n",
        "        return loss.clamp(min=1e-5)\n",
        "\n",
        "\n",
        "def lovasz_grad(gt_sorted):\n",
        "    \"\"\"\n",
        "    Computes gradient of the Lovasz extension w.r.t sorted errors\n",
        "    See Alg. 1 in paper\n",
        "    \"\"\"\n",
        "    p = len(gt_sorted)\n",
        "    gts = gt_sorted.sum()\n",
        "    intersection = gts.float() - gt_sorted.float().cumsum(0)\n",
        "    union = gts.float() + (1 - gt_sorted).float().cumsum(0)\n",
        "    jaccard = 1. - intersection / union\n",
        "    if p > 1:  # cover 1-pixel case\n",
        "        jaccard[1:p] = jaccard[1:p] - jaccard[0:-1]\n",
        "    return jaccard\n",
        "\n",
        "\n",
        "def lovasz_hinge(logits, labels, per_image=True, ignore=None):\n",
        "    \"\"\"\n",
        "    Binary Lovasz hinge loss\n",
        "      logits: [B, H, W] Variable, logits at each pixel (between -\\infty and +\\infty)\n",
        "      labels: [B, H, W] Tensor, binary ground truth masks (0 or 1)\n",
        "      per_image: compute the loss per image instead of per batch\n",
        "      ignore: void class id\n",
        "    \"\"\"\n",
        "    if per_image:\n",
        "        loss = mean(lovasz_hinge_flat(*flatten_binary_scores(log.unsqueeze(0), lab.unsqueeze(0), ignore))\n",
        "                    for log, lab in zip(logits, labels))\n",
        "    else:\n",
        "        loss = lovasz_hinge_flat(*flatten_binary_scores(logits, labels, ignore))\n",
        "    return loss\n",
        "\n",
        "\n",
        "def lovasz_hinge_flat(logits, labels):\n",
        "    \"\"\"\n",
        "    Binary Lovasz hinge loss\n",
        "      logits: [P] Variable, logits at each prediction (between -\\infty and +\\infty)\n",
        "      labels: [P] Tensor, binary ground truth labels (0 or 1)\n",
        "      ignore: label to ignore\n",
        "    \"\"\"\n",
        "    if len(labels) == 0:\n",
        "        # only void pixels, the gradients should be 0\n",
        "        return logits.sum() * 0.\n",
        "    signs = 2. * labels.float() - 1.\n",
        "    errors = (1. - logits * Variable(signs))\n",
        "    errors_sorted, perm = torch.sort(errors, dim=0, descending=True)\n",
        "    perm = perm.data\n",
        "    gt_sorted = labels[perm]\n",
        "    grad = lovasz_grad(gt_sorted)\n",
        "    loss = torch.dot(F.relu(errors_sorted), Variable(grad))\n",
        "    return loss\n",
        "\n",
        "\n",
        "def flatten_binary_scores(scores, labels, ignore=None):\n",
        "    \"\"\"\n",
        "    Flattens predictions in the batch (binary case)\n",
        "    Remove labels equal to 'ignore'\n",
        "    \"\"\"\n",
        "    scores = scores.view(-1)\n",
        "    labels = labels.view(-1)\n",
        "    if ignore is None:\n",
        "        return scores, labels\n",
        "    valid = (labels != ignore)\n",
        "    vscores = scores[valid]\n",
        "    vlabels = labels[valid]\n",
        "    return vscores, vlabels\n",
        "\n",
        "\n",
        "def lovasz_sigmoid(probas, labels, per_image=False, ignore=None):\n",
        "    \"\"\"\n",
        "    Multi-class Lovasz-Softmax loss\n",
        "      probas: [B, C, H, W] Variable, class probabilities at each prediction (between 0 and 1)\n",
        "      labels: [B, H, W] Tensor, ground truth labels (between 0 and C - 1)\n",
        "      only_present: average only on classes present in ground truth\n",
        "      per_image: compute the loss per image instead of per batch\n",
        "      ignore: void class labels\n",
        "    \"\"\"\n",
        "    if per_image:\n",
        "        loss = mean(lovasz_sigmoid_flat(*flatten_binary_scores(prob.unsqueeze(0), lab.unsqueeze(0), ignore))\n",
        "                          for prob, lab in zip(probas, labels))\n",
        "    else:\n",
        "        loss = lovasz_sigmoid_flat(*flatten_binary_scores(probas, labels, ignore))\n",
        "    return loss\n",
        "\n",
        "\n",
        "def lovasz_sigmoid_flat(probas, labels):\n",
        "    \"\"\"\n",
        "    Multi-class Lovasz-Softmax loss\n",
        "      probas: [P, C] Variable, class probabilities at each prediction (between 0 and 1)\n",
        "      labels: [P] Tensor, ground truth labels (between 0 and C - 1)\n",
        "      only_present: average only on classes present in ground truth\n",
        "    \"\"\"\n",
        "    fg = labels.float()\n",
        "    errors = (Variable(fg) - probas).abs()\n",
        "    errors_sorted, perm = torch.sort(errors, 0, descending=True)\n",
        "    perm = perm.data\n",
        "    fg_sorted = fg[perm]\n",
        "    loss = torch.dot(errors_sorted, Variable(lovasz_grad(fg_sorted)))\n",
        "    return loss\n",
        "\n",
        "def symmetric_lovasz(outputs, targets, ):\n",
        "    return (lovasz_hinge(outputs, targets) + lovasz_hinge(-outputs, 1 - targets)) / 2\n",
        "\n",
        "def mean(l, ignore_nan=False, empty=0):\n",
        "    \"\"\"\n",
        "    nanmean compatible with generators.\n",
        "    \"\"\"\n",
        "    l = iter(l)\n",
        "    if ignore_nan:\n",
        "        l = ifilterfalse(np.isnan, l)\n",
        "    try:\n",
        "        n = 1\n",
        "        acc = next(l)\n",
        "    except StopIteration:\n",
        "        if empty == 'raise':\n",
        "            raise ValueError('Empty mean')\n",
        "        return empty\n",
        "    for n, v in enumerate(l, 2):\n",
        "        acc += v\n",
        "    if n == 1:\n",
        "        return acc\n",
        "    return acc / n\n",
        "\n",
        "\n",
        "class LovaszLoss(nn.Module):\n",
        "    def __init__(self, ignore_index=255, per_image=True):\n",
        "        super().__init__()\n",
        "        self.ignore_index = ignore_index\n",
        "        self.per_image = per_image\n",
        "\n",
        "    def forward(self, outputs, targets):\n",
        "        outputs = outputs.contiguous()\n",
        "        targets = targets.contiguous()\n",
        "        return symmetric_lovasz(outputs, targets)\n",
        "\n",
        "class LovaszLossSigmoid(nn.Module):\n",
        "    def __init__(self, ignore_index=255, per_image=True):\n",
        "        super().__init__()\n",
        "        self.ignore_index = ignore_index\n",
        "        self.per_image = per_image\n",
        "\n",
        "    def forward(self, outputs, targets):\n",
        "        outputs = outputs.contiguous()\n",
        "        targets = targets.contiguous()\n",
        "        return lovasz_sigmoid(outputs, targets, per_image=self.per_image, ignore=self.ignore_index)\n",
        "\n",
        "\n",
        "class FocalLoss2d(nn.Module):\n",
        "    def __init__(self, gamma=2, ignore_index=255):\n",
        "        super().__init__()\n",
        "        self.gamma = gamma\n",
        "        self.ignore_index = ignore_index\n",
        "\n",
        "    def forward(self, outputs, targets):\n",
        "        outputs = outputs.contiguous()\n",
        "        targets = targets.contiguous()\n",
        "        eps = 1e-8\n",
        "        non_ignored = targets.view(-1) != self.ignore_index\n",
        "        targets = targets.view(-1)[non_ignored].float()\n",
        "        outputs = outputs.contiguous().view(-1)[non_ignored]\n",
        "        outputs = torch.clamp(outputs, eps, 1. - eps)\n",
        "        targets = torch.clamp(targets, eps, 1. - eps)\n",
        "        pt = (1 - targets) * (1 - outputs) + targets * outputs\n",
        "        return (-(1. - pt) ** self.gamma * torch.log(pt)).mean()"
      ]
    },
    {
      "cell_type": "markdown",
      "metadata": {
        "id": "A-y8ovXEK2St"
      },
      "source": [
        "## Config"
      ]
    },
    {
      "cell_type": "markdown",
      "metadata": {
        "id": "4SW4ViKfK2St"
      },
      "source": [
        "The [ComboLoss](https://github.com/sneddy/pneumothorax-segmentation/blob/master/unet_pipeline/Losses.py#L104) function used in CRITERION below also comes from the winning solution by Anuar."
      ]
    },
    {
      "cell_type": "code",
      "execution_count": null,
      "metadata": {
        "id": "g3__XL68K2St"
      },
      "outputs": [],
      "source": [
        "IMG_SIZE         = 512\n",
        "DIR              = \"/content/drive/MyDrive/Colab_Notebooks/datasets/archive_png_siim_acr/train_png\"\n",
        "DATA_DIR         = Path(DIR)\n",
        "TRAIN_IMG_DIR    = Path(DIR)\n",
        "TRAIN_LBL_DIR    = Path(\"/content/drive/MyDrive/Colab_Notebooks/datasets/mask\")\n",
        "# RLE_DF           = pd.read_csv(\"/content/drive/MyDrive/Colab_Notebooks/datasets/archive_png_siim_acr/siim_acr_dicom/train-rle.csv\", names=['ImageId', 'EncodedPixels'], skiprows=1)\n",
        "KFOLD_PATH       = ''\n",
        "TRAIN_BATCH_SIZE = 8\n",
        "VALID_BATCH_SIZE = 8\n",
        "BATCH_SIZE       = 8\n",
        "USE_SAMPLER      = False\n",
        "POSTIVE_PERC     = 0.8\n",
        "DEVICE           = torch.device(\"cuda\" if torch.cuda.is_available() else \"cpu\")\n",
        "PRETRAINED_PATH  = '../data/bst_model512_fold2_0.9565.bin'\n",
        "PRETRAINED       = False # modified\n",
        "LEARNING_RATE    = 0.0001\n",
        "EPOCHS           = 1 #default was 5\n",
        "LOSS_FN          = 'mixed'\n",
        "CRITERION        = ComboLoss(**{'weights':{'bce':3, 'dice':1, 'focal':4}})\n",
        "USE_CRIT         = True\n",
        "TRAIN_MODEL      = True # modified\n",
        "EVALUATE         = True # modified\n",
        "FOLD_ID          = 4\n",
        "prediction_path  = \"/content/drive/MyDrive/Colab_Notebooks/datasets/archive_png_siim_acr/Predicted_masks/tests\""
      ]
    },
    {
      "cell_type": "markdown",
      "metadata": {
        "id": "od_pZDUoK2Su"
      },
      "source": [
        "\n",
        "## Utils"
      ]
    },
    {
      "cell_type": "markdown",
      "metadata": {
        "id": "8JuSwxSqK2Su"
      },
      "source": [
        "General utility functions."
      ]
    },
    {
      "cell_type": "code",
      "execution_count": null,
      "metadata": {
        "id": "3HUlt42oK2Su"
      },
      "outputs": [],
      "source": [
        "# def run_length_decode(rle, height=1024, width=1024, fill_value=1):\n",
        "#     component = np.zeros((height, width), np.float32)\n",
        "#     component = component.reshape(-1)\n",
        "#     rle = np.array([int(s) for s in rle.strip().split(' ')])\n",
        "#     rle = rle.reshape(-1, 2)\n",
        "#     start = 0\n",
        "#     for index, length in rle:\n",
        "#         start = start+index\n",
        "#         end = start+length\n",
        "#         component[start: end] = fill_value\n",
        "#         start = end\n",
        "#     component = component.reshape(width, height).T\n",
        "#     return component"
      ]
    },
    {
      "cell_type": "code",
      "execution_count": null,
      "metadata": {
        "id": "GvQ-isFnK2Su"
      },
      "outputs": [],
      "source": [
        "# def run_length_encode(component):\n",
        "#     component = component.T.flatten()\n",
        "#     start = np.where(component[1:] > component[:-1])[0]+1\n",
        "#     end = np.where(component[:-1] > component[1:])[0]+1\n",
        "#     length = end-start\n",
        "#     rle = []\n",
        "#     for i in range(len(length)):\n",
        "#         if i == 0:\n",
        "#             rle.extend([start[0], length[0]])\n",
        "#         else:\n",
        "#             rle.extend([start[i]-end[i-1], length[i]])\n",
        "#     rle = ' '.join([str(r) for r in rle])\n",
        "#     return rle"
      ]
    },
    {
      "cell_type": "code",
      "execution_count": null,
      "metadata": {
        "id": "3LcOlxiwK2Sv"
      },
      "outputs": [],
      "source": [
        "def matplotlib_imshow(img, one_channel=False):\n",
        "    fig,ax = plt.subplots(figsize=(10,6))\n",
        "    ax.imshow(img.permute(1,2,0).numpy())"
      ]
    },
    {
      "cell_type": "code",
      "execution_count": null,
      "metadata": {
        "id": "LkS16buBK2Sv"
      },
      "outputs": [],
      "source": [
        "def visualize(**images):\n",
        "    \"\"\"PLot images in one row.\"\"\"\n",
        "    images = {k:v.numpy() for k,v in images.items() if isinstance(v, torch.Tensor)} #convert tensor to numpy\n",
        "    n = len(images)\n",
        "    plt.figure(figsize=(16, 8))\n",
        "    image, mask = images['image'], images['mask']\n",
        "    plt.imshow(image.transpose(1,2,0), vmin=0, vmax=1)\n",
        "    if mask.max()>0:\n",
        "        plt.imshow(mask.squeeze(0), alpha=0.25)\n",
        "    plt.show()"
      ]
    },
    {
      "cell_type": "code",
      "execution_count": null,
      "metadata": {
        "id": "5KOb07Zlb3GN"
      },
      "outputs": [],
      "source": [
        "def save_checkpoint(state, filename=\"my_checkpoint.pth.tar\"):\n",
        "  print(\"Saving checkpoint...\")\n",
        "  torch.save(state, filename)\n",
        "  print(\"Checkpoint saved!\")"
      ]
    },
    {
      "cell_type": "code",
      "execution_count": null,
      "metadata": {
        "id": "cIcBkgjOcPWQ"
      },
      "outputs": [],
      "source": [
        "def load_checkpoint(checkpoint):\n",
        "  print(\"Loading checkpoint...\")\n",
        "  model.load_state_dict(checkpoint['state_dict'])\n",
        "  optimizer.load_state_dict(checkpoint['optimizer'])"
      ]
    },
    {
      "cell_type": "code",
      "execution_count": null,
      "metadata": {
        "id": "NrindR018hyO"
      },
      "outputs": [],
      "source": [
        "def accuracy_fn(y_true, y_pred):\n",
        "  correct = torch.eq(y_true, y_pred).sum().item() # Calculates where two tensors are equal\n",
        "  acc = (correct / len(y_pred) ) * 100\n",
        "  return acc"
      ]
    },
    {
      "cell_type": "markdown",
      "metadata": {
        "id": "EqxMQpqB5JFV"
      },
      "source": [
        "# ------ DL Workflow -------"
      ]
    },
    {
      "cell_type": "markdown",
      "metadata": {
        "id": "BNLEHf3QK2Sv"
      },
      "source": [
        "## 1. Data -> Tensor"
      ]
    },
    {
      "cell_type": "markdown",
      "metadata": {
        "id": "9wbgxfpGK2Sv"
      },
      "source": [
        "### Create five-fold splits"
      ]
    },
    {
      "cell_type": "code",
      "execution_count": null,
      "metadata": {
        "colab": {
          "base_uri": "https://localhost:8080/"
        },
        "id": "UDyy5r93K2Sv",
        "outputId": "ab629fa6-c206-4e2b-98dc-739f44cbb541"
      },
      "outputs": [
        {
          "output_type": "execute_result",
          "data": {
            "text/plain": [
              "(9266, 2316)"
            ]
          },
          "metadata": {},
          "execution_count": 12
        }
      ],
      "source": [
        "# single fold training for now, rerun notebook to train for multi-fold\n",
        "DF       = pd.read_csv(\"/content/drive/MyDrive/Colab_Notebooks/datasets/archive_png_siim_acr/siim_acr_dicom/RLE_kfold.csv\")\n",
        "TRAIN_DF = DF.query(f'kfold!={FOLD_ID}').reset_index(drop=True)\n",
        "VAL_DF   = DF.query(f'kfold=={FOLD_ID}').reset_index(drop=True)\n",
        "len(TRAIN_DF), len(VAL_DF)"
      ]
    },
    {
      "cell_type": "markdown",
      "metadata": {
        "id": "njKNWpqFK2Sw"
      },
      "source": [
        "### Dataset and DataLoaders"
      ]
    },
    {
      "cell_type": "code",
      "execution_count": null,
      "metadata": {
        "id": "9ywRGbXTK2Sw"
      },
      "outputs": [],
      "source": [
        "class Dataset():\n",
        "    def __init__(self, rle_df, image_base_dir, masks_base_dir, augmentation=None):\n",
        "        self.df             = rle_df\n",
        "        self.image_base_dir = image_base_dir\n",
        "        self.masks_base_dir = masks_base_dir\n",
        "        self.image_ids      = rle_df.ImageId.values\n",
        "        self.augmentation   = augmentation\n",
        "\n",
        "    def __image_ids__(self):\n",
        "        print(print(self.image_ids))\n",
        "\n",
        "    def __len__(self):\n",
        "        return len(self.image_ids)\n",
        "\n",
        "    def __getitem__(self, i):\n",
        "        image_id  = self.image_ids[i]\n",
        "        img_path  = os.path.join(self.image_base_dir, Path(image_id+'.png'))\n",
        "        mask_path = os.path.join(self.masks_base_dir, Path(image_id+'.png'))\n",
        "        # image = np.array(Image.open(img_path).convert(\"RGB\"))\n",
        "        # mask = np.array(Image.open(mask_path).convert(\"L\"), dtype = np.float32)\n",
        "        image     = cv2.imread(img_path, 1)\n",
        "        mask      = cv2.imread(mask_path, 0)\n",
        "\n",
        "        # print(type(image), image.shape) -> <class 'numpy.ndarray'> (1024, 1024, 3)\n",
        "        # print(type(mask), mask.shape) -> <class 'numpy.ndarray'> (1024, 1024, 1)\n",
        "\n",
        "        # apply augmentations\n",
        "        if self.augmentation:\n",
        "            sample = {\"image\": image, \"mask\": mask}\n",
        "            sample = self.augmentation(**sample)\n",
        "            image, mask = sample['image'], sample['mask']\n",
        "\n",
        "        return {\n",
        "            'image': image,\n",
        "            'mask' : mask,\n",
        "        }"
      ]
    },
    {
      "cell_type": "code",
      "source": [
        "from scipy.ndimage import rotate\n",
        "import matplotlib.image as mpimg\n",
        "from scipy.ndimage import zoom\n",
        "\n",
        "# Dataset\n",
        "train_dataset = Dataset(TRAIN_DF, TRAIN_IMG_DIR, TRAIN_LBL_DIR)\n",
        "val_dataset   = Dataset(VAL_DF, TRAIN_IMG_DIR, TRAIN_LBL_DIR)\n",
        "\n",
        "# Loading an individual image from the dataset\n",
        "image = train_dataset.__getitem__(11)['image']\n",
        "# image = cv2.imread(\"C:/Users/nisha/Desktop/Proper Training of U-Net [reached 4 epochs]/t_mask\")\n",
        "\n",
        "# horizontal flip transformation\n",
        "flipped_image = np.fliplr(image)\n",
        "\n",
        "# Step 2: Apply rotation transformation\n",
        "rotated_image = rotate(image, angle=10, reshape=False)\n",
        "\n",
        "# Compute the scaling factors\n",
        "scale_height = 512 / image.shape[0]\n",
        "scale_width = 512 / image.shape[1]\n",
        "\n",
        "# resize transformation\n",
        "resized_image = zoom(image, (scale_height, scale_width, 1))\n",
        "\n",
        "# Normalize the image\n",
        "normalized_image = image.astype(np.float32) / 255.0\n",
        "\n",
        "# Convert to tensor\n",
        "image_tensor = torch.tensor(image)\n",
        "\n",
        "# Display the original and transformed images\n",
        "plt.figure(figsize=(10, 5))\n",
        "\n",
        "plt.subplot(1, 2, 1)\n",
        "plt.title('Original Image')\n",
        "plt.imshow(image)\n",
        "plt.axis('off')\n",
        "\n",
        "plt.subplot(1, 2, 2)\n",
        "plt.title('Horizontally Flipped Image')\n",
        "plt.imshow(flipped_image)\n",
        "plt.axis('off')\n",
        "\n",
        "plt.subplot(1, 2, 2)\n",
        "plt.title('Rotated Image (10 degrees)')\n",
        "plt.imshow(rotated_image)\n",
        "plt.axis('off')\n",
        "\n",
        "plt.subplot(1, 2, 2)\n",
        "plt.title('Resized Image (512x512)')\n",
        "plt.imshow(resized_image)\n",
        "plt.axis('off')\n",
        "\n",
        "plt.imshow(normalized_image)\n",
        "plt.title('Normalized Image')\n",
        "plt.axis('off')\n",
        "\n",
        "plt.imshow(image_tensor)\n",
        "plt.title('Image in Tensor Format')\n",
        "plt.axis('off')\n",
        "\n",
        "\n",
        "plt.show()\n",
        "\n",
        "print(f\"\\nType of image after all the transformations: {type(image_tensor)}\")"
      ],
      "metadata": {
        "colab": {
          "base_uri": "https://localhost:8080/",
          "height": 446
        },
        "id": "CuodMvlWf7r3",
        "outputId": "35fce6f3-2279-4a46-a110-8dc63fafbe1f"
      },
      "execution_count": null,
      "outputs": [
        {
          "output_type": "display_data",
          "data": {
            "text/plain": [
              "<Figure size 1000x500 with 2 Axes>"
            ],
            "image/png": "[encoded data removed]"
          },
          "metadata": {}
        },
        {
          "output_type": "stream",
          "name": "stdout",
          "text": [
            "\n",
            "Type of image after all the transformations: <class 'torch.Tensor'>\n"
          ]
        }
      ]
    },
    {
      "cell_type": "code",
      "execution_count": null,
      "metadata": {
        "id": "Zxv5It8ZK2Sw"
      },
      "outputs": [],
      "source": [
        "# Train transforms\n",
        "TFMS = albu.Compose([\n",
        "    albu.HorizontalFlip(),\n",
        "    albu.Rotate(10),\n",
        "    albu.Resize(height=512, width=512),\n",
        "    albu.Normalize(),\n",
        "    ToTensorV2(),\n",
        "],\n",
        "    is_check_shapes=False,\n",
        ")\n",
        "\n",
        "# Test transforms\n",
        "TEST_TFMS = albu.Compose([\n",
        "    albu.Resize(height=512, width=512),\n",
        "    albu.Normalize(),\n",
        "    ToTensorV2(),\n",
        "],\n",
        "    is_check_shapes=False,\n",
        ")"
      ]
    },
    {
      "cell_type": "code",
      "execution_count": null,
      "metadata": {
        "id": "4DKpUR1QK2Sw"
      },
      "outputs": [],
      "source": [
        "# train dataset\n",
        "train_dataset = Dataset(TRAIN_DF, TRAIN_IMG_DIR, TRAIN_LBL_DIR, TFMS)\n",
        "val_dataset   = Dataset(VAL_DF, TRAIN_IMG_DIR, TRAIN_LBL_DIR, TEST_TFMS)"
      ]
    },
    {
      "cell_type": "code",
      "execution_count": null,
      "metadata": {
        "colab": {
          "base_uri": "https://localhost:8080/"
        },
        "id": "KUbqAOi6Nt2H",
        "outputId": "824ccc20-c057-4f76-f464-91c41eb9a27d"
      },
      "outputs": [
        {
          "output_type": "execute_result",
          "data": {
            "text/plain": [
              "torch.Size([3, 512, 512])"
            ]
          },
          "metadata": {},
          "execution_count": 16
        }
      ],
      "source": [
        "train_dataset.__getitem__(11)['image'].shape"
      ]
    },
    {
      "cell_type": "code",
      "execution_count": null,
      "metadata": {
        "colab": {
          "base_uri": "https://localhost:8080/"
        },
        "id": "7zno_0Q4eVHv",
        "outputId": "a8978799-e01d-43d9-8a86-10d3158c942b"
      },
      "outputs": [
        {
          "output_type": "execute_result",
          "data": {
            "text/plain": [
              "9266"
            ]
          },
          "metadata": {},
          "execution_count": 17
        }
      ],
      "source": [
        "train_dataset.__len__()"
      ]
    },
    {
      "cell_type": "code",
      "execution_count": null,
      "metadata": {
        "id": "8SW1GpbQK2Sw",
        "scrolled": false
      },
      "outputs": [],
      "source": [
        "# # plot one with mask\n",
        "# visualize(**train_dataset[1])"
      ]
    },
    {
      "cell_type": "markdown",
      "metadata": {
        "id": "6-dcysMmK2Sw"
      },
      "source": [
        "### Sampler"
      ]
    },
    {
      "cell_type": "code",
      "execution_count": null,
      "metadata": {
        "id": "Qx49nrt4K2Sw"
      },
      "outputs": [],
      "source": [
        "class PneumoSampler(Sampler):\n",
        "    def __init__(self, train_df, positive_perc=0.8):\n",
        "        assert positive_perc > 0, 'percentage of positive pneumothorax images must be greater then zero'\n",
        "        self.train_df = train_df\n",
        "        self.positive_perc = positive_perc\n",
        "        self.positive_idxs = self.train_df.query('has_mask==1').index.values\n",
        "        self.negative_idxs = self.train_df.query('has_mask!=1').index.values\n",
        "        self.n_positive = len(self.positive_idxs)\n",
        "        self.n_negative = int(self.n_positive * (1 - self.positive_perc) / self.positive_perc)\n",
        "\n",
        "    def __iter__(self):\n",
        "        negative_sample = np.random.choice(self.negative_idxs, size=self.n_negative)\n",
        "        shuffled = np.random.permutation(np.hstack((negative_sample, self.positive_idxs)))\n",
        "        return iter(shuffled.tolist())\n",
        "\n",
        "    def __len__(self):\n",
        "        return self.n_positive + self.n_negative"
      ]
    },
    {
      "cell_type": "code",
      "execution_count": null,
      "metadata": {
        "id": "kzJerUgtK2Sx"
      },
      "outputs": [],
      "source": [
        "SAMPLER = PneumoSampler(TRAIN_DF, positive_perc=POSTIVE_PERC)"
      ]
    },
    {
      "cell_type": "markdown",
      "metadata": {
        "id": "Asd-jMF9K2Sx"
      },
      "source": [
        "### DataLoaders"
      ]
    },
    {
      "cell_type": "code",
      "execution_count": null,
      "metadata": {
        "id": "Saav3bv6K2Sx"
      },
      "outputs": [],
      "source": [
        "# dataloaders\n",
        "train_dataloader = DataLoader(train_dataset, TRAIN_BATCH_SIZE,\n",
        "                              shuffle=True if not USE_SAMPLER else False,\n",
        "                              num_workers=2,\n",
        "                              sampler=SAMPLER if USE_SAMPLER else None)\n",
        "val_dataloader   = DataLoader(val_dataset, VALID_BATCH_SIZE, shuffle=False, num_workers=2)"
      ]
    },
    {
      "cell_type": "code",
      "execution_count": null,
      "metadata": {
        "colab": {
          "base_uri": "https://localhost:8080/"
        },
        "id": "u9nGVmHlj6z5",
        "outputId": "87afb6e4-4c0d-4265-f302-5c39ae925458"
      },
      "outputs": [
        {
          "output_type": "stream",
          "name": "stdout",
          "text": [
            "Dataloaders: (<torch.utils.data.dataloader.DataLoader object at 0x7d1b66553df0>, <torch.utils.data.dataloader.DataLoader object at 0x7d1b665511e0>)\n",
            "Length of train dataloader: 1159 batches of 8\n",
            "length of validation dataloader: 290 batches of 8\n"
          ]
        }
      ],
      "source": [
        "print(f\"Dataloaders: {train_dataloader , val_dataloader}\")\n",
        "print(f\"Length of train dataloader: {len(train_dataloader)} batches of {BATCH_SIZE}\")\n",
        "print(f\"length of validation dataloader: {len(val_dataloader)} batches of {BATCH_SIZE}\")"
      ]
    },
    {
      "cell_type": "markdown",
      "metadata": {
        "id": "pP_v6Oy8K2Sx"
      },
      "source": [
        "### Loss"
      ]
    },
    {
      "cell_type": "markdown",
      "metadata": {
        "id": "Yqvryn9KK2Sx"
      },
      "source": [
        "In this script we use [ComboLoss](https://github.com/sneddy/pneumothorax-segmentation/blob/master/unet_pipeline/Losses.py#L104) from winning solution but it is also possible to use `MixedLoss` shared below if `USE_CRIT` is set to `False` in CONFIG."
      ]
    },
    {
      "cell_type": "code",
      "execution_count": null,
      "metadata": {
        "id": "l2lXsje3K2Sx"
      },
      "outputs": [],
      "source": [
        "def dice_loss(input, target):\n",
        "    input = torch.sigmoid(input)\n",
        "    smooth = 1.0\n",
        "    iflat = input.view(-1)\n",
        "    tflat = target.view(-1)\n",
        "    intersection = (iflat * tflat).sum()\n",
        "    return ((2.0 * intersection + smooth) / (iflat.sum() + tflat.sum() + smooth))"
      ]
    },
    {
      "cell_type": "code",
      "execution_count": null,
      "metadata": {
        "id": "zeJl2G6eK2Sx"
      },
      "outputs": [],
      "source": [
        "class FocalLoss(nn.Module):\n",
        "    def __init__(self, gamma):\n",
        "        super().__init__()\n",
        "        self.gamma = gamma\n",
        "\n",
        "    def forward(self, input, target):\n",
        "        if not (target.size() == input.size()):\n",
        "            raise ValueError(\"Target size ({}) must be the same as input size ({})\"\n",
        "                             .format(target.size(), input.size()))\n",
        "        max_val = (-input).clamp(min=0)\n",
        "        loss = input - input * target + max_val + \\\n",
        "            ((-max_val).exp() + (-input - max_val).exp()).log()\n",
        "        invprobs = F.logsigmoid(-input * (target * 2.0 - 1.0))\n",
        "        loss = (invprobs * self.gamma).exp() * loss\n",
        "        return loss.mean()"
      ]
    },
    {
      "cell_type": "code",
      "execution_count": null,
      "metadata": {
        "id": "s_ewoQn7K2S4"
      },
      "outputs": [],
      "source": [
        "class MixedLoss(nn.Module):\n",
        "    def __init__(self, alpha, gamma):\n",
        "        super().__init__()\n",
        "        self.alpha = alpha\n",
        "        self.focal = FocalLoss(gamma)\n",
        "\n",
        "    def forward(self, input, target):\n",
        "        loss = self.alpha*self.focal(input, target) - torch.log(dice_loss(input, target))\n",
        "        return loss.mean()"
      ]
    },
    {
      "cell_type": "markdown",
      "metadata": {
        "id": "MIIdw0tLK2S4"
      },
      "source": [
        "## 2. Model"
      ]
    },
    {
      "cell_type": "code",
      "execution_count": null,
      "metadata": {
        "id": "noi6vEbbK2S4"
      },
      "outputs": [],
      "source": [
        "\"\"\"Basic U-net model\"\"\"\n",
        "class DoubleConv(nn.Module):\n",
        "  def __init__(self, in_channels, out_channels):\n",
        "    super(DoubleConv, self).__init__()\n",
        "    self.conv = nn.Sequential(\n",
        "        nn.Conv2d(in_channels, out_channels, 3, 1, 1, bias = False, device=DEVICE),\n",
        "        nn.BatchNorm2d(out_channels, device=DEVICE),\n",
        "        nn.ReLU(inplace=True),\n",
        "        nn.Conv2d(out_channels, out_channels, 3, 1, 1, bias = False, device=DEVICE),\n",
        "        nn.BatchNorm2d(out_channels, device=DEVICE),\n",
        "        nn.ReLU(inplace=True)\n",
        "        )\n",
        "\n",
        "  def forward(self, x):\n",
        "    return self.conv(x)\n",
        "\n",
        "class UNet(nn.Module):\n",
        "  def __init__(self, in_channels, out_channels, features = [64, 128, 256, 512]):\n",
        "    super(UNet, self).__init__()\n",
        "    self.downs = nn.ModuleList()\n",
        "    self.ups = nn.ModuleList()\n",
        "    self.pool = nn.MaxPool2d(kernel_size=2, stride=2)\n",
        "\n",
        "    # Encoder layers for U-Net\n",
        "    for feature in features:\n",
        "      self.downs.append(DoubleConv(in_channels, feature))\n",
        "      in_channels = feature\n",
        "\n",
        "    # Decoder layers for U-Net\n",
        "    for feature in reversed(features):\n",
        "      self.ups.append(nn.ConvTranspose2d(feature*2, feature, kernel_size=2, stride=2, device=DEVICE))\n",
        "      self.ups.append(DoubleConv(feature*2, feature))\n",
        "\n",
        "    self.bottom = DoubleConv(features[-1], (features[-1])*2)\n",
        "\n",
        "    self.final_conv = nn.Conv2d(features[0], out_channels, kernel_size=1, device=DEVICE)\n",
        "\n",
        "  def forward(self, x):\n",
        "    skip_connections = []\n",
        "    for down in self.downs:\n",
        "      x = down(x)\n",
        "      skip_connections.append(x)\n",
        "      x = self.pool(x)\n",
        "\n",
        "    x = self.bottom(x)\n",
        "    skip_connections = skip_connections[::-1]\n",
        "\n",
        "    for index in range(0, len(self.ups), 2):\n",
        "      x = self.ups[index](x)\n",
        "      skip_connection = skip_connections[index//2]\n",
        "    # SHOULD CONSIDER PADDING CUZ RESIZING WILL AFFECT ACCURACY even though IT'S NEGLIGIBLE\n",
        "      if x.shape != skip_connection.shape:\n",
        "       skip_connection = TF.resize(skip_connection, size = x.shape[2:], antialias=False)\n",
        "    # Concatenation type skip connection\n",
        "      concat = torch.cat((skip_connection,x), dim=1)\n",
        "      x = self.ups[index+1](concat)\n",
        "    return self.final_conv(x)"
      ]
    },
    {
      "cell_type": "code",
      "execution_count": null,
      "metadata": {
        "id": "xw2a4zMFL0Sz"
      },
      "outputs": [],
      "source": [
        "# Input has 3 color channels [RGB] & Output has 1 color channel\n",
        "# Format NCHW - no. of samples in a mini-batch, no. of color channels, height and width.\n",
        "model = UNet(in_channels=3, out_channels=1)"
      ]
    },
    {
      "cell_type": "markdown",
      "metadata": {
        "id": "Vzze2VhIK2S5"
      },
      "source": [
        "### Early Stopping"
      ]
    },
    {
      "cell_type": "code",
      "execution_count": null,
      "metadata": {
        "id": "TbTO94ePK2S5"
      },
      "outputs": [],
      "source": [
        "class EarlyStopping:\n",
        "    def __init__(self, patience=7, mode=\"max\", delta=0.0001):\n",
        "        self.patience = patience\n",
        "        self.counter = 0\n",
        "        self.mode = mode\n",
        "        self.best_score = None\n",
        "        self.early_stop = False\n",
        "        self.delta = delta\n",
        "        if self.mode == \"min\":\n",
        "            self.val_score = np.Inf\n",
        "        else:\n",
        "            self.val_score = -np.Inf\n",
        "\n",
        "    def __call__(self, epoch_score, model, model_path):\n",
        "        if self.mode == \"min\":\n",
        "            score = -1.0 * epoch_score\n",
        "        else:\n",
        "            score = np.copy(epoch_score)\n",
        "\n",
        "        if self.best_score is None:\n",
        "            self.best_score = score\n",
        "            self.save_checkpoint(epoch_score, model, model_path)\n",
        "        elif score < self.best_score + self.delta:\n",
        "            self.counter += 1\n",
        "            print(\n",
        "                \"EarlyStopping counter: {} out of {}\".format(\n",
        "                    self.counter, self.patience\n",
        "                )\n",
        "            )\n",
        "            if self.counter >= self.patience:\n",
        "                self.early_stop = True\n",
        "        else:\n",
        "            self.best_score = score\n",
        "            self.save_checkpoint(epoch_score, model, model_path)\n",
        "            self.counter = 0\n",
        "\n",
        "    def save_checkpoint(self, epoch_score, model, model_path):\n",
        "        model_path = Path(model_path)\n",
        "        parent = model_path.parent\n",
        "        os.makedirs(parent, exist_ok=True)\n",
        "        if epoch_score not in [-np.inf, np.inf, -np.nan, np.nan]:\n",
        "            print(\n",
        "                \"Validation score improved ({} --> {}). Model saved at at {}!\".format(\n",
        "                    self.val_score, epoch_score, model_path\n",
        "                )\n",
        "            )\n",
        "            torch.save(model.state_dict(), model_path)\n",
        "        self.val_score = epoch_score"
      ]
    },
    {
      "cell_type": "markdown",
      "metadata": {
        "id": "kOlM9jTEK2S5"
      },
      "source": [
        "### Training"
      ]
    },
    {
      "cell_type": "code",
      "execution_count": null,
      "metadata": {
        "id": "_amog1GHK2S5"
      },
      "outputs": [],
      "source": [
        "class AverageMeter:\n",
        "    def __init__(self):\n",
        "        self.val = 0\n",
        "        self.avg = 0\n",
        "        self.sum = 0\n",
        "        self.count = 0\n",
        "\n",
        "    def reset(self):\n",
        "        self.val = 0\n",
        "        self.avg = 0\n",
        "        self.sum = 0\n",
        "        self.count = 0\n",
        "\n",
        "    def update(self, val, n=1):\n",
        "        self.val = val\n",
        "        self.sum += val * n\n",
        "        self.count += n\n",
        "        self.avg = self.sum / self.count"
      ]
    },
    {
      "cell_type": "code",
      "execution_count": null,
      "metadata": {
        "id": "xbn3pKTaK2S5"
      },
      "outputs": [],
      "source": [
        "def train_one_epoch(train_loader, model, optimizer, loss_fn, accumulation_steps=1, device='cuda'):\n",
        "    losses = AverageMeter()\n",
        "\n",
        "    # Lists to store batch-to-batch progress details within the epoch while training\n",
        "    batch_count_train = []\n",
        "    batch_train_loss = []\n",
        "\n",
        "    model = model.to(DEVICE)\n",
        "    model.train()\n",
        "    if accumulation_steps > 1:\n",
        "      optimizer.zero_grad()\n",
        "    tk0 = tqdm(train_loader, total=len(train_loader))\n",
        "    for b_idx, data in enumerate(tk0):\n",
        "      # print(data['image'].shape) -> torch.Size([8, 3, 512, 512])\n",
        "      # print(data['mask'].shape) -> torch.Size([8, 512, 512])\n",
        "      batch_count_train.append(b_idx)\n",
        "\n",
        "      # moves image tensor and mask tensor to gpu\n",
        "      for key, value in data.items():\n",
        "        data[key] = value.to(DEVICE)\n",
        "\n",
        "      if accumulation_steps == 1 and b_idx == 0:\n",
        "        optimizer.zero_grad()\n",
        "      out  = model(data['image']) # out.shape = torch.Size([8, 1, 512, 512])\n",
        "      loss = loss_fn(out, data['mask'].unsqueeze(1)) # mask.shape = torch.Size([8, 1, 512, 512])\n",
        "      with torch.set_grad_enabled(True):\n",
        "        loss.backward()\n",
        "        if (b_idx + 1) % accumulation_steps == 0:\n",
        "          optimizer.step()\n",
        "          optimizer.zero_grad()\n",
        "      losses.update(loss.item(), train_loader.batch_size)\n",
        "\n",
        "      batch_train_loss.append(losses.avg)\n",
        "      tk0.set_postfix(loss=losses.avg, learning_rate=optimizer.param_groups[0]['lr'])\n",
        "    return losses.avg, batch_count_train, batch_train_loss"
      ]
    },
    {
      "cell_type": "code",
      "execution_count": null,
      "metadata": {
        "id": "vdnJJ1ASm9pI"
      },
      "outputs": [],
      "source": [
        "# model.to(DEVICE)\n",
        "# model.train()\n",
        "# mask = train_dataset[11][\"mask\"].unsqueeze(0).unsqueeze(1).float()\n",
        "# print(\"Mask Shape: \",mask.shape)\n",
        "# image = train_dataset[11][\"image\"].unsqueeze(0)\n",
        "# print(\"Image Shape: \",image.shape)\n",
        "# raw_output = model(image.to(DEVICE))\n",
        "# print(\"raw output shape: \", raw_output.shape)\n",
        "# print(\"------ Raw Output ------\")\n",
        "# print(raw_output)\n",
        "# print(\"------- Pred Probs -------\")\n",
        "# pred_probs = torch.sigmoid(raw_output)\n",
        "# print(pred_probs)\n",
        "# print(\"------- How does the Mask look like? ------\")\n",
        "# print(mask)\n",
        "# print(\"-------- pred labels --------\")\n",
        "# pred_labels = torch.round(pred_probs)\n",
        "# print(pred_labels)"
      ]
    },
    {
      "cell_type": "code",
      "execution_count": null,
      "metadata": {
        "id": "Fk9knh9OC8oh"
      },
      "outputs": [],
      "source": [
        "# plt.imshow(mask.squeeze().detach().cpu().numpy(), cmap = 'gray')\n",
        "# print(mask.squeeze().shape)\n",
        "# plt.title(mask);"
      ]
    },
    {
      "cell_type": "code",
      "execution_count": null,
      "metadata": {
        "id": "ZjR6l-52D9R4"
      },
      "outputs": [],
      "source": [
        "# print(pred_labels.squeeze().shape)\n",
        "# plt.imshow(pred_labels.squeeze().detach().cpu().numpy(), cmap='gray')\n",
        "# plt.title(pred_labels);"
      ]
    },
    {
      "cell_type": "code",
      "execution_count": null,
      "metadata": {
        "id": "BQ0zfPoGok4l"
      },
      "outputs": [],
      "source": [
        "# mask.squeeze().shape, pred_labels.squeeze().shape"
      ]
    },
    {
      "cell_type": "code",
      "execution_count": null,
      "metadata": {
        "id": "Ty3w0m8vqHSo"
      },
      "outputs": [],
      "source": [
        "# torch.flatten(mask.squeeze()).shape, torch.flatten(pred_labels.squeeze().detach().cpu()).shape"
      ]
    },
    {
      "cell_type": "code",
      "execution_count": null,
      "metadata": {
        "id": "1OsLTUYdoWz4"
      },
      "outputs": [],
      "source": [
        "# mask0 = torch.flatten(mask.squeeze())\n",
        "# pred_labels0 = torch.flatten(pred_labels.squeeze().detach().cpu())\n",
        "# print(accuracy_fn(mask0 , pred_labels0))"
      ]
    },
    {
      "cell_type": "markdown",
      "metadata": {
        "id": "K136b3eqK2S5"
      },
      "source": [
        "### Evaluation Metric"
      ]
    },
    {
      "cell_type": "code",
      "execution_count": null,
      "metadata": {
        "id": "zlWOcwQdK2S5"
      },
      "outputs": [],
      "source": [
        "def metric(probability, truth, threshold=0.5, reduction='none'):\n",
        "    batch_size = len(truth)\n",
        "    with torch.no_grad():\n",
        "        probability = probability.view(batch_size, -1)\n",
        "        truth = truth.view(batch_size, -1)\n",
        "        assert(probability.shape == truth.shape)\n",
        "\n",
        "        p = (probability > threshold).float()\n",
        "        t = (truth > 0.5).float()\n",
        "\n",
        "        t_sum = t.sum(-1)\n",
        "        p_sum = p.sum(-1)\n",
        "        neg_index = torch.nonzero(t_sum == 0)\n",
        "        pos_index = torch.nonzero(t_sum >= 1)\n",
        "\n",
        "        dice_neg = (p_sum == 0).float()\n",
        "        dice_pos = 2 * (p*t).sum(-1)/((p+t).sum(-1))\n",
        "\n",
        "        dice_neg = dice_neg[neg_index]\n",
        "        dice_pos = dice_pos[pos_index]\n",
        "        dice = torch.cat([dice_pos, dice_neg])\n",
        "\n",
        "        num_neg = len(neg_index)\n",
        "        num_pos = len(pos_index)\n",
        "\n",
        "    return dice"
      ]
    },
    {
      "cell_type": "code",
      "execution_count": null,
      "metadata": {
        "id": "ww6ftfKmK2S5"
      },
      "outputs": [],
      "source": [
        "def evaluate(valid_loader, model, device=DEVICE, metric=dice_metric):\n",
        "    losses = AverageMeter()\n",
        "    \"\"\"variable is named wrongly, there is no concept of loss validation.\n",
        "       It should be dice_scores cuz in the validation phase, dice score is calculated\n",
        "       to evaluate the performance of the model. Based on the dice score, early stopping function prevents overfitting.\n",
        "    \"\"\"\n",
        "    # Lists to store batch-to-batch progress details within the epoch while training\n",
        "    batch_count_val = []\n",
        "    batch_val_score_values = []\n",
        "\n",
        "    model = model.to(device)\n",
        "    model.eval()\n",
        "    tk0 = tqdm(valid_loader, total=len(valid_loader))\n",
        "    with torch.inference_mode():\n",
        "        for b_idx, data in enumerate(tk0):\n",
        "          batch_count_val.append(b_idx)\n",
        "          for key, value in data.items():\n",
        "            data[key] = value.to(device)\n",
        "          out   = model(data['image']) # Raw model output\n",
        "          out   = torch.sigmoid(out) # Prediction probabilities\n",
        "          dice  = metric(out, data['mask'].unsqueeze(1)).cpu() # mask shape = out shape = torch.Size([8, 1, 512, 512])\n",
        "          losses.update(dice.mean().item(), valid_loader.batch_size)\n",
        "          batch_val_score_values.append(losses.avg)\n",
        "          tk0.set_postfix(dice_score=losses.avg)\n",
        "    return losses.avg, batch_count_val, batch_val_score_values"
      ]
    },
    {
      "cell_type": "code",
      "execution_count": null,
      "metadata": {
        "id": "0nGwDvcEK2S5",
        "scrolled": true
      },
      "outputs": [],
      "source": [
        "# if PRETRAINED:\n",
        "#     model.load_state_dict(torch.load(PRETRAINED_PATH))"
      ]
    },
    {
      "cell_type": "code",
      "execution_count": null,
      "metadata": {
        "id": "Fn0XAwlyK2S6",
        "colab": {
          "base_uri": "https://localhost:8080/",
          "height": 140
        },
        "outputId": "7fd975e5-6072-4e55-d01e-7ea51aca4fd5"
      },
      "outputs": [
        {
          "output_type": "execute_result",
          "data": {
            "text/plain": [
              "\"The code you provided defines a learning rate scheduler using the `MultiStepLR` class from PyTorch's `torch.optim.lr_scheduler` module. Here's a breakdown of what it does:\\n\\n* **`scheduler = torch.optim.lr_scheduler.MultiStepLR(...)`**: This line creates a new learning rate scheduler object.\\n* **`optimizer`**: This is the optimizer object used for training the model. The scheduler works in conjunction with the optimizer to adjust the learning rate during training.\\n* **`milestones=[3,5,6,7,8,9,10,11,13,15]`**: This defines a list of epochs (iterations) at which the learning rate will be decreased. In this case, the learning rate will be adjusted at epochs 3, 5, 6, 7, 8, 9, 10, 11, 13, and 15.\\n* **`gamma=0.75`**: This parameter defines the factor by which the learning rate will be multiplied after each milestone epoch. Here, `gamma` is set to 0.75, which means the learning rate will be reduced by 25% (1 - 0.75) at each milestone epoch.\\n\\n**How it Works:**\\n\\n* During training, the `scheduler.step()` method is called after each epoch (typically within the main training loop).\\n* Based on the current epoch number, the scheduler checks if it coincides with any of the milestones defined in the `milestones` list.\\n* If a milestone is reached, the scheduler updates the learning rate of the optimizer by multiplying it by `gamma`. In this case, the learning rate will be decreased by 25%.\\n* This way, the learning rate gradually decreases throughout training, which can help the model converge and prevent overfitting.\\n\\n**Additional Notes:**\\n\\n* `MultiStepLR` is a simple and effective scheduler for learning rate decay. However, there are other more sophisticated schedulers available in PyTorch that can adapt the learning rate more dynamically based on the training progress.\\n* The choice of milestones and `gamma` value depends on the specific problem and dataset you're working with. Experimentation might be needed to find the optimal configuration for your task.\""
            ],
            "application/vnd.google.colaboratory.intrinsic+json": {
              "type": "string"
            }
          },
          "metadata": {},
          "execution_count": 31
        }
      ],
      "source": [
        "optimizer = torch.optim.Adam(model.parameters(), lr= LEARNING_RATE)\n",
        "scheduler = torch.optim.lr_scheduler.MultiStepLR(\n",
        "    optimizer, milestones=[3,5,6,7,8,9,10,11,13,15], gamma=0.75)\n",
        "\"\"\"The code you provided defines a learning rate scheduler using the `MultiStepLR` class from PyTorch's `torch.optim.lr_scheduler` module. Here's a breakdown of what it does:\n",
        "\n",
        "* **`scheduler = torch.optim.lr_scheduler.MultiStepLR(...)`**: This line creates a new learning rate scheduler object.\n",
        "* **`optimizer`**: This is the optimizer object used for training the model. The scheduler works in conjunction with the optimizer to adjust the learning rate during training.\n",
        "* **`milestones=[3,5,6,7,8,9,10,11,13,15]`**: This defines a list of epochs (iterations) at which the learning rate will be decreased. In this case, the learning rate will be adjusted at epochs 3, 5, 6, 7, 8, 9, 10, 11, 13, and 15.\n",
        "* **`gamma=0.75`**: This parameter defines the factor by which the learning rate will be multiplied after each milestone epoch. Here, `gamma` is set to 0.75, which means the learning rate will be reduced by 25% (1 - 0.75) at each milestone epoch.\n",
        "\n",
        "**How it Works:**\n",
        "\n",
        "* During training, the `scheduler.step()` method is called after each epoch (typically within the main training loop).\n",
        "* Based on the current epoch number, the scheduler checks if it coincides with any of the milestones defined in the `milestones` list.\n",
        "* If a milestone is reached, the scheduler updates the learning rate of the optimizer by multiplying it by `gamma`. In this case, the learning rate will be decreased by 25%.\n",
        "* This way, the learning rate gradually decreases throughout training, which can help the model converge and prevent overfitting.\n",
        "\n",
        "**Additional Notes:**\n",
        "\n",
        "* `MultiStepLR` is a simple and effective scheduler for learning rate decay. However, there are other more sophisticated schedulers available in PyTorch that can adapt the learning rate more dynamically based on the training progress.\n",
        "* The choice of milestones and `gamma` value depends on the specific problem and dataset you're working with. Experimentation might be needed to find the optimal configuration for your task.\"\"\""
      ]
    },
    {
      "cell_type": "markdown",
      "metadata": {
        "id": "iIG1WoeHK2S6"
      },
      "source": [
        "### Train model"
      ]
    },
    {
      "cell_type": "code",
      "execution_count": null,
      "metadata": {
        "id": "Kv1SCQ_0K2S6"
      },
      "outputs": [],
      "source": [
        "criterion = MixedLoss(10.0, 2.0) if not USE_CRIT else CRITERION\n",
        "#criterion = MixedLoss(10.0, 2.0)\n",
        "es = EarlyStopping(patience=10, mode='max')"
      ]
    },
    {
      "cell_type": "code",
      "execution_count": null,
      "metadata": {
        "colab": {
          "base_uri": "https://localhost:8080/"
        },
        "id": "E_GoOfhJK2S6",
        "outputId": "efd31e26-0946-4026-9a8f-0d0d62bbb44f",
        "scrolled": true
      },
      "outputs": [
        {
          "output_type": "execute_result",
          "data": {
            "text/plain": [
              "ComboLoss(\n",
              "  (bce): StableBCELoss()\n",
              "  (dice): DiceLoss()\n",
              "  (jaccard): JaccardLoss()\n",
              "  (lovasz): LovaszLoss()\n",
              "  (lovasz_sigmoid): LovaszLossSigmoid()\n",
              "  (focal): FocalLoss2d()\n",
              ")"
            ]
          },
          "metadata": {},
          "execution_count": 33
        }
      ],
      "source": [
        "criterion"
      ]
    },
    {
      "cell_type": "code",
      "execution_count": null,
      "metadata": {
        "id": "ypne222KBjPe"
      },
      "outputs": [],
      "source": [
        "# # memory footprint support libraries/code\n",
        "# !ln -sf /opt/bin/nvidia-smi /usr/bin/nvidia-smi\n",
        "# !pip install gputil\n",
        "# !pip install psutil\n",
        "# !pip install humanize\n",
        "# import psutil\n",
        "# import humanize\n",
        "# import os\n",
        "# import GPUtil as GPU\n",
        "\n",
        "# GPUs = GPU.getGPUs()\n",
        "# # XXX: only one GPU on Colab and isn’t guaranteed\n",
        "# gpu = GPUs[0]\n",
        "# def printm():\n",
        "#  process = psutil.Process(os.getpid())\n",
        "#  print(\"Gen RAM Free: \" + humanize.naturalsize( psutil.virtual_memory().available ), \" | Proc size: \" + humanize.naturalsize( process.memory_info().rss))\n",
        "#  print(\"GPU RAM Free: {0:.0f}MB | Used: {1:.0f}MB | Util {2:3.0f}% | Total {3:.0f}MB\".format(gpu.memoryFree, gpu.memoryUsed, gpu.memoryUtil*100, gpu.memoryTotal))\n",
        "# printm()"
      ]
    },
    {
      "cell_type": "code",
      "execution_count": null,
      "metadata": {
        "id": "_xJp3Sr3A8r6"
      },
      "outputs": [],
      "source": [
        "# def eval_confusion_matrix(valid_loader, model, device=DEVICE, batch_files=batch_files):\n",
        "#     roc = []\n",
        "#     model = model.to(device)\n",
        "#     model.eval()\n",
        "#     tk0 = tqdm(valid_loader, total=len(valid_loader))\n",
        "#     with torch.no_grad():\n",
        "#         for b_idx, data in enumerate(tk0):\n",
        "#             for key, value in data.items():\n",
        "#                 data[key] = value.to(device)\n",
        "#             out   = model(data['image'])\n",
        "\n",
        "#             # N-modifications\n",
        "#             batch_files.append((out.cpu().detach().numpy(), (data[\"mask\"]).unsqueeze(1).cpu().detach().numpy()))\n",
        "#             # - - - - - - - - - - - - - - - -"
      ]
    },
    {
      "cell_type": "code",
      "execution_count": null,
      "metadata": {
        "id": "TXVGSXZvnXU8"
      },
      "outputs": [],
      "source": [
        "# def plot_roc(roc):\n",
        "#   x_values = [x for x,y in roc]\n",
        "#   y_values = [y for x,y in roc]\n",
        "#   plt.style.use(\"seaborn-v0_8\")\n",
        "#   fig, ax = plt.subplots()\n",
        "#   ax.plot(x_values, y_values)\n",
        "#   ax.set_title(\"ROC Curve\", fontsize=20)\n",
        "#   ax.set_xlabel(\"false-positive-rate\", fontsize=14)\n",
        "#   ax.set_ylabel(\"true-positive-rate\", fontsize=14)\n",
        "#   ax.tick_params(axis='both', labelsize=14)\n",
        "#   plt.show()"
      ]
    },
    {
      "cell_type": "code",
      "source": [
        "MODEL_PATH = Path(\"/content/drive/MyDrive/Saved Models/Model_22_02_2024.tar\")\n",
        "#Resume Training\n",
        "checkpoint = torch.load(MODEL_PATH)\n",
        "model.load_state_dict(checkpoint[\"model_state_dict\"])\n",
        "optimizer.load_state_dict(checkpoint[\"optimizer_state_dict\"])"
      ],
      "metadata": {
        "id": "1gTX4zhqJrL1"
      },
      "execution_count": null,
      "outputs": []
    },
    {
      "cell_type": "code",
      "execution_count": null,
      "metadata": {
        "colab": {
          "base_uri": "https://localhost:8080/"
        },
        "id": "0bPiRNBuK2S6",
        "outputId": "fbc8b67c-f999-4343-e175-a20cf2b6da0f",
        "scrolled": false
      },
      "outputs": [
        {
          "output_type": "stream",
          "name": "stderr",
          "text": [
            "100%|██████████| 1159/1159 [10:47<00:00,  1.79it/s, learning_rate=0.0001, loss=0.74]\n",
            "100%|██████████| 290/290 [00:55<00:00,  5.20it/s, dice_score=0.049]\n"
          ]
        },
        {
          "output_type": "stream",
          "name": "stdout",
          "text": [
            "EPOCH: 0, TRAIN LOSS: 0.7400575431212687, VAL DICE: 0.04900789770843654\n",
            "Validation score improved (0.03294069796292802 --> 0.04900789770843654). Model saved at at /content/drive/MyDrive/Colab_Notebooks/datasets/archive_png_siim_acr/bst_model512_fold4_0.049.bin!\n"
          ]
        }
      ],
      "source": [
        "MODEL_PATH = Path(\"/content/drive/MyDrive/Saved Models/Model_22_02_2024.tar\")\n",
        "#Resume Training\n",
        "checkpoint = torch.load(MODEL_PATH)\n",
        "model.load_state_dict(checkpoint[\"model_state_dict\"])\n",
        "optimizer.load_state_dict(checkpoint[\"optimizer_state_dict\"])\n",
        "# epoch = checkpoint[\"Epoch\"]\n",
        "# train_loss_per_epoch = checkpoint[\"Train Loss\"]\n",
        "\n",
        "model.train()\n",
        "# Lists to store epoch-to-epoch progress details\n",
        "epoch_count = []\n",
        "loss_values = []\n",
        "val_score_values = []\n",
        "\n",
        "# Training Loop\n",
        "for epoch in range(EPOCHS):\n",
        "    epoch_count.append(epoch)\n",
        "    loss, batch_count_train, batch_train_loss = train_one_epoch(train_dataloader, model, optimizer, criterion)\n",
        "    loss_values.append(loss)\n",
        "\n",
        "    dice, batch_count_val, batch_val_score_values = evaluate(val_dataloader, model, metric=metric) # Evaluates model performance by calculating the dice coefficient/ F1 score/ dice score\n",
        "    val_score_values.append(dice)\n",
        "    scheduler.step() # Decreases LR by 25% when current epoch in milestones.\n",
        "    print(f\"EPOCH: {epoch}, TRAIN LOSS: {loss}, VAL DICE: {dice}\")\n",
        "\n",
        "    \"\"\"\" If it is necessary to save model's state dict as checkpoint, do the essential changes\n",
        "         in Early Stopping class.\"\"\"\n",
        "\n",
        "    es(dice, model, model_path=f\"/content/drive/MyDrive/Colab_Notebooks/datasets/archive_png_siim_acr/bst_model{IMG_SIZE}_fold{FOLD_ID}_{np.round(dice,4)}.bin\")\n",
        "    best_model = f\"/content/drive/MyDrive/Colab_Notebooks/datasets/archive_png_siim_acr/bst_model{IMG_SIZE}__fold{FOLD_ID}_{np.round(es.best_score,4)}.bin\"\n",
        "    if es.early_stop:\n",
        "        print('\\n\\n -------------- EARLY STOPPING -------------- \\n\\n')\n",
        "        break"
      ]
    },
    {
      "cell_type": "code",
      "source": [
        "print(type(batch_train_loss[1]))"
      ],
      "metadata": {
        "colab": {
          "base_uri": "https://localhost:8080/"
        },
        "id": "C3-YdEQX_Ajn",
        "outputId": "38aedfe4-a3f5-41cd-8514-14b422ac71c2"
      },
      "execution_count": null,
      "outputs": [
        {
          "output_type": "stream",
          "name": "stdout",
          "text": [
            "<class 'float'>\n"
          ]
        }
      ]
    },
    {
      "cell_type": "code",
      "execution_count": null,
      "metadata": {
        "colab": {
          "base_uri": "https://localhost:8080/",
          "height": 538
        },
        "id": "QdM0s1YwkDJU",
        "outputId": "ea989c2c-4e4d-401b-906f-947c64365b75"
      },
      "outputs": [
        {
          "output_type": "display_data",
          "data": {
            "text/plain": [
              "<Figure size 800x550 with 1 Axes>"
            ],
            "image/png": "[encoded data removed]"
          },
          "metadata": {}
        }
      ],
      "source": [
        "# Visualization of batch-to-batch progress while training\n",
        "plt.style.use(\"seaborn-v0_8\")\n",
        "fig, ax = plt.subplots()\n",
        "ax.plot(batch_count_train, batch_train_loss)\n",
        "ax.set_title(\"Training Loss Curve\", fontsize=20)\n",
        "ax.set_xlabel(\"batch number\", fontsize=14)\n",
        "ax.set_ylabel(\"loss value\", fontsize=14)\n",
        "ax.tick_params(axis='both', labelsize=14)\n",
        "plt.show()"
      ]
    },
    {
      "cell_type": "code",
      "execution_count": null,
      "metadata": {
        "colab": {
          "base_uri": "https://localhost:8080/",
          "height": 555
        },
        "id": "ezjlyhRxkDJU",
        "outputId": "ab1afab7-d26e-4d97-c302-f4eceab7ee6e"
      },
      "outputs": [
        {
          "output_type": "stream",
          "name": "stdout",
          "text": [
            "0.22131642699241638\n"
          ]
        },
        {
          "output_type": "display_data",
          "data": {
            "text/plain": [
              "<Figure size 800x550 with 1 Axes>"
            ],
            "image/png": "[encoded data removed]"
          },
          "metadata": {}
        }
      ],
      "source": [
        "# Visualization of batch-to-batch progress while validation\n",
        "print(batch_val_score_values[1])\n",
        "plt.style.use(\"seaborn-v0_8\")\n",
        "fig, ax = plt.subplots()\n",
        "ax.plot(batch_count_val, batch_val_score_values)\n",
        "ax.set_title(\"Validation Dice Score Curve\", fontsize=20)\n",
        "ax.set_xlabel(\"batch number\", fontsize=14)\n",
        "ax.set_ylabel(\"Dice Score\", fontsize=14)\n",
        "ax.tick_params(axis='both', labelsize=14)\n",
        "plt.show()"
      ]
    },
    {
      "cell_type": "markdown",
      "metadata": {
        "id": "Ay8rDOynkDJU"
      },
      "source": [
        "# Testing Loop with external dataset to check GENERALIZABILITY of the model.\n"
      ]
    },
    {
      "cell_type": "code",
      "execution_count": null,
      "metadata": {
        "id": "z0IJeKuakDJU"
      },
      "outputs": [],
      "source": [
        "# Testing Loop with external dataset to check GENERALIZABILITY of the model.\n"
      ]
    },
    {
      "cell_type": "markdown",
      "source": [
        "# Saving Model as Checkpoint in .tar format"
      ],
      "metadata": {
        "id": "v3bIua6-VHh9"
      }
    },
    {
      "cell_type": "code",
      "execution_count": null,
      "metadata": {
        "id": "ofJ40s93NQAU"
      },
      "outputs": [],
      "source": [
        "MODEL_PATH = Path(\"/content/drive/MyDrive/Saved Models/Model_04_03_2024.tar\")\n",
        "torch.save({\"Epoch\": 0, \"Train Loss\": loss, \"Validation Dice Score\": dice, \"model_state_dict\": model.state_dict(), \"optimizer_state_dict\": optimizer.state_dict()}, MODEL_PATH)"
      ]
    },
    {
      "cell_type": "code",
      "source": [
        "checkpoint = torch.load(MODEL_PATH)\n",
        "model.load_state_dict(checkpoint[\"model_state_dict\"])\n",
        "optimizer.load_state_dict(checkpoint[\"optimizer_state_dict\"])\n",
        "epoch = checkpoint[\"Epoch\"]\n",
        "train_loss_per_epoch = checkpoint[\"Train Loss\"]"
      ],
      "metadata": {
        "id": "8fX8-PlGSjcQ"
      },
      "execution_count": null,
      "outputs": []
    },
    {
      "cell_type": "markdown",
      "source": [
        "# Sample Predictions after 1 epoch"
      ],
      "metadata": {
        "id": "iOQs9Sy2VBHR"
      }
    },
    {
      "cell_type": "code",
      "source": [
        "model.to(DEVICE)\n",
        "model.eval()\n",
        "mask = train_dataset[2128][\"mask\"].unsqueeze(0).unsqueeze(1).float()\n",
        "print(\"Mask Shape: \",mask.shape)\n",
        "image = train_dataset[2128][\"image\"].unsqueeze(0)\n",
        "print(\"Image Shape: \",image.shape)\n",
        "raw_output = model(image.to(DEVICE))\n",
        "print(\"raw output shape: \", raw_output.shape)\n",
        "print(\"------ Raw Output ------\")\n",
        "print(raw_output)\n",
        "print(\"------- Pred Probs -------\")\n",
        "pred_probs = torch.sigmoid(raw_output)\n",
        "print(pred_probs)\n",
        "print(\"------- How does the Mask look like? ------\")\n",
        "print(mask)\n",
        "print(\"-------- pred labels --------\")\n",
        "pred_labels = torch.round(pred_probs)\n",
        "print(pred_labels)"
      ],
      "metadata": {
        "colab": {
          "base_uri": "https://localhost:8080/"
        },
        "id": "RnM0qtplSwyW",
        "outputId": "92ffe146-ce24-4aa4-c683-d953c0aa44e8"
      },
      "execution_count": null,
      "outputs": [
        {
          "output_type": "stream",
          "name": "stdout",
          "text": [
            "Mask Shape:  torch.Size([1, 1, 512, 512])\n",
            "Image Shape:  torch.Size([1, 3, 512, 512])\n",
            "raw output shape:  torch.Size([1, 1, 512, 512])\n",
            "------ Raw Output ------\n",
            "tensor([[[[-1.1592, -1.4239, -1.1918,  ..., -1.4759, -1.0300, -0.5388],\n",
            "          [-0.5292, -1.3738, -1.5623,  ..., -1.6544, -1.0337, -0.9363],\n",
            "          [-0.7236, -0.7984, -1.3921,  ..., -1.4584, -1.0715, -1.0310],\n",
            "          ...,\n",
            "          [-0.7959, -0.6220, -0.7714,  ..., -0.5883, -0.4137, -0.7312],\n",
            "          [-0.5845, -0.4826, -0.8784,  ..., -0.8689, -0.5380, -0.5670],\n",
            "          [-0.9723, -1.1641, -0.6526,  ..., -0.9459, -0.7301, -0.8147]]]],\n",
            "       device='cuda:0', grad_fn=<ConvolutionBackward0>)\n",
            "------- Pred Probs -------\n",
            "tensor([[[[0.2388, 0.1941, 0.2329,  ..., 0.1860, 0.2631, 0.3685],\n",
            "          [0.3707, 0.2020, 0.1733,  ..., 0.1605, 0.2624, 0.2816],\n",
            "          [0.3266, 0.3104, 0.1991,  ..., 0.1887, 0.2551, 0.2629],\n",
            "          ...,\n",
            "          [0.3109, 0.3493, 0.3162,  ..., 0.3570, 0.3980, 0.3249],\n",
            "          [0.3579, 0.3816, 0.2935,  ..., 0.2955, 0.3686, 0.3619],\n",
            "          [0.2744, 0.2379, 0.3424,  ..., 0.2797, 0.3252, 0.3069]]]],\n",
            "       device='cuda:0', grad_fn=<SigmoidBackward0>)\n",
            "------- How does the Mask look like? ------\n",
            "tensor([[[[0., 0., 0.,  ..., 0., 0., 0.],\n",
            "          [0., 0., 0.,  ..., 0., 0., 0.],\n",
            "          [0., 0., 0.,  ..., 0., 0., 0.],\n",
            "          ...,\n",
            "          [0., 0., 0.,  ..., 0., 0., 0.],\n",
            "          [0., 0., 0.,  ..., 0., 0., 0.],\n",
            "          [0., 0., 0.,  ..., 0., 0., 0.]]]])\n",
            "-------- pred labels --------\n",
            "tensor([[[[0., 0., 0.,  ..., 0., 0., 0.],\n",
            "          [0., 0., 0.,  ..., 0., 0., 0.],\n",
            "          [0., 0., 0.,  ..., 0., 0., 0.],\n",
            "          ...,\n",
            "          [0., 0., 0.,  ..., 0., 0., 0.],\n",
            "          [0., 0., 0.,  ..., 0., 0., 0.],\n",
            "          [0., 0., 0.,  ..., 0., 0., 0.]]]], device='cuda:0',\n",
            "       grad_fn=<RoundBackward0>)\n"
          ]
        }
      ]
    },
    {
      "cell_type": "code",
      "source": [
        "plt.style.use(\"classic\")"
      ],
      "metadata": {
        "id": "iAzD4mVaTYJg"
      },
      "execution_count": null,
      "outputs": []
    },
    {
      "cell_type": "code",
      "source": [
        "plt.imshow(mask.squeeze().detach().cpu().numpy(), cmap = 'gray')\n",
        "print(mask.squeeze().shape)\n",
        "plt.title(mask);"
      ],
      "metadata": {
        "colab": {
          "base_uri": "https://localhost:8080/",
          "height": 573
        },
        "id": "tS4Lttr2TLad",
        "outputId": "7042b6cc-6170-4c92-b6ea-d986438272ee"
      },
      "execution_count": null,
      "outputs": [
        {
          "output_type": "stream",
          "name": "stdout",
          "text": [
            "torch.Size([512, 512])\n"
          ]
        },
        {
          "output_type": "display_data",
          "data": {
            "text/plain": [
              "<Figure size 640x480 with 1 Axes>"
            ],
            "image/png": "[encoded data removed]"
          },
          "metadata": {}
        }
      ]
    },
    {
      "cell_type": "code",
      "source": [
        "print(pred_labels.squeeze().shape)\n",
        "plt.imshow(pred_labels.squeeze().detach().cpu().numpy(), cmap='gray')\n",
        "plt.title(pred_labels);"
      ],
      "metadata": {
        "colab": {
          "base_uri": "https://localhost:8080/",
          "height": 590
        },
        "id": "_X9nSoL1TNw_",
        "outputId": "fb0bdce7-9af2-48a6-979d-2f63718208ae"
      },
      "execution_count": null,
      "outputs": [
        {
          "output_type": "stream",
          "name": "stdout",
          "text": [
            "torch.Size([512, 512])\n"
          ]
        },
        {
          "output_type": "display_data",
          "data": {
            "text/plain": [
              "<Figure size 640x480 with 1 Axes>"
            ],
            "image/png": "[encoded data removed]"
          },
          "metadata": {}
        }
      ]
    },
    {
      "cell_type": "code",
      "source": [
        "print(type(pred_probs), type(mask))\n",
        "print(pred_probs.shape, mask.shape)"
      ],
      "metadata": {
        "colab": {
          "base_uri": "https://localhost:8080/"
        },
        "id": "xi-kZiELUV79",
        "outputId": "3dc2427c-276c-4801-82df-7071c87d84f5"
      },
      "execution_count": null,
      "outputs": [
        {
          "output_type": "stream",
          "name": "stdout",
          "text": [
            "<class 'torch.Tensor'> <class 'torch.Tensor'>\n",
            "torch.Size([1, 1, 512, 512]) torch.Size([1, 1, 512, 512])\n"
          ]
        }
      ]
    },
    {
      "cell_type": "code",
      "source": [
        "Dice = metric(pred_probs.detach().cpu(), mask).item()\n",
        "print(f\"Dice score: {Dice}\")"
      ],
      "metadata": {
        "colab": {
          "base_uri": "https://localhost:8080/"
        },
        "id": "7kiIFEw2TPZn",
        "outputId": "d9c6aa08-ca68-4c50-99e5-b35a3644c449"
      },
      "execution_count": null,
      "outputs": [
        {
          "output_type": "stream",
          "name": "stdout",
          "text": [
            "Dice score: 0.16267405450344086\n"
          ]
        }
      ]
    }
  ],
  "metadata": {
    "accelerator": "GPU",
    "colab": {
      "collapsed_sections": [
        "Y7HFiESzDWcY",
        "7xtZrBIJeLH_",
        "A-y8ovXEK2St",
        "od_pZDUoK2Su",
        "6-dcysMmK2Sw",
        "pP_v6Oy8K2Sx",
        "Vzze2VhIK2S5"
      ],
      "gpuType": "T4",
      "provenance": []
    },
    "kernelspec": {
      "display_name": "Python 3",
      "name": "python3"
    },
    "language_info": {
      "codemirror_mode": {
        "name": "ipython",
        "version": 3
      },
      "file_extension": ".py",
      "mimetype": "text/x-python",
      "name": "python",
      "nbconvert_exporter": "python",
      "pygments_lexer": "ipython3",
      "version": "3.6.9"
    },
    "toc": {
      "base_numbering": 1,
      "nav_menu": {},
      "number_sections": true,
      "sideBar": true,
      "skip_h1_title": false,
      "title_cell": "Table of Contents",
      "title_sidebar": "Contents",
      "toc_cell": false,
      "toc_position": {
        "height": "calc(100% - 180px)",
        "left": "10px",
        "top": "150px",
        "width": "165px"
      },
      "toc_section_display": true,
      "toc_window_display": false
    }
  },
  "nbformat": 4,
  "nbformat_minor": 0
}