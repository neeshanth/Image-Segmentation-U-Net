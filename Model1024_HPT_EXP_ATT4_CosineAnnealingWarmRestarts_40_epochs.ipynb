{
  "cells": [
    {
      "cell_type": "markdown",
      "metadata": {
        "id": "kvvmWRaJllNP"
      },
      "source": [
        "Available: 47.68 compute units"
      ]
    },
    {
      "cell_type": "markdown",
      "metadata": {
        "id": "sY48Ap7wK2Sn"
      },
      "source": [
        "PNEUMOTHORAX SEGMENTATION USING SIIM-ACR DATASET"
      ]
    },
    {
      "cell_type": "code",
      "execution_count": 1,
      "metadata": {
        "colab": {
          "base_uri": "https://localhost:8080/"
        },
        "id": "ZMmEp3gqUyn1",
        "outputId": "67a53414-3c93-41e9-f478-f55460c7c064"
      },
      "outputs": [
        {
          "name": "stdout",
          "output_type": "stream",
          "text": [
            "Mounted at /content/drive\n"
          ]
        }
      ],
      "source": [
        "from google.colab import drive\n",
        "drive.mount('/content/drive')"
      ]
    },
    {
      "cell_type": "code",
      "execution_count": 2,
      "metadata": {
        "colab": {
          "base_uri": "https://localhost:8080/"
        },
        "id": "Y_qWc-LUIJCv",
        "outputId": "25d6cc91-6060-415b-8626-2aadb269d8df"
      },
      "outputs": [
        {
          "name": "stdout",
          "output_type": "stream",
          "text": [
            "Collecting git+https://github.com/qubvel/segmentation_models.pytorch\n",
            "  Cloning https://github.com/qubvel/segmentation_models.pytorch to /tmp/pip-req-build-9b80v2ot\n",
            "  Running command git clone --filter=blob:none --quiet https://github.com/qubvel/segmentation_models.pytorch /tmp/pip-req-build-9b80v2ot\n",
            "  Resolved https://github.com/qubvel/segmentation_models.pytorch to commit bd7f877fec51309a1a7de7670aed232954450037\n",
            "  Installing build dependencies ... \u001b[?25l\u001b[?25hdone\n",
            "  Getting requirements to build wheel ... \u001b[?25l\u001b[?25hdone\n",
            "  Preparing metadata (pyproject.toml) ... \u001b[?25l\u001b[?25hdone\n",
            "Requirement already satisfied: torchvision>=0.5.0 in /usr/local/lib/python3.10/dist-packages (from segmentation_models_pytorch==0.3.4.dev0) (0.18.0+cu121)\n",
            "Collecting pretrainedmodels==0.7.4 (from segmentation_models_pytorch==0.3.4.dev0)\n",
            "  Downloading pretrainedmodels-0.7.4.tar.gz (58 kB)\n",
            "\u001b[2K     \u001b[90m━━━━━━━━━━━━━━━━━━━━━━━━━━━━━━━━━━━━━━━━\u001b[0m \u001b[32m58.8/58.8 kB\u001b[0m \u001b[31m2.3 MB/s\u001b[0m eta \u001b[36m0:00:00\u001b[0m\n",
            "\u001b[?25h  Preparing metadata (setup.py) ... \u001b[?25l\u001b[?25hdone\n",
            "Collecting efficientnet-pytorch==0.7.1 (from segmentation_models_pytorch==0.3.4.dev0)\n",
            "  Downloading efficientnet_pytorch-0.7.1.tar.gz (21 kB)\n",
            "  Preparing metadata (setup.py) ... \u001b[?25l\u001b[?25hdone\n",
            "Collecting timm==0.9.7 (from segmentation_models_pytorch==0.3.4.dev0)\n",
            "  Downloading timm-0.9.7-py3-none-any.whl (2.2 MB)\n",
            "\u001b[2K     \u001b[90m━━━━━━━━━━━━━━━━━━━━━━━━━━━━━━━━━━━━━━━━\u001b[0m \u001b[32m2.2/2.2 MB\u001b[0m \u001b[31m25.2 MB/s\u001b[0m eta \u001b[36m0:00:00\u001b[0m\n",
            "\u001b[?25hRequirement already satisfied: tqdm in /usr/local/lib/python3.10/dist-packages (from segmentation_models_pytorch==0.3.4.dev0) (4.66.4)\n",
            "Requirement already satisfied: pillow in /usr/local/lib/python3.10/dist-packages (from segmentation_models_pytorch==0.3.4.dev0) (9.4.0)\n",
            "Requirement already satisfied: six in /usr/local/lib/python3.10/dist-packages (from segmentation_models_pytorch==0.3.4.dev0) (1.16.0)\n",
            "Requirement already satisfied: torch in /usr/local/lib/python3.10/dist-packages (from efficientnet-pytorch==0.7.1->segmentation_models_pytorch==0.3.4.dev0) (2.3.0+cu121)\n",
            "Collecting munch (from pretrainedmodels==0.7.4->segmentation_models_pytorch==0.3.4.dev0)\n",
            "  Downloading munch-4.0.0-py2.py3-none-any.whl (9.9 kB)\n",
            "Requirement already satisfied: pyyaml in /usr/local/lib/python3.10/dist-packages (from timm==0.9.7->segmentation_models_pytorch==0.3.4.dev0) (6.0.1)\n",
            "Requirement already satisfied: huggingface-hub in /usr/local/lib/python3.10/dist-packages (from timm==0.9.7->segmentation_models_pytorch==0.3.4.dev0) (0.23.4)\n",
            "Requirement already satisfied: safetensors in /usr/local/lib/python3.10/dist-packages (from timm==0.9.7->segmentation_models_pytorch==0.3.4.dev0) (0.4.3)\n",
            "Requirement already satisfied: numpy in /usr/local/lib/python3.10/dist-packages (from torchvision>=0.5.0->segmentation_models_pytorch==0.3.4.dev0) (1.25.2)\n",
            "Requirement already satisfied: filelock in /usr/local/lib/python3.10/dist-packages (from torch->efficientnet-pytorch==0.7.1->segmentation_models_pytorch==0.3.4.dev0) (3.15.4)\n",
            "Requirement already satisfied: typing-extensions>=4.8.0 in /usr/local/lib/python3.10/dist-packages (from torch->efficientnet-pytorch==0.7.1->segmentation_models_pytorch==0.3.4.dev0) (4.12.2)\n",
            "Requirement already satisfied: sympy in /usr/local/lib/python3.10/dist-packages (from torch->efficientnet-pytorch==0.7.1->segmentation_models_pytorch==0.3.4.dev0) (1.12.1)\n",
            "Requirement already satisfied: networkx in /usr/local/lib/python3.10/dist-packages (from torch->efficientnet-pytorch==0.7.1->segmentation_models_pytorch==0.3.4.dev0) (3.3)\n",
            "Requirement already satisfied: jinja2 in /usr/local/lib/python3.10/dist-packages (from torch->efficientnet-pytorch==0.7.1->segmentation_models_pytorch==0.3.4.dev0) (3.1.4)\n",
            "Requirement already satisfied: fsspec in /usr/local/lib/python3.10/dist-packages (from torch->efficientnet-pytorch==0.7.1->segmentation_models_pytorch==0.3.4.dev0) (2023.6.0)\n",
            "Collecting nvidia-cuda-nvrtc-cu12==12.1.105 (from torch->efficientnet-pytorch==0.7.1->segmentation_models_pytorch==0.3.4.dev0)\n",
            "  Using cached nvidia_cuda_nvrtc_cu12-12.1.105-py3-none-manylinux1_x86_64.whl (23.7 MB)\n",
            "Collecting nvidia-cuda-runtime-cu12==12.1.105 (from torch->efficientnet-pytorch==0.7.1->segmentation_models_pytorch==0.3.4.dev0)\n",
            "  Using cached nvidia_cuda_runtime_cu12-12.1.105-py3-none-manylinux1_x86_64.whl (823 kB)\n",
            "Collecting nvidia-cuda-cupti-cu12==12.1.105 (from torch->efficientnet-pytorch==0.7.1->segmentation_models_pytorch==0.3.4.dev0)\n",
            "  Using cached nvidia_cuda_cupti_cu12-12.1.105-py3-none-manylinux1_x86_64.whl (14.1 MB)\n",
            "Collecting nvidia-cudnn-cu12==8.9.2.26 (from torch->efficientnet-pytorch==0.7.1->segmentation_models_pytorch==0.3.4.dev0)\n",
            "  Using cached nvidia_cudnn_cu12-8.9.2.26-py3-none-manylinux1_x86_64.whl (731.7 MB)\n",
            "Collecting nvidia-cublas-cu12==12.1.3.1 (from torch->efficientnet-pytorch==0.7.1->segmentation_models_pytorch==0.3.4.dev0)\n",
            "  Using cached nvidia_cublas_cu12-12.1.3.1-py3-none-manylinux1_x86_64.whl (410.6 MB)\n",
            "Collecting nvidia-cufft-cu12==11.0.2.54 (from torch->efficientnet-pytorch==0.7.1->segmentation_models_pytorch==0.3.4.dev0)\n",
            "  Using cached nvidia_cufft_cu12-11.0.2.54-py3-none-manylinux1_x86_64.whl (121.6 MB)\n",
            "Collecting nvidia-curand-cu12==10.3.2.106 (from torch->efficientnet-pytorch==0.7.1->segmentation_models_pytorch==0.3.4.dev0)\n",
            "  Using cached nvidia_curand_cu12-10.3.2.106-py3-none-manylinux1_x86_64.whl (56.5 MB)\n",
            "Collecting nvidia-cusolver-cu12==11.4.5.107 (from torch->efficientnet-pytorch==0.7.1->segmentation_models_pytorch==0.3.4.dev0)\n",
            "  Using cached nvidia_cusolver_cu12-11.4.5.107-py3-none-manylinux1_x86_64.whl (124.2 MB)\n",
            "Collecting nvidia-cusparse-cu12==12.1.0.106 (from torch->efficientnet-pytorch==0.7.1->segmentation_models_pytorch==0.3.4.dev0)\n",
            "  Using cached nvidia_cusparse_cu12-12.1.0.106-py3-none-manylinux1_x86_64.whl (196.0 MB)\n",
            "Collecting nvidia-nccl-cu12==2.20.5 (from torch->efficientnet-pytorch==0.7.1->segmentation_models_pytorch==0.3.4.dev0)\n",
            "  Using cached nvidia_nccl_cu12-2.20.5-py3-none-manylinux2014_x86_64.whl (176.2 MB)\n",
            "Collecting nvidia-nvtx-cu12==12.1.105 (from torch->efficientnet-pytorch==0.7.1->segmentation_models_pytorch==0.3.4.dev0)\n",
            "  Using cached nvidia_nvtx_cu12-12.1.105-py3-none-manylinux1_x86_64.whl (99 kB)\n",
            "Requirement already satisfied: triton==2.3.0 in /usr/local/lib/python3.10/dist-packages (from torch->efficientnet-pytorch==0.7.1->segmentation_models_pytorch==0.3.4.dev0) (2.3.0)\n",
            "Collecting nvidia-nvjitlink-cu12 (from nvidia-cusolver-cu12==11.4.5.107->torch->efficientnet-pytorch==0.7.1->segmentation_models_pytorch==0.3.4.dev0)\n",
            "  Downloading nvidia_nvjitlink_cu12-12.5.82-py3-none-manylinux2014_x86_64.whl (21.3 MB)\n",
            "\u001b[2K     \u001b[90m━━━━━━━━━━━━━━━━━━━━━━━━━━━━━━━━━━━━━━━━\u001b[0m \u001b[32m21.3/21.3 MB\u001b[0m \u001b[31m44.6 MB/s\u001b[0m eta \u001b[36m0:00:00\u001b[0m\n",
            "\u001b[?25hRequirement already satisfied: packaging>=20.9 in /usr/local/lib/python3.10/dist-packages (from huggingface-hub->timm==0.9.7->segmentation_models_pytorch==0.3.4.dev0) (24.1)\n",
            "Requirement already satisfied: requests in /usr/local/lib/python3.10/dist-packages (from huggingface-hub->timm==0.9.7->segmentation_models_pytorch==0.3.4.dev0) (2.31.0)\n",
            "Requirement already satisfied: MarkupSafe>=2.0 in /usr/local/lib/python3.10/dist-packages (from jinja2->torch->efficientnet-pytorch==0.7.1->segmentation_models_pytorch==0.3.4.dev0) (2.1.5)\n",
            "Requirement already satisfied: charset-normalizer<4,>=2 in /usr/local/lib/python3.10/dist-packages (from requests->huggingface-hub->timm==0.9.7->segmentation_models_pytorch==0.3.4.dev0) (3.3.2)\n",
            "Requirement already satisfied: idna<4,>=2.5 in /usr/local/lib/python3.10/dist-packages (from requests->huggingface-hub->timm==0.9.7->segmentation_models_pytorch==0.3.4.dev0) (3.7)\n",
            "Requirement already satisfied: urllib3<3,>=1.21.1 in /usr/local/lib/python3.10/dist-packages (from requests->huggingface-hub->timm==0.9.7->segmentation_models_pytorch==0.3.4.dev0) (2.0.7)\n",
            "Requirement already satisfied: certifi>=2017.4.17 in /usr/local/lib/python3.10/dist-packages (from requests->huggingface-hub->timm==0.9.7->segmentation_models_pytorch==0.3.4.dev0) (2024.6.2)\n",
            "Requirement already satisfied: mpmath<1.4.0,>=1.1.0 in /usr/local/lib/python3.10/dist-packages (from sympy->torch->efficientnet-pytorch==0.7.1->segmentation_models_pytorch==0.3.4.dev0) (1.3.0)\n",
            "Building wheels for collected packages: segmentation_models_pytorch, efficientnet-pytorch, pretrainedmodels\n",
            "  Building wheel for segmentation_models_pytorch (pyproject.toml) ... \u001b[?25l\u001b[?25hdone\n",
            "  Created wheel for segmentation_models_pytorch: filename=segmentation_models_pytorch-0.3.4.dev0-py3-none-any.whl size=109566 sha256=d6eb0d24b842831c3a7c17ca1299d7168b197a6c8ffa17aaf7ea46f73fdf27b3\n",
            "  Stored in directory: /tmp/pip-ephem-wheel-cache-ow7jgreg/wheels/1a/49/5f/858bc2741660e381e83f1d8b297edc4d9f0561f29becaee577\n",
            "  Building wheel for efficientnet-pytorch (setup.py) ... \u001b[?25l\u001b[?25hdone\n",
            "  Created wheel for efficientnet-pytorch: filename=efficientnet_pytorch-0.7.1-py3-none-any.whl size=16429 sha256=6ffc6936a60e260ca264cf1c0e61d10809e0e7fcb637365e63af98c9fbb6117a\n",
            "  Stored in directory: /root/.cache/pip/wheels/03/3f/e9/911b1bc46869644912bda90a56bcf7b960f20b5187feea3baf\n",
            "  Building wheel for pretrainedmodels (setup.py) ... \u001b[?25l\u001b[?25hdone\n",
            "  Created wheel for pretrainedmodels: filename=pretrainedmodels-0.7.4-py3-none-any.whl size=60945 sha256=55c60008eafbb234d1a0f90dcde3a9683c250937df931c917f9e6c74f2fd92d6\n",
            "  Stored in directory: /root/.cache/pip/wheels/35/cb/a5/8f534c60142835bfc889f9a482e4a67e0b817032d9c6883b64\n",
            "Successfully built segmentation_models_pytorch efficientnet-pytorch pretrainedmodels\n",
            "Installing collected packages: nvidia-nvtx-cu12, nvidia-nvjitlink-cu12, nvidia-nccl-cu12, nvidia-curand-cu12, nvidia-cufft-cu12, nvidia-cuda-runtime-cu12, nvidia-cuda-nvrtc-cu12, nvidia-cuda-cupti-cu12, nvidia-cublas-cu12, munch, nvidia-cusparse-cu12, nvidia-cudnn-cu12, nvidia-cusolver-cu12, efficientnet-pytorch, timm, pretrainedmodels, segmentation_models_pytorch\n",
            "Successfully installed efficientnet-pytorch-0.7.1 munch-4.0.0 nvidia-cublas-cu12-12.1.3.1 nvidia-cuda-cupti-cu12-12.1.105 nvidia-cuda-nvrtc-cu12-12.1.105 nvidia-cuda-runtime-cu12-12.1.105 nvidia-cudnn-cu12-8.9.2.26 nvidia-cufft-cu12-11.0.2.54 nvidia-curand-cu12-10.3.2.106 nvidia-cusolver-cu12-11.4.5.107 nvidia-cusparse-cu12-12.1.0.106 nvidia-nccl-cu12-2.20.5 nvidia-nvjitlink-cu12-12.5.82 nvidia-nvtx-cu12-12.1.105 pretrainedmodels-0.7.4 segmentation_models_pytorch-0.3.4.dev0 timm-0.9.7\n"
          ]
        }
      ],
      "source": [
        "!pip install git+https://github.com/qubvel/segmentation_models.pytorch"
      ]
    },
    {
      "cell_type": "markdown",
      "metadata": {
        "id": "Y7HFiESzDWcY"
      },
      "source": [
        "## Importing Libraries"
      ]
    },
    {
      "cell_type": "code",
      "execution_count": 3,
      "metadata": {
        "id": "CUKZcMbBK2Ss"
      },
      "outputs": [],
      "source": [
        "import os\n",
        "import torch\n",
        "import csv\n",
        "import numpy as np\n",
        "import pandas as pd\n",
        "from PIL import Image\n",
        "import cv2\n",
        "import json\n",
        "from pathlib import Path\n",
        "import matplotlib.pyplot as plt\n",
        "# import torchvision\n",
        "from torch.utils.data import DataLoader\n",
        "import torch.nn as nn\n",
        "from collections import defaultdict\n",
        "import albumentations as albu\n",
        "from albumentations.pytorch.transforms import ToTensorV2\n",
        "import torch.nn.functional as F\n",
        "from torch import nn\n",
        "from torch.autograd import Variable\n",
        "\n",
        "import torch.nn.functional as F\n",
        "import torchvision.transforms.functional as TF\n",
        "from sklearn.model_selection import StratifiedKFold\n",
        "from torch.utils.data.sampler import Sampler\n",
        "from torch.nn.utils import clip_grad_norm_\n",
        "from tqdm import tqdm\n",
        "from sklearn.metrics import confusion_matrix, accuracy_score, recall_score, f1_score\n",
        "import torchvision.models as models # NEW MARCH-JUNE EDIT\n",
        "\n",
        "try:\n",
        "    from itertools import ifilterfalse\n",
        "except ImportError:  # py3k\n",
        "    from itertools import filterfalse"
      ]
    },
    {
      "cell_type": "markdown",
      "metadata": {
        "id": "Xfcsl-YW_ck9"
      },
      "source": [
        "## Config - 1"
      ]
    },
    {
      "cell_type": "code",
      "execution_count": 4,
      "metadata": {
        "id": "-vx6RpZ8_bba"
      },
      "outputs": [],
      "source": [
        "IMG_SIZE         = 1024\n",
        "DIR              = \"/content/drive/MyDrive/datasets\"\n",
        "DATA_DIR         = Path(DIR)\n",
        "TRAIN_IMG_DIR    = Path(\"/content/drive/MyDrive/datasets/train_png\")\n",
        "TRAIN_LBL_DIR    = Path(\"/content/drive/MyDrive/datasets/mask\")\n",
        "DATA_FRAME_PATH  = \"/content/drive/MyDrive/datasets/RLE_kfold.csv\"\n",
        "KFOLD_PATH       = \"\"\n",
        "TRAIN_BATCH_SIZE = 8\n",
        "VALID_BATCH_SIZE = 8\n",
        "BATCH_SIZE       = 8\n",
        "EPOCHS           = 50\n",
        "# Path for pretrained model weights\n",
        "TRAINING_MODEL_PATH = \"/content/drive/MyDrive/Saved Models/model1024/Model1024_HPT_EXP_ATT_4_BS_8_PHASE_3_step_1_explore/m_1024_CHECKPOINTS_epoch15_bst_model1024_fold4_0.8294.tar\"\n",
        "USE_SAMPLER      = True\n",
        "POSTIVE_PERC     = 0.4\n",
        "DEVICE           = torch.device(\"cuda\" if torch.cuda.is_available() else \"cpu\")\n",
        "PRETRAINED       = True # False means we're using ImageNet weights, so essentially, it's pretrained & never from scratch!!!!!\n",
        "LEARNING_RATE    = 0.00001\n",
        "NUM_WORKERS      = 12\n",
        "USE_CRIT         = True\n",
        "FOLD_ID          = 4\n",
        "EVAL_METRICS      = [\"metric - it calculates dice coefficient.\"]\n",
        "\n",
        "# Regularization Settings\n",
        "EARLY_STOPPING_PATIENCE = 12\n",
        "L2_WEIGHT_DECAY  = 0.000005\n",
        "GRADIENT_CLIPPING = True\n",
        "GRADIENT_CLIPPING_THRESHOLD = 0.1 # for model trained on 1024x1024\n",
        "\n",
        "# IF U DON'T WANT TO CHANGE Learning rate from previous experiment then set this to True.\n",
        "OPTIMIZER_LOAD = True\n",
        "# U MUST VERIFY IF LR IS GETTING SET PROPERLY FOR THE SCHEDULER IN THE \"OPTIMIZER & SCHEDULER\" SECTION OF THE NOTEBOOK.\n",
        "\n",
        "# Learning Rate Scheduler Settings\n",
        "SCHEDULER        = \"CosineAnnealingWarmRestarts\"\n",
        "if SCHEDULER == \"ReduceLROnPlateau\":\n",
        "    SCHEDULER_PARAMS = {'factor': 0.1, 'patience': 2, 'threshold': 0.0000001, 'min_lr': 0.0000001}\n",
        "elif SCHEDULER == \"CosineAnnealingWarmRestarts\":\n",
        "    SCHEDULER_PARAMS = {'T_0': 1, 'T_mult': 2, 'eta_min': 0.0000001}\n",
        "elif SCHEDULER == \"CosineAnnealingLR\":\n",
        "    SCHEDULER_PARAMS = {'T_max': 8, 'eta_min': 0.0000001}\n",
        "\n",
        "# Thresholds for 1024x1024 is there along with div by 2 values and div by 4 values\n",
        "TRIPLET_THRESHOLDS = [  [0.6, 500.0, 0.35], [0.67, 500.0, 0.37], [0.75, 500.0, 0.3],\n",
        "                        [0.75, 500.0, 0.4], [0.75, 1000.0, 0.3], [0.75, 1000.0, 0.4],\n",
        "                        [0.6, 1000.0, 0.3], [0.6, 1000.0, 0.4], [0.6, 1500.0, 0.3],\n",
        "                        [0.6, 1500.0, 0.4], [0.6, 250.0, 0.35], [0.67, 250.0, 0.37],\n",
        "                        [0.75, 250.0, 0.3], [0.75, 250.0, 0.4], [0.75, 500.0, 0.3],\n",
        "                        [0.75, 500.0, 0.4], [0.6, 500.0, 0.3], [0.6, 500.0, 0.4],\n",
        "                        [0.6, 750.0, 0.3], [0.6, 750.0, 0.4], [0.6, 1000, 0.35],\n",
        "                        [0.67, 1000, 0.37], [0.75, 1000, 0.3], [0.75, 1000, 0.4],\n",
        "                        [0.75, 2000, 0.3], [0.75, 2000, 0.4], [0.6, 2000, 0.3],\n",
        "                        [0.6, 2000, 0.4], [0.6, 3000, 0.3], [0.6, 3000, 0.4]       ]\n",
        "\n",
        "\n",
        "\"\"\"\n",
        "    \"-------------------------------SAVING losses & metrics-------------------------------------\"\n",
        "\"\"\"\n",
        "ACCOUNT         = \"Neeshanth\" # \"Neeshanth\" or \"wonder_boys\" or others\n",
        "PURPOSE         = \"Model1024_HPT_attempting_better_convergence\" # HPT_Exploration/HPT_Finetuning/training/inference/hyperparameter-tuning or hpt OR ANYTHING MORE SPECIFIC\n",
        "EXP_NO          = 'ATT_4.1_BS_8' # hpt experiment with changed settings\n",
        "PHASE           = \"3_step_1_explore\"\n",
        "\n",
        "EFFECTIVE_BATCH_SIZE = 8 # accumulation_steps * BATCH_SIZE\n",
        "\n",
        "\n",
        "if ACCOUNT == \"Neeshanth\":\n",
        "    # Save Config.txt file\n",
        "    CONFIG_FILE_LOC = f\"/content/drive/MyDrive/Saved Models/model1024/{PURPOSE}_EXP_{EXP_NO}_PHASE_{PHASE}/Config.txt\"\n",
        "\n",
        "    # Save model checkpoint using early stopping class\n",
        "    model_checkpoint_path = f\"/content/drive/MyDrive/Saved Models/model1024/{PURPOSE}_EXP_{EXP_NO}_PHASE_{PHASE}/m_{IMG_SIZE}_CHECKPOINTS\"\n",
        "\n",
        "    # Save batch wise comboloss during training\n",
        "    store_batch_training_details_path = f\"/content/drive/MyDrive/Saved Models/model1024/{PURPOSE}_EXP_{EXP_NO}_PHASE_{PHASE}/{PURPOSE}_train_m{IMG_SIZE}_b{EFFECTIVE_BATCH_SIZE}\"\n",
        "    name_of_batch_training_details_csv = f\"{PURPOSE}_TRAIN_{IMG_SIZE}_b_{EFFECTIVE_BATCH_SIZE}_epoch_\" # epoch no. will be added to the end\n",
        "\n",
        "    # Save batch wise comboloss during validation\n",
        "    store_batch_validation_details_path = f\"/content/drive/MyDrive/Saved Models/model1024/{PURPOSE}_EXP_{EXP_NO}_PHASE_{PHASE}/{PURPOSE}_vali_m{IMG_SIZE}_b{EFFECTIVE_BATCH_SIZE}\"\n",
        "    name_of_batch_validation_details_csv = f\"{PURPOSE}_{IMG_SIZE}_b_{EFFECTIVE_BATCH_SIZE}_Validation_Metrics\"\n",
        "\n",
        "    # Save epoch wise train and val losses to monitor overfitting\n",
        "    save_progress_path = f\"/content/drive/MyDrive/Saved Models/model1024/{PURPOSE}_EXP_{EXP_NO}_PHASE_{PHASE}/{PURPOSE}_progress.csv\"\n",
        "\n",
        "    # Save epoch wise dice coefficient\n",
        "    save_dice_score_path = f\"/content/drive/MyDrive/Saved Models/model1024/{PURPOSE}_EXP_{EXP_NO}_PHASE_{PHASE}/{PURPOSE}_dice_scores.csv\"\n",
        "\n",
        "    # Save bce, dice & focal losses separately after training is done\n",
        "    save_3losses_path = f\"/content/drive/MyDrive/Saved Models/model1024/{PURPOSE}_EXP_{EXP_NO}_PHASE_{PHASE}/{PURPOSE}_all_loss_values.csv\"\n",
        "\n",
        "    # Save best thresholds & their dice scores - done according to Triplet Scheme of Binarization\n",
        "    save_best_thresholds_path = f\"/content/drive/MyDrive/Saved Models/model1024/{PURPOSE}_EXP_{EXP_NO}_PHASE_{PHASE}/{PURPOSE}_best_checkpoint_thresholds.csv\"\n",
        "\n",
        "if ACCOUNT == \"wonder_boys\":\n",
        "    # Save batch wise comboloss during training\n",
        "    store_batch_training_details_path = \"/content/drive/MyDrive/Saved Models/Model_{EXP_NO}/hpt_train_m512_b32\"\n",
        "    name_of_batch_training_details_csv = f\"{PURPOSE}_TRAIN_{IMG_SIZE}_b_{EFFECTIVE_BATCH_SIZE}_epoch_\" # epoch no. will be added to the end\n",
        "\n",
        "    # Save batch wise comboloss during validation\n",
        "    store_batch_validation_details_path = f\"/content/drive/MyDrive/Saved Models/Model_{EXP_NO}/hpt_vali_m512_b32\"\n",
        "    name_of_batch_validation_details_csv = f\"{PURPOSE}_{IMG_SIZE}_b_{EFFECTIVE_BATCH_SIZE}_Validation_Metrics\"\n",
        "\n",
        "    # Save epoch wise train and val losses to monitor overfitting\n",
        "    save_progress_path = f\"/content/drive/MyDrive/Saved Models/Model_{EXP_NO}/{PURPOSE}_progress.csv\"\n",
        "\n",
        "    # Save epoch wise dice coefficient\n",
        "    save_dice_score_path = f\"/content/drive/MyDrive/Saved Models/Model_{EXP_NO}/{PURPOSE}_dice_score.csv\"\n",
        "\n",
        "    # Save bce, dice & focal losses separately after training is done\n",
        "    save_3losses_path = f\"/content/drive/MyDrive/Saved Models/Model_{EXP_NO}/{PURPOSE}_all_loss_vals.csv\"\n",
        "\n",
        "    # Save model checkpoint using early stopping class - CREATE A NEW FOLDER\n",
        "    model_checkpoint_path = f\"/content/drive/MyDrive/Saved Models/Model_{EXP_NO}/m_{IMG_SIZE}_CHECKPOINTS\"\n",
        "\n",
        "    # Save best thresholds & their dice scores - done according to Triplet Scheme of Binarization\n",
        "    save_best_thresholds_path = f\"/content/drive/MyDrive/Saved Models/Model_{EXP_NO}/{PURPOSE}_best_checkpoint_thresholds.csv\"\n",
        "\n",
        "if ACCOUNT == \"pc_aathesh\":\n",
        "    # Save batch wise comboloss during training\n",
        "    store_batch_training_details_path = f\"C:\\\\Users\\\\aathe\\\\Google Drive - Wonder Boys\\\\Saved Models\\\\Model_{EXP_NO}\\\\hpt_train_m512_b32\"\n",
        "    name_of_batch_training_details_csv = f\"{PURPOSE}_TRAIN_{IMG_SIZE}_b_{EFFECTIVE_BATCH_SIZE}_epoch_\" # epoch no. will be added to the end\n",
        "\n",
        "    # Save batch wise comboloss during validation\n",
        "    store_batch_validation_details_path = f\"C:\\\\Users\\\\aathe\\\\Google Drive - Wonder Boys\\\\Saved Models\\\\Model_{EXP_NO}\\\\hpt_vali_m512_b32\"\n",
        "    name_of_batch_validation_details_csv = f\"{PURPOSE}_{IMG_SIZE}_b_{EFFECTIVE_BATCH_SIZE}_Validation_Metrics\"\n",
        "\n",
        "    # Save epoch wise train and val losses to monitor overfitting\n",
        "    save_progress_path = f\"C:\\\\Users\\\\aathe\\\\Google Drive - Wonder Boys\\\\Saved Models\\\\Model_{EXP_NO}\\\\hpt_vali_m512_b32\\\\{PURPOSE}_progress.csv\"\n",
        "\n",
        "    # Save epoch wise dice coefficient\n",
        "    save_dice_score_path = f\"C:\\\\Users\\\\aathe\\\\Google Drive - Wonder Boys\\\\Saved Models\\\\Model_{EXP_NO}\\\\{PURPOSE}_dice_score.csv\"\n",
        "\n",
        "    # Save bce, dice & focal losses separately after training is done\n",
        "    save_3losses_path = f\"C:\\\\Users\\\\aathe\\\\Google Drive - Wonder Boys\\\\Saved Models\\\\Model_{EXP_NO}\\\\{PURPOSE}_all_loss_vals.csv\"\n",
        "\n",
        "    # Save model checkpoint using early stopping class - CREATE A NEW FOLDER\n",
        "    model_checkpoint_path = f\"C:\\\\Users\\\\aathe\\\\Google Drive - Wonder Boys\\\\Saved Models\\\\Model_{EXP_NO}\\\\m_{IMG_SIZE}_CHECKPOINTS\"\n",
        "\n",
        "    # Save best thresholds & their dice scores - done according to Triplet Scheme of Binarization\n",
        "    save_best_thresholds_path = f\"C:\\\\Users\\\\aathe\\\\Google Drive - Wonder Boys\\\\Saved Models\\\\Model_{EXP_NO}\\\\{PURPOSE}_best_checkpoint_thresholds.csv\""
      ]
    },
    {
      "cell_type": "markdown",
      "metadata": {
        "id": "3A4XlffPf1jV"
      },
      "source": [
        "## Saving Config as .txt - TYPE ESSENTIAL DETAILS TO RECOVER THIS EXPERIMENT IN THE BELOW SNIPPET"
      ]
    },
    {
      "cell_type": "markdown",
      "metadata": {
        "id": "OB0Igy_Tf1jV"
      },
      "source": [
        "ESSENTIALS include current_notebook_loc_in_pc, previous_notebook_loc_in_pc, key_changes"
      ]
    },
    {
      "cell_type": "code",
      "execution_count": 5,
      "metadata": {
        "colab": {
          "base_uri": "https://localhost:8080/"
        },
        "id": "3likqSVNf1jV",
        "outputId": "1c66c808-9cae-4c99-bf54-bdd26ef521a2"
      },
      "outputs": [
        {
          "name": "stdout",
          "output_type": "stream",
          "text": [
            "Current IST date and time is: 07-07-2024 20:35:04\n"
          ]
        }
      ],
      "source": [
        "from datetime import datetime\n",
        "import pytz\n",
        "\n",
        "# Define the IST timezone\n",
        "ist_timezone = pytz.timezone('Asia/Kolkata')\n",
        "\n",
        "# Get the current time in IST\n",
        "ist_time = datetime.now(ist_timezone)\n",
        "\n",
        "# Format the date and time to DD-MM-YYYY HH:MM:SS\n",
        "formatted_ist_time = ist_time.strftime(\"%d-%m-%Y %H:%M:%S\")\n",
        "\n",
        "# Print the formatted IST time\n",
        "print(\"Current IST date and time is:\", formatted_ist_time)\n"
      ]
    },
    {
      "cell_type": "code",
      "execution_count": 6,
      "metadata": {
        "colab": {
          "base_uri": "https://localhost:8080/"
        },
        "id": "9bwNCwwVf1jV",
        "outputId": "4ccf1c5d-7a6d-47c7-dd17-7774be3dacf3"
      },
      "outputs": [
        {
          "name": "stdout",
          "output_type": "stream",
          "text": [
            "Hyper-parameters have been saved to /content/drive/MyDrive/Saved Models/model1024/Model1024_HPT_EXP_ATT_4_BS_8_PHASE_3_step_1_explore/Config.txt\n"
          ]
        }
      ],
      "source": [
        "# Define your hyper-parameters as a dictionary\n",
        "hyperparameters = {\n",
        "    'image_size': f\"{IMG_SIZE}x{IMG_SIZE}\",\n",
        "    'date': formatted_ist_time,\n",
        "    'account': ACCOUNT,\n",
        "    'purpose': PURPOSE,\n",
        "    'experiment_no': EXP_NO,\n",
        "    'current_notebook_loc_in_pc': \"C:/Users/nisha/Desktop/Research Project March-June/03_07_2024/Model1024/Phase_3_step_1_EXP_4.1_CosineAnnealingWarmRestarts_08_07_2024_1_PM/Model1024_HPT_EXP_ATT4_CosineAnnealingWarmRestarts_40_epochs_07_07_2024_2_PM.ipynb\",\n",
        "    'previous_notebook_loc_in_pc': \"C:/Users/nisha/Desktop/Research Project March-June/03_07_2024/Model1024/Phase_3_step_1_EXP_4_CosineAnnealingWarmRestarts_07_07_2024_8_PM/Model1024_HPT_EXP_ATT4_CosineAnnealingWarmRestarts_40_epochs_07_07_2024_2_PM.ipynb\",\n",
        "    'key_changes': \"Pretrained = ATT_4_BS_8 with 0.8294, OPTIMIZER_LOAD = True, IMG_SIZE = 1024, EARLY_STOPPING_PATIENCE = 12, epochs=50, NUM_WORKERS=12, GRADIENT_CLIPPING: 0.1, BATCH_SIZE=8, SCHEDULER='CosineAnnealingWarmRestarts', POSTIVE_PERC=0.4, LEARNING_RATE = 0.00001, L2_WEIGHT_DECAY  = 0.000005\",\n",
        "    'checkpoint_used_loc': TRAINING_MODEL_PATH,\n",
        "    'is_optimizer_loaded': OPTIMIZER_LOAD,\n",
        "    'learning_rate': LEARNING_RATE,\n",
        "    'batch_size': EFFECTIVE_BATCH_SIZE,\n",
        "    'gradient_accumulation_steps': int(EFFECTIVE_BATCH_SIZE/BATCH_SIZE),\n",
        "    'num_epochs': EPOCHS,\n",
        "    'IsSamplerUsed': USE_SAMPLER,\n",
        "    'percentage_of_positive_samples': POSTIVE_PERC,\n",
        "    'optimizer': 'Adam',\n",
        "    'loss_function': 'ComboLoss',\n",
        "    'scheduler': SCHEDULER,\n",
        "    'scheduler_params': SCHEDULER_PARAMS,\n",
        "    'L2_Regularization_weight_decay':L2_WEIGHT_DECAY,\n",
        "    'early_stopping_patience': EARLY_STOPPING_PATIENCE,\n",
        "    'is_gradient_clipping_used': GRADIENT_CLIPPING,\n",
        "    'gradient_clipping_threshold': GRADIENT_CLIPPING_THRESHOLD,\n",
        "    'model': 'U-Net with ResNet34 encoder with scSE attention',\n",
        "    'training_phase': f\"Phase - {PHASE}\",\n",
        "    'fold_ID': FOLD_ID,\n",
        "    'GPU_name': torch.cuda.get_device_name(torch.cuda.current_device()),\n",
        "    'num_workers': NUM_WORKERS,\n",
        "    'weights_given_to_loss_functions': {'bce': 3, 'dice': 1, 'focal': 4},\n",
        "    'triplet_thresholds': TRIPLET_THRESHOLDS,\n",
        "    'evaluation_metrics': EVAL_METRICS,\n",
        "}\n",
        "\n",
        "# Convert the dictionary to a formatted string\n",
        "hyperparameters_str = json.dumps(hyperparameters, indent=4)\n",
        "\n",
        "# Specify the file name\n",
        "file_name = CONFIG_FILE_LOC\n",
        "\n",
        "os.makedirs(os.path.dirname(file_name), exist_ok=True)\n",
        "\n",
        "# Write the string to a file\n",
        "with open(file_name, 'w') as file:\n",
        "    file.write(hyperparameters_str)\n",
        "\n",
        "print(f\"Hyper-parameters have been saved to {file_name}\")\n"
      ]
    },
    {
      "cell_type": "markdown",
      "metadata": {
        "id": "7xtZrBIJeLH_"
      },
      "source": [
        "## Losses"
      ]
    },
    {
      "cell_type": "code",
      "execution_count": 7,
      "metadata": {
        "id": "BjVO5UiC1z-h"
      },
      "outputs": [],
      "source": [
        "bce_losses = []\n",
        "dice_losses = []\n",
        "focal_losses = []"
      ]
    },
    {
      "cell_type": "code",
      "execution_count": 8,
      "metadata": {
        "id": "-GiUgprmeQ97"
      },
      "outputs": [],
      "source": [
        "eps = 1e-6\n",
        "\n",
        "\n",
        "def soft_dice_loss(outputs, targets, per_image=False, per_channel=False):\n",
        "    \"\"\"\n",
        "        If per_image = False, then the function calculates dice loss for a single image-mask pair.\n",
        "    \"\"\"\n",
        "    batch_size, n_channels = outputs.size(0), outputs.size(1)\n",
        "\n",
        "    eps = 1e-6\n",
        "    n_parts = 1\n",
        "    if per_image:\n",
        "        n_parts = batch_size\n",
        "    if per_channel:\n",
        "        n_parts = batch_size * n_channels\n",
        "\n",
        "    dice_target = targets.contiguous().view(n_parts, -1).float()\n",
        "    dice_output = outputs.contiguous().view(n_parts, -1)\n",
        "    intersection = torch.sum(dice_output * dice_target, dim=1)\n",
        "    union = torch.sum(dice_output, dim=1) + torch.sum(dice_target, dim=1)\n",
        "    loss = (1 - (2 * intersection + eps) / (union + eps)) # returns a tensor of size [8]\n",
        "    return loss.mean() # returns a tensor of size [1].\n",
        "\n",
        "def dice_metric(preds, trues, per_image=False, per_channel=False):\n",
        "    preds = preds.float()\n",
        "    return 1 - soft_dice_loss(preds, trues, per_image, per_channel)\n",
        "\n",
        "\n",
        "def jaccard(outputs, targets, per_image=False, non_empty=False, min_pixels=5):\n",
        "    batch_size = outputs.size()[0]\n",
        "    eps = 1e-3\n",
        "    if not per_image:\n",
        "        batch_size = 1\n",
        "    dice_target = targets.contiguous().view(batch_size, -1).float()\n",
        "    dice_output = outputs.contiguous().view(batch_size, -1)\n",
        "    target_sum = torch.sum(dice_target, dim=1)\n",
        "    intersection = torch.sum(dice_output * dice_target, dim=1)\n",
        "    losses = 1 - (intersection + eps) / (torch.sum(dice_output + dice_target, dim=1) - intersection + eps)\n",
        "    if non_empty:\n",
        "        assert per_image == True\n",
        "        non_empty_images = 0\n",
        "        sum_loss = 0\n",
        "        for i in range(batch_size):\n",
        "            if target_sum[i] > min_pixels:\n",
        "                sum_loss += losses[i]\n",
        "                non_empty_images += 1\n",
        "        if non_empty_images == 0:\n",
        "            return 0\n",
        "        else:\n",
        "            return sum_loss / non_empty_images\n",
        "\n",
        "    return losses.mean()\n",
        "\n",
        "\n",
        "class DiceLoss(nn.Module):\n",
        "    def __init__(self, weight=None, size_average=True, per_image=False):\n",
        "        super().__init__()\n",
        "        self.size_average = size_average\n",
        "        self.register_buffer('weight', weight)\n",
        "        self.per_image = per_image\n",
        "\n",
        "    def forward(self, input, target):\n",
        "        dice_loss = soft_dice_loss(input, target, per_image=self.per_image)\n",
        "        dice_losses.append(dice_loss.item())\n",
        "        return dice_loss\n",
        "\n",
        "\n",
        "class JaccardLoss(nn.Module):\n",
        "    def __init__(self, weight=None, size_average=True, per_image=False, non_empty=False, apply_sigmoid=False,\n",
        "                 min_pixels=5):\n",
        "        super().__init__()\n",
        "        self.size_average = size_average\n",
        "        self.register_buffer('weight', weight)\n",
        "        self.per_image = per_image\n",
        "        self.non_empty = non_empty\n",
        "        self.apply_sigmoid = apply_sigmoid\n",
        "        self.min_pixels = min_pixels\n",
        "\n",
        "    def forward(self, input, target):\n",
        "        if self.apply_sigmoid:\n",
        "            input = torch.sigmoid(input)\n",
        "        return jaccard(input, target, per_image=self.per_image, non_empty=self.non_empty, min_pixels=self.min_pixels)\n",
        "\n",
        "class StableBCELoss(nn.Module):\n",
        "    def __init__(self):\n",
        "        super(StableBCELoss, self).__init__()\n",
        "\n",
        "    def forward(self, logits, target):\n",
        "        bce_loss_with_logits = nn.BCEWithLogitsLoss(reduction='mean') # mean is taken across batches\n",
        "        bce_loss = bce_loss_with_logits(logits, target)\n",
        "        bce_losses.append(bce_loss.item())\n",
        "        return bce_loss # returns a tensor of size [1]\n",
        "\n",
        "\n",
        "class ComboLoss(nn.Module):\n",
        "    def __init__(self, weights, per_image=True, channel_weights=[1, 0.5, 0.5], channel_losses=None):\n",
        "        super().__init__()\n",
        "        self.weights = weights\n",
        "        self.bce = StableBCELoss()\n",
        "        self.dice = DiceLoss(per_image=True)\n",
        "        self.jaccard = JaccardLoss(per_image=True)\n",
        "        self.lovasz = LovaszLoss(per_image=per_image)\n",
        "        self.lovasz_sigmoid = LovaszLossSigmoid(per_image=per_image)\n",
        "        self.focal = FocalLoss2d()\n",
        "        self.mapping = {'bce': self.bce,\n",
        "                        'dice': self.dice,\n",
        "                        'focal': self.focal,\n",
        "                        'jaccard': self.jaccard,\n",
        "                        'lovasz': self.lovasz,\n",
        "                        'lovasz_sigmoid': self.lovasz_sigmoid}\n",
        "        self.expect_sigmoid = {'dice', 'focal', 'jaccard', 'lovasz_sigmoid'}\n",
        "        self.per_channel = {'dice', 'jaccard', 'lovasz_sigmoid'}\n",
        "        self.values = {}\n",
        "        self.channel_weights = channel_weights\n",
        "        self.channel_losses = channel_losses\n",
        "\n",
        "    def forward(self, outputs, targets):\n",
        "        loss = 0\n",
        "        weights = self.weights\n",
        "        sigmoid_input = torch.sigmoid(outputs)\n",
        "        for k, v in weights.items():\n",
        "            if not v:\n",
        "                continue\n",
        "            val = 0\n",
        "            if k in self.per_channel:\n",
        "                channels = targets.size(1)\n",
        "                for c in range(channels):\n",
        "                    if not self.channel_losses or k in self.channel_losses[c]:\n",
        "                        val += self.channel_weights[c] * self.mapping[k](sigmoid_input[:, c, ...] if k in self.expect_sigmoid else outputs[:, c, ...],\n",
        "                                               targets[:, c, ...])\n",
        "\n",
        "            else:\n",
        "                val = self.mapping[k](sigmoid_input if k in self.expect_sigmoid else outputs, targets)\n",
        "\n",
        "            self.values[k] = val\n",
        "            loss += self.weights[k] * val\n",
        "        return loss.clamp(min=1e-5)\n",
        "\n",
        "\n",
        "def lovasz_grad(gt_sorted):\n",
        "    \"\"\"\n",
        "    Computes gradient of the Lovasz extension w.r.t sorted errors\n",
        "    See Alg. 1 in paper\n",
        "    \"\"\"\n",
        "    p = len(gt_sorted)\n",
        "    gts = gt_sorted.sum()\n",
        "    intersection = gts.float() - gt_sorted.float().cumsum(0)\n",
        "    union = gts.float() + (1 - gt_sorted).float().cumsum(0)\n",
        "    jaccard = 1. - intersection / union\n",
        "    if p > 1:  # cover 1-pixel case\n",
        "        jaccard[1:p] = jaccard[1:p] - jaccard[0:-1]\n",
        "    return jaccard\n",
        "\n",
        "\n",
        "def lovasz_hinge(logits, labels, per_image=True, ignore=None):\n",
        "    \"\"\"\n",
        "    Binary Lovasz hinge loss\n",
        "      logits: [B, H, W] Variable, logits at each pixel (between -\\infty and +\\infty)\n",
        "      labels: [B, H, W] Tensor, binary ground truth masks (0 or 1)\n",
        "      per_image: compute the loss per image instead of per batch\n",
        "      ignore: void class id\n",
        "    \"\"\"\n",
        "    if per_image:\n",
        "        loss = mean(lovasz_hinge_flat(*flatten_binary_scores(log.unsqueeze(0), lab.unsqueeze(0), ignore))\n",
        "                    for log, lab in zip(logits, labels))\n",
        "    else:\n",
        "        loss = lovasz_hinge_flat(*flatten_binary_scores(logits, labels, ignore))\n",
        "    return loss\n",
        "\n",
        "\n",
        "def lovasz_hinge_flat(logits, labels):\n",
        "    \"\"\"\n",
        "    Binary Lovasz hinge loss\n",
        "      logits: [P] Variable, logits at each prediction (between -\\infty and +\\infty)\n",
        "      labels: [P] Tensor, binary ground truth labels (0 or 1)\n",
        "      ignore: label to ignore\n",
        "    \"\"\"\n",
        "    if len(labels) == 0:\n",
        "        # only void pixels, the gradients should be 0\n",
        "        return logits.sum() * 0.\n",
        "    signs = 2. * labels.float() - 1.\n",
        "    errors = (1. - logits * Variable(signs))\n",
        "    errors_sorted, perm = torch.sort(errors, dim=0, descending=True)\n",
        "    perm = perm.data\n",
        "    gt_sorted = labels[perm]\n",
        "    grad = lovasz_grad(gt_sorted)\n",
        "    loss = torch.dot(F.relu(errors_sorted), Variable(grad))\n",
        "    return loss\n",
        "\n",
        "\n",
        "def flatten_binary_scores(scores, labels, ignore=None):\n",
        "    \"\"\"\n",
        "    Flattens predictions in the batch (binary case)\n",
        "    Remove labels equal to 'ignore'\n",
        "    \"\"\"\n",
        "    scores = scores.view(-1)\n",
        "    labels = labels.view(-1)\n",
        "    if ignore is None:\n",
        "        return scores, labels\n",
        "    valid = (labels != ignore)\n",
        "    vscores = scores[valid]\n",
        "    vlabels = labels[valid]\n",
        "    return vscores, vlabels\n",
        "\n",
        "\n",
        "def lovasz_sigmoid(probas, labels, per_image=False, ignore=None):\n",
        "    \"\"\"\n",
        "    Multi-class Lovasz-Softmax loss\n",
        "      probas: [B, C, H, W] Variable, class probabilities at each prediction (between 0 and 1)\n",
        "      labels: [B, H, W] Tensor, ground truth labels (between 0 and C - 1)\n",
        "      only_present: average only on classes present in ground truth\n",
        "      per_image: compute the loss per image instead of per batch\n",
        "      ignore: void class labels\n",
        "    \"\"\"\n",
        "    if per_image:\n",
        "        loss = mean(lovasz_sigmoid_flat(*flatten_binary_scores(prob.unsqueeze(0), lab.unsqueeze(0), ignore))\n",
        "                          for prob, lab in zip(probas, labels))\n",
        "    else:\n",
        "        loss = lovasz_sigmoid_flat(*flatten_binary_scores(probas, labels, ignore))\n",
        "    return loss\n",
        "\n",
        "\n",
        "def lovasz_sigmoid_flat(probas, labels):\n",
        "    \"\"\"\n",
        "    Multi-class Lovasz-Softmax loss\n",
        "      probas: [P, C] Variable, class probabilities at each prediction (between 0 and 1)\n",
        "      labels: [P] Tensor, ground truth labels (between 0 and C - 1)\n",
        "      only_present: average only on classes present in ground truth\n",
        "    \"\"\"\n",
        "    fg = labels.float()\n",
        "    errors = (Variable(fg) - probas).abs()\n",
        "    errors_sorted, perm = torch.sort(errors, 0, descending=True)\n",
        "    perm = perm.data\n",
        "    fg_sorted = fg[perm]\n",
        "    loss = torch.dot(errors_sorted, Variable(lovasz_grad(fg_sorted)))\n",
        "    return loss\n",
        "\n",
        "def symmetric_lovasz(outputs, targets, ):\n",
        "    return (lovasz_hinge(outputs, targets) + lovasz_hinge(-outputs, 1 - targets)) / 2\n",
        "\n",
        "def mean(l, ignore_nan=False, empty=0):\n",
        "    \"\"\"\n",
        "    nanmean compatible with generators.\n",
        "    \"\"\"\n",
        "    l = iter(l)\n",
        "    if ignore_nan:\n",
        "        l = ifilterfalse(np.isnan, l)\n",
        "    try:\n",
        "        n = 1\n",
        "        acc = next(l)\n",
        "    except StopIteration:\n",
        "        if empty == 'raise':\n",
        "            raise ValueError('Empty mean')\n",
        "        return empty\n",
        "    for n, v in enumerate(l, 2):\n",
        "        acc += v\n",
        "    if n == 1:\n",
        "        return acc\n",
        "    return acc / n\n",
        "\n",
        "\n",
        "class LovaszLoss(nn.Module):\n",
        "    def __init__(self, ignore_index=255, per_image=True):\n",
        "        super().__init__()\n",
        "        self.ignore_index = ignore_index\n",
        "        self.per_image = per_image\n",
        "\n",
        "    def forward(self, outputs, targets):\n",
        "        outputs = outputs.contiguous()\n",
        "        targets = targets.contiguous()\n",
        "        return symmetric_lovasz(outputs, targets)\n",
        "\n",
        "class LovaszLossSigmoid(nn.Module):\n",
        "    def __init__(self, ignore_index=255, per_image=True):\n",
        "        super().__init__()\n",
        "        self.ignore_index = ignore_index\n",
        "        self.per_image = per_image\n",
        "\n",
        "    def forward(self, outputs, targets):\n",
        "        outputs = outputs.contiguous()\n",
        "        targets = targets.contiguous()\n",
        "        return lovasz_sigmoid(outputs, targets, per_image=self.per_image, ignore=self.ignore_index)\n",
        "\n",
        "class FocalLoss2d(nn.Module):\n",
        "    def __init__(self, alpha=0.65, gamma=2,n_parts=BATCH_SIZE):\n",
        "        super().__init__()\n",
        "        self.alpha = alpha\n",
        "        self.gamma = gamma\n",
        "        self.n_parts = n_parts\n",
        "\n",
        "    def forward(self, outputs, targets):\n",
        "        n_parts = self.n_parts\n",
        "        outputs = outputs.contiguous()\n",
        "        targets = targets.contiguous()\n",
        "        eps = 1e-6\n",
        "        # non_ignored = targets.view(n_parts, -1) != self.ignore_index\n",
        "        targets = targets.view(n_parts, -1).float()\n",
        "        outputs = outputs.view(n_parts, -1)\n",
        "        # clamp just makes sure the values of the tensor is within the given range.\n",
        "        outputs = torch.clamp(outputs, eps, 1. - eps)\n",
        "        targets = torch.clamp(targets, eps, 1. - eps)\n",
        "        \"\"\" pt = predicted probability for the true class\n",
        "        when targets = 1, pt = outputs which means pt now has the predicted probability of positive class.\n",
        "        when tagets = 0, pt = 1 - outputs which means pt has the predicted probability of negative class.\n",
        "        \"\"\"\n",
        "        pt = (1 - targets) * (1 - outputs) + targets * outputs\n",
        "        alpha_t = self.alpha * targets + (1 - self.alpha)*(1 - targets)\n",
        "        pt_proc = -(alpha_t*((1. - pt) ** self.gamma * torch.log(pt))) # torch.log is natural log\n",
        "        focal_loss = pt_proc.mean(dim=1).mean()\n",
        "        focal_losses.append(focal_loss.item())\n",
        "        return focal_loss"
      ]
    },
    {
      "cell_type": "markdown",
      "metadata": {
        "id": "A-y8ovXEK2St"
      },
      "source": [
        "## Config - 2"
      ]
    },
    {
      "cell_type": "code",
      "execution_count": 9,
      "metadata": {
        "id": "g3__XL68K2St"
      },
      "outputs": [],
      "source": [
        "CRITERION        = ComboLoss(**{'weights':{'bce':3, 'dice':1, 'focal':4}})"
      ]
    },
    {
      "cell_type": "markdown",
      "metadata": {
        "id": "EqxMQpqB5JFV"
      },
      "source": [
        "# ---------------------- DL Workflow -----------------------"
      ]
    },
    {
      "cell_type": "markdown",
      "metadata": {
        "id": "BNLEHf3QK2Sv"
      },
      "source": [
        "## 1. Data -> Tensor"
      ]
    },
    {
      "cell_type": "markdown",
      "metadata": {
        "id": "9wbgxfpGK2Sv"
      },
      "source": [
        "### Create five-fold splits"
      ]
    },
    {
      "cell_type": "code",
      "execution_count": 15,
      "metadata": {
        "colab": {
          "base_uri": "https://localhost:8080/"
        },
        "id": "UDyy5r93K2Sv",
        "outputId": "18b373d3-c039-4adb-f5f5-a4825b131e48"
      },
      "outputs": [
        {
          "data": {
            "text/plain": [
              "(8570, 2142)"
            ]
          },
          "execution_count": 15,
          "metadata": {},
          "output_type": "execute_result"
        }
      ],
      "source": [
        "# single fold training for now, rerun notebook to train for multi-fold\n",
        "DF       = pd.read_csv(DATA_FRAME_PATH)\n",
        "TRAIN_DF = DF.query(f'kfold!={FOLD_ID}').reset_index(drop=True)\n",
        "VAL_DF   = DF.query(f'kfold=={FOLD_ID}').reset_index(drop=True)\n",
        "len(TRAIN_DF), len(VAL_DF)"
      ]
    },
    {
      "cell_type": "markdown",
      "metadata": {
        "id": "njKNWpqFK2Sw"
      },
      "source": [
        "### Dataset and DataLoaders"
      ]
    },
    {
      "cell_type": "code",
      "execution_count": 16,
      "metadata": {
        "id": "9ywRGbXTK2Sw"
      },
      "outputs": [],
      "source": [
        "class Dataset():\n",
        "    def __init__(self, rle_df, image_base_dir, masks_base_dir, augmentation=None, mask_augmentation=None):\n",
        "        self.df                 = rle_df\n",
        "        self.image_base_dir     = image_base_dir\n",
        "        self.masks_base_dir     = masks_base_dir\n",
        "        self.image_ids          = rle_df.ImageId.values\n",
        "        self.augmentation       = augmentation\n",
        "        self.mask_augmentation  = mask_augmentation\n",
        "\n",
        "    def __image_ids__(self):\n",
        "        print(print(self.image_ids))\n",
        "\n",
        "    def __len__(self):\n",
        "        return len(self.image_ids)\n",
        "\n",
        "    def __getitem__(self, i):\n",
        "        image_id  = self.image_ids[i]\n",
        "        img_path  = os.path.join(self.image_base_dir, Path(image_id+'.png'))\n",
        "        mask_path = os.path.join(self.masks_base_dir, Path(image_id+'.png'))\n",
        "        # image is grayscale but it is loaded as RGB for compatibility with model, data augmentations, loss function, etc.\n",
        "        image     = cv2.imread(img_path, 1)\n",
        "        # mask is loaded as grayscale then converted to a binary form but has 253/255, 254/255, etc values.\n",
        "        mask      = cv2.imread(mask_path, 0)\n",
        "\n",
        "        \"\"\"Normalizing input image and mask\"\"\"\n",
        "        image = (image / 255.0).astype(np.float32)\n",
        "        mask = (mask / 255.0).astype(np.float32)\n",
        "\n",
        "        # apply augmentations - DON'T APPLY ANY TRANSFORMATION TO ALREADY NORMALIZED MASK OTHER THAN ToTensorV2\n",
        "        if self.augmentation and self.mask_augmentation:\n",
        "            img_sample = {\"image\": image}\n",
        "            img_sample = self.augmentation(**img_sample)\n",
        "            image = img_sample['image']\n",
        "            mask_sample = {\"image\": mask}\n",
        "            mask_sample = self.mask_augmentation(**mask_sample)\n",
        "            mask = mask_sample[\"image\"]\n",
        "\n",
        "        return {\n",
        "            'image': image,\n",
        "            'mask' : mask,\n",
        "        }"
      ]
    },
    {
      "cell_type": "code",
      "execution_count": 17,
      "metadata": {
        "id": "Zxv5It8ZK2Sw"
      },
      "outputs": [],
      "source": [
        "# Test transforms\n",
        "TEST_TFMS = albu.Compose([\n",
        "    albu.Resize(height=IMG_SIZE, width=IMG_SIZE, always_apply=True, p=1),\n",
        "    albu.Normalize(mean=[0.485, 0.456, 0.406], std=[0.229, 0.224, 0.225], max_pixel_value=255.0, p=1.0),\n",
        "    ToTensorV2(),\n",
        "],\n",
        "    is_check_shapes=True,\n",
        "    p=1.0,\n",
        ")\n",
        "\n",
        "# New Train Transforms - Aggressive Augmentations to avoid overfitting.\n",
        "TFMS =  albu.Compose(\n",
        "    [\n",
        "        albu.OneOf([\n",
        "            albu.RandomBrightnessContrast(brightness_limit=0.2, contrast_limit=0.2, p=0.5),\n",
        "            albu.RandomGamma(gamma_limit=(80, 120), p=0.5),\n",
        "        ], p=0.3),\n",
        "        albu.OneOf([\n",
        "            albu.ElasticTransform(alpha=120, sigma=6.0, alpha_affine=3.6, p=0.5),\n",
        "            albu.GridDistortion(num_steps=5, distort_limit=(-0.3, 0.3), p=0.5),\n",
        "            albu.OpticalDistortion(distort_limit=(-2, 2), shift_limit=(-0.5, 0.5), p=0.5),\n",
        "        ], p=0.3),\n",
        "        albu.ShiftScaleRotate(shift_limit=0.0625, scale_limit=0.1, rotate_limit=45, p=0.5),\n",
        "        albu.Resize(height=IMG_SIZE, width=IMG_SIZE, p=1.0),\n",
        "        albu.Normalize(mean=[0.485, 0.456, 0.406], std=[0.229, 0.224, 0.225], p=1.0),\n",
        "        ToTensorV2(),\n",
        "    ],\n",
        "    p=1.0\n",
        ")\n",
        "\n",
        "mask_transform = albu.Compose([\n",
        "    albu.Resize(height=IMG_SIZE, width=IMG_SIZE, p=1.0),\n",
        "    ToTensorV2()  # Directly convert binary mask to tensor without normalization\n",
        "])"
      ]
    },
    {
      "cell_type": "code",
      "execution_count": 18,
      "metadata": {
        "id": "4DKpUR1QK2Sw"
      },
      "outputs": [],
      "source": [
        "# train dataset\n",
        "train_dataset = Dataset(TRAIN_DF, TRAIN_IMG_DIR, TRAIN_LBL_DIR, TFMS, mask_transform)\n",
        "val_dataset   = Dataset(VAL_DF, TRAIN_IMG_DIR, TRAIN_LBL_DIR, TEST_TFMS, mask_transform)"
      ]
    },
    {
      "cell_type": "code",
      "execution_count": 19,
      "metadata": {
        "colab": {
          "base_uri": "https://localhost:8080/"
        },
        "id": "7zno_0Q4eVHv",
        "outputId": "32227551-9c2b-4fce-f541-cbc5472d0b7a"
      },
      "outputs": [
        {
          "data": {
            "text/plain": [
              "8570"
            ]
          },
          "execution_count": 19,
          "metadata": {},
          "output_type": "execute_result"
        }
      ],
      "source": [
        "train_dataset.__len__()"
      ]
    },
    {
      "cell_type": "markdown",
      "metadata": {
        "id": "6-dcysMmK2Sw"
      },
      "source": [
        "### Sampler"
      ]
    },
    {
      "cell_type": "code",
      "execution_count": 21,
      "metadata": {
        "id": "Qx49nrt4K2Sw"
      },
      "outputs": [],
      "source": [
        "class PneumoSampler(Sampler):\n",
        "    def __init__(self, train_df, positive_perc=0.8):\n",
        "        assert positive_perc > 0, 'percentage of positive pneumothorax images must be greater then zero'\n",
        "        self.train_df = train_df\n",
        "        self.positive_perc = positive_perc\n",
        "        self.positive_idxs = self.train_df.query('has_mask==1').index.values\n",
        "        self.negative_idxs = self.train_df.query('has_mask!=1').index.values\n",
        "        self.n_positive = len(self.positive_idxs)\n",
        "        self.n_negative = int(self.n_positive * (1 - self.positive_perc) / self.positive_perc)\n",
        "\n",
        "    def __iter__(self):\n",
        "        negative_sample = np.random.choice(self.negative_idxs, size=self.n_negative)\n",
        "        shuffled = np.random.permutation(np.hstack((negative_sample, self.positive_idxs)))\n",
        "        return iter(shuffled.tolist())\n",
        "\n",
        "    def __len__(self):\n",
        "        return self.n_positive + self.n_negative"
      ]
    },
    {
      "cell_type": "code",
      "execution_count": 22,
      "metadata": {
        "id": "kzJerUgtK2Sx"
      },
      "outputs": [],
      "source": [
        "SAMPLER = PneumoSampler(TRAIN_DF, positive_perc=POSTIVE_PERC)"
      ]
    },
    {
      "cell_type": "markdown",
      "metadata": {
        "id": "Asd-jMF9K2Sx"
      },
      "source": [
        "### DataLoaders"
      ]
    },
    {
      "cell_type": "code",
      "execution_count": 23,
      "metadata": {
        "id": "Saav3bv6K2Sx"
      },
      "outputs": [],
      "source": [
        "# dataloaders\n",
        "train_dataloader = DataLoader(train_dataset, TRAIN_BATCH_SIZE,\n",
        "                              shuffle=True if not USE_SAMPLER else False,\n",
        "                              num_workers=NUM_WORKERS,\n",
        "                              sampler=SAMPLER if USE_SAMPLER else None)\n",
        "val_dataloader   = DataLoader(val_dataset, VALID_BATCH_SIZE, shuffle=False, num_workers=NUM_WORKERS)"
      ]
    },
    {
      "cell_type": "code",
      "execution_count": 24,
      "metadata": {
        "colab": {
          "base_uri": "https://localhost:8080/"
        },
        "id": "u9nGVmHlj6z5",
        "outputId": "5f204f01-008b-4d2b-e45c-b508ddd43b95"
      },
      "outputs": [
        {
          "name": "stdout",
          "output_type": "stream",
          "text": [
            "Dataloaders: (<torch.utils.data.dataloader.DataLoader object at 0x7f6c0e26b370>, <torch.utils.data.dataloader.DataLoader object at 0x7f6c0e2691e0>)\n",
            "Length of train dataloader: 595 batches of 8\n",
            "length of validation dataloader: 268 batches of 8\n"
          ]
        }
      ],
      "source": [
        "print(f\"Dataloaders: {train_dataloader , val_dataloader}\")\n",
        "print(f\"Length of train dataloader: {len(train_dataloader)} batches of {BATCH_SIZE}\")\n",
        "print(f\"length of validation dataloader: {len(val_dataloader)} batches of {BATCH_SIZE}\")"
      ]
    },
    {
      "cell_type": "markdown",
      "metadata": {
        "id": "0jmBiDQJwFTN"
      },
      "source": [
        "for batch_index, data in enumerate(train_dataloader):\n",
        "    for z in range(3):\n",
        "        print(\"Image: \", data['image'].shape)\n",
        "        print(\"Mask: \", data['mask'].shape)\n",
        "        print(\"data['mask'].unsqueeze(1)\", data['mask'].unsqueeze(1).shape)\n",
        "    break\n",
        "\n",
        "Output\n",
        "Image:  torch.Size([8, 3, 512, 512])\n",
        "Mask:  torch.Size([8, 1, 512, 512])\n",
        "data['mask'].unsqueeze(1) torch.Size([8, 1, 1, 512, 512])\n",
        "Image:  torch.Size([8, 3, 512, 512])\n",
        "Mask:  torch.Size([8, 1, 512, 512])\n",
        "data['mask'].unsqueeze(1) torch.Size([8, 1, 1, 512, 512])\n",
        "Image:  torch.Size([8, 3, 512, 512])\n",
        "Mask:  torch.Size([8, 1, 512, 512])\n",
        "data['mask'].unsqueeze(1) torch.Size([8, 1, 1, 512, 512])"
      ]
    },
    {
      "cell_type": "markdown",
      "metadata": {
        "id": "MIIdw0tLK2S4"
      },
      "source": [
        "## 2. Model Training"
      ]
    },
    {
      "cell_type": "code",
      "execution_count": 25,
      "metadata": {
        "colab": {
          "base_uri": "https://localhost:8080/"
        },
        "id": "noi6vEbbK2S4",
        "outputId": "1d236495-731e-4c60-b1f8-8f126820dcd7"
      },
      "outputs": [
        {
          "name": "stderr",
          "output_type": "stream",
          "text": [
            "Downloading: \"https://download.pytorch.org/models/resnet34-333f7ec4.pth\" to /root/.cache/torch/hub/checkpoints/resnet34-333f7ec4.pth\n",
            "100%|██████████| 83.3M/83.3M [00:00<00:00, 424MB/s]\n"
          ]
        },
        {
          "name": "stdout",
          "output_type": "stream",
          "text": [
            "Unet(\n",
            "  (encoder): ResNetEncoder(\n",
            "    (conv1): Conv2d(3, 64, kernel_size=(7, 7), stride=(2, 2), padding=(3, 3), bias=False)\n",
            "    (bn1): BatchNorm2d(64, eps=1e-05, momentum=0.1, affine=True, track_running_stats=True)\n",
            "    (relu): ReLU(inplace=True)\n",
            "    (maxpool): MaxPool2d(kernel_size=3, stride=2, padding=1, dilation=1, ceil_mode=False)\n",
            "    (layer1): Sequential(\n",
            "      (0): BasicBlock(\n",
            "        (conv1): Conv2d(64, 64, kernel_size=(3, 3), stride=(1, 1), padding=(1, 1), bias=False)\n",
            "        (bn1): BatchNorm2d(64, eps=1e-05, momentum=0.1, affine=True, track_running_stats=True)\n",
            "        (relu): ReLU(inplace=True)\n",
            "        (conv2): Conv2d(64, 64, kernel_size=(3, 3), stride=(1, 1), padding=(1, 1), bias=False)\n",
            "        (bn2): BatchNorm2d(64, eps=1e-05, momentum=0.1, affine=True, track_running_stats=True)\n",
            "      )\n",
            "      (1): BasicBlock(\n",
            "        (conv1): Conv2d(64, 64, kernel_size=(3, 3), stride=(1, 1), padding=(1, 1), bias=False)\n",
            "        (bn1): BatchNorm2d(64, eps=1e-05, momentum=0.1, affine=True, track_running_stats=True)\n",
            "        (relu): ReLU(inplace=True)\n",
            "        (conv2): Conv2d(64, 64, kernel_size=(3, 3), stride=(1, 1), padding=(1, 1), bias=False)\n",
            "        (bn2): BatchNorm2d(64, eps=1e-05, momentum=0.1, affine=True, track_running_stats=True)\n",
            "      )\n",
            "      (2): BasicBlock(\n",
            "        (conv1): Conv2d(64, 64, kernel_size=(3, 3), stride=(1, 1), padding=(1, 1), bias=False)\n",
            "        (bn1): BatchNorm2d(64, eps=1e-05, momentum=0.1, affine=True, track_running_stats=True)\n",
            "        (relu): ReLU(inplace=True)\n",
            "        (conv2): Conv2d(64, 64, kernel_size=(3, 3), stride=(1, 1), padding=(1, 1), bias=False)\n",
            "        (bn2): BatchNorm2d(64, eps=1e-05, momentum=0.1, affine=True, track_running_stats=True)\n",
            "      )\n",
            "    )\n",
            "    (layer2): Sequential(\n",
            "      (0): BasicBlock(\n",
            "        (conv1): Conv2d(64, 128, kernel_size=(3, 3), stride=(2, 2), padding=(1, 1), bias=False)\n",
            "        (bn1): BatchNorm2d(128, eps=1e-05, momentum=0.1, affine=True, track_running_stats=True)\n",
            "        (relu): ReLU(inplace=True)\n",
            "        (conv2): Conv2d(128, 128, kernel_size=(3, 3), stride=(1, 1), padding=(1, 1), bias=False)\n",
            "        (bn2): BatchNorm2d(128, eps=1e-05, momentum=0.1, affine=True, track_running_stats=True)\n",
            "        (downsample): Sequential(\n",
            "          (0): Conv2d(64, 128, kernel_size=(1, 1), stride=(2, 2), bias=False)\n",
            "          (1): BatchNorm2d(128, eps=1e-05, momentum=0.1, affine=True, track_running_stats=True)\n",
            "        )\n",
            "      )\n",
            "      (1): BasicBlock(\n",
            "        (conv1): Conv2d(128, 128, kernel_size=(3, 3), stride=(1, 1), padding=(1, 1), bias=False)\n",
            "        (bn1): BatchNorm2d(128, eps=1e-05, momentum=0.1, affine=True, track_running_stats=True)\n",
            "        (relu): ReLU(inplace=True)\n",
            "        (conv2): Conv2d(128, 128, kernel_size=(3, 3), stride=(1, 1), padding=(1, 1), bias=False)\n",
            "        (bn2): BatchNorm2d(128, eps=1e-05, momentum=0.1, affine=True, track_running_stats=True)\n",
            "      )\n",
            "      (2): BasicBlock(\n",
            "        (conv1): Conv2d(128, 128, kernel_size=(3, 3), stride=(1, 1), padding=(1, 1), bias=False)\n",
            "        (bn1): BatchNorm2d(128, eps=1e-05, momentum=0.1, affine=True, track_running_stats=True)\n",
            "        (relu): ReLU(inplace=True)\n",
            "        (conv2): Conv2d(128, 128, kernel_size=(3, 3), stride=(1, 1), padding=(1, 1), bias=False)\n",
            "        (bn2): BatchNorm2d(128, eps=1e-05, momentum=0.1, affine=True, track_running_stats=True)\n",
            "      )\n",
            "      (3): BasicBlock(\n",
            "        (conv1): Conv2d(128, 128, kernel_size=(3, 3), stride=(1, 1), padding=(1, 1), bias=False)\n",
            "        (bn1): BatchNorm2d(128, eps=1e-05, momentum=0.1, affine=True, track_running_stats=True)\n",
            "        (relu): ReLU(inplace=True)\n",
            "        (conv2): Conv2d(128, 128, kernel_size=(3, 3), stride=(1, 1), padding=(1, 1), bias=False)\n",
            "        (bn2): BatchNorm2d(128, eps=1e-05, momentum=0.1, affine=True, track_running_stats=True)\n",
            "      )\n",
            "    )\n",
            "    (layer3): Sequential(\n",
            "      (0): BasicBlock(\n",
            "        (conv1): Conv2d(128, 256, kernel_size=(3, 3), stride=(2, 2), padding=(1, 1), bias=False)\n",
            "        (bn1): BatchNorm2d(256, eps=1e-05, momentum=0.1, affine=True, track_running_stats=True)\n",
            "        (relu): ReLU(inplace=True)\n",
            "        (conv2): Conv2d(256, 256, kernel_size=(3, 3), stride=(1, 1), padding=(1, 1), bias=False)\n",
            "        (bn2): BatchNorm2d(256, eps=1e-05, momentum=0.1, affine=True, track_running_stats=True)\n",
            "        (downsample): Sequential(\n",
            "          (0): Conv2d(128, 256, kernel_size=(1, 1), stride=(2, 2), bias=False)\n",
            "          (1): BatchNorm2d(256, eps=1e-05, momentum=0.1, affine=True, track_running_stats=True)\n",
            "        )\n",
            "      )\n",
            "      (1): BasicBlock(\n",
            "        (conv1): Conv2d(256, 256, kernel_size=(3, 3), stride=(1, 1), padding=(1, 1), bias=False)\n",
            "        (bn1): BatchNorm2d(256, eps=1e-05, momentum=0.1, affine=True, track_running_stats=True)\n",
            "        (relu): ReLU(inplace=True)\n",
            "        (conv2): Conv2d(256, 256, kernel_size=(3, 3), stride=(1, 1), padding=(1, 1), bias=False)\n",
            "        (bn2): BatchNorm2d(256, eps=1e-05, momentum=0.1, affine=True, track_running_stats=True)\n",
            "      )\n",
            "      (2): BasicBlock(\n",
            "        (conv1): Conv2d(256, 256, kernel_size=(3, 3), stride=(1, 1), padding=(1, 1), bias=False)\n",
            "        (bn1): BatchNorm2d(256, eps=1e-05, momentum=0.1, affine=True, track_running_stats=True)\n",
            "        (relu): ReLU(inplace=True)\n",
            "        (conv2): Conv2d(256, 256, kernel_size=(3, 3), stride=(1, 1), padding=(1, 1), bias=False)\n",
            "        (bn2): BatchNorm2d(256, eps=1e-05, momentum=0.1, affine=True, track_running_stats=True)\n",
            "      )\n",
            "      (3): BasicBlock(\n",
            "        (conv1): Conv2d(256, 256, kernel_size=(3, 3), stride=(1, 1), padding=(1, 1), bias=False)\n",
            "        (bn1): BatchNorm2d(256, eps=1e-05, momentum=0.1, affine=True, track_running_stats=True)\n",
            "        (relu): ReLU(inplace=True)\n",
            "        (conv2): Conv2d(256, 256, kernel_size=(3, 3), stride=(1, 1), padding=(1, 1), bias=False)\n",
            "        (bn2): BatchNorm2d(256, eps=1e-05, momentum=0.1, affine=True, track_running_stats=True)\n",
            "      )\n",
            "      (4): BasicBlock(\n",
            "        (conv1): Conv2d(256, 256, kernel_size=(3, 3), stride=(1, 1), padding=(1, 1), bias=False)\n",
            "        (bn1): BatchNorm2d(256, eps=1e-05, momentum=0.1, affine=True, track_running_stats=True)\n",
            "        (relu): ReLU(inplace=True)\n",
            "        (conv2): Conv2d(256, 256, kernel_size=(3, 3), stride=(1, 1), padding=(1, 1), bias=False)\n",
            "        (bn2): BatchNorm2d(256, eps=1e-05, momentum=0.1, affine=True, track_running_stats=True)\n",
            "      )\n",
            "      (5): BasicBlock(\n",
            "        (conv1): Conv2d(256, 256, kernel_size=(3, 3), stride=(1, 1), padding=(1, 1), bias=False)\n",
            "        (bn1): BatchNorm2d(256, eps=1e-05, momentum=0.1, affine=True, track_running_stats=True)\n",
            "        (relu): ReLU(inplace=True)\n",
            "        (conv2): Conv2d(256, 256, kernel_size=(3, 3), stride=(1, 1), padding=(1, 1), bias=False)\n",
            "        (bn2): BatchNorm2d(256, eps=1e-05, momentum=0.1, affine=True, track_running_stats=True)\n",
            "      )\n",
            "    )\n",
            "    (layer4): Sequential(\n",
            "      (0): BasicBlock(\n",
            "        (conv1): Conv2d(256, 512, kernel_size=(3, 3), stride=(2, 2), padding=(1, 1), bias=False)\n",
            "        (bn1): BatchNorm2d(512, eps=1e-05, momentum=0.1, affine=True, track_running_stats=True)\n",
            "        (relu): ReLU(inplace=True)\n",
            "        (conv2): Conv2d(512, 512, kernel_size=(3, 3), stride=(1, 1), padding=(1, 1), bias=False)\n",
            "        (bn2): BatchNorm2d(512, eps=1e-05, momentum=0.1, affine=True, track_running_stats=True)\n",
            "        (downsample): Sequential(\n",
            "          (0): Conv2d(256, 512, kernel_size=(1, 1), stride=(2, 2), bias=False)\n",
            "          (1): BatchNorm2d(512, eps=1e-05, momentum=0.1, affine=True, track_running_stats=True)\n",
            "        )\n",
            "      )\n",
            "      (1): BasicBlock(\n",
            "        (conv1): Conv2d(512, 512, kernel_size=(3, 3), stride=(1, 1), padding=(1, 1), bias=False)\n",
            "        (bn1): BatchNorm2d(512, eps=1e-05, momentum=0.1, affine=True, track_running_stats=True)\n",
            "        (relu): ReLU(inplace=True)\n",
            "        (conv2): Conv2d(512, 512, kernel_size=(3, 3), stride=(1, 1), padding=(1, 1), bias=False)\n",
            "        (bn2): BatchNorm2d(512, eps=1e-05, momentum=0.1, affine=True, track_running_stats=True)\n",
            "      )\n",
            "      (2): BasicBlock(\n",
            "        (conv1): Conv2d(512, 512, kernel_size=(3, 3), stride=(1, 1), padding=(1, 1), bias=False)\n",
            "        (bn1): BatchNorm2d(512, eps=1e-05, momentum=0.1, affine=True, track_running_stats=True)\n",
            "        (relu): ReLU(inplace=True)\n",
            "        (conv2): Conv2d(512, 512, kernel_size=(3, 3), stride=(1, 1), padding=(1, 1), bias=False)\n",
            "        (bn2): BatchNorm2d(512, eps=1e-05, momentum=0.1, affine=True, track_running_stats=True)\n",
            "      )\n",
            "    )\n",
            "  )\n",
            "  (decoder): UnetDecoder(\n",
            "    (center): Identity()\n",
            "    (blocks): ModuleList(\n",
            "      (0): DecoderBlock(\n",
            "        (conv1): Conv2dReLU(\n",
            "          (0): Conv2d(768, 256, kernel_size=(3, 3), stride=(1, 1), padding=(1, 1), bias=False)\n",
            "          (1): BatchNorm2d(256, eps=1e-05, momentum=0.1, affine=True, track_running_stats=True)\n",
            "          (2): ReLU(inplace=True)\n",
            "        )\n",
            "        (attention1): Attention(\n",
            "          (attention): SCSEModule(\n",
            "            (cSE): Sequential(\n",
            "              (0): AdaptiveAvgPool2d(output_size=1)\n",
            "              (1): Conv2d(768, 48, kernel_size=(1, 1), stride=(1, 1))\n",
            "              (2): ReLU(inplace=True)\n",
            "              (3): Conv2d(48, 768, kernel_size=(1, 1), stride=(1, 1))\n",
            "              (4): Sigmoid()\n",
            "            )\n",
            "            (sSE): Sequential(\n",
            "              (0): Conv2d(768, 1, kernel_size=(1, 1), stride=(1, 1))\n",
            "              (1): Sigmoid()\n",
            "            )\n",
            "          )\n",
            "        )\n",
            "        (conv2): Conv2dReLU(\n",
            "          (0): Conv2d(256, 256, kernel_size=(3, 3), stride=(1, 1), padding=(1, 1), bias=False)\n",
            "          (1): BatchNorm2d(256, eps=1e-05, momentum=0.1, affine=True, track_running_stats=True)\n",
            "          (2): ReLU(inplace=True)\n",
            "        )\n",
            "        (attention2): Attention(\n",
            "          (attention): SCSEModule(\n",
            "            (cSE): Sequential(\n",
            "              (0): AdaptiveAvgPool2d(output_size=1)\n",
            "              (1): Conv2d(256, 16, kernel_size=(1, 1), stride=(1, 1))\n",
            "              (2): ReLU(inplace=True)\n",
            "              (3): Conv2d(16, 256, kernel_size=(1, 1), stride=(1, 1))\n",
            "              (4): Sigmoid()\n",
            "            )\n",
            "            (sSE): Sequential(\n",
            "              (0): Conv2d(256, 1, kernel_size=(1, 1), stride=(1, 1))\n",
            "              (1): Sigmoid()\n",
            "            )\n",
            "          )\n",
            "        )\n",
            "      )\n",
            "      (1): DecoderBlock(\n",
            "        (conv1): Conv2dReLU(\n",
            "          (0): Conv2d(384, 128, kernel_size=(3, 3), stride=(1, 1), padding=(1, 1), bias=False)\n",
            "          (1): BatchNorm2d(128, eps=1e-05, momentum=0.1, affine=True, track_running_stats=True)\n",
            "          (2): ReLU(inplace=True)\n",
            "        )\n",
            "        (attention1): Attention(\n",
            "          (attention): SCSEModule(\n",
            "            (cSE): Sequential(\n",
            "              (0): AdaptiveAvgPool2d(output_size=1)\n",
            "              (1): Conv2d(384, 24, kernel_size=(1, 1), stride=(1, 1))\n",
            "              (2): ReLU(inplace=True)\n",
            "              (3): Conv2d(24, 384, kernel_size=(1, 1), stride=(1, 1))\n",
            "              (4): Sigmoid()\n",
            "            )\n",
            "            (sSE): Sequential(\n",
            "              (0): Conv2d(384, 1, kernel_size=(1, 1), stride=(1, 1))\n",
            "              (1): Sigmoid()\n",
            "            )\n",
            "          )\n",
            "        )\n",
            "        (conv2): Conv2dReLU(\n",
            "          (0): Conv2d(128, 128, kernel_size=(3, 3), stride=(1, 1), padding=(1, 1), bias=False)\n",
            "          (1): BatchNorm2d(128, eps=1e-05, momentum=0.1, affine=True, track_running_stats=True)\n",
            "          (2): ReLU(inplace=True)\n",
            "        )\n",
            "        (attention2): Attention(\n",
            "          (attention): SCSEModule(\n",
            "            (cSE): Sequential(\n",
            "              (0): AdaptiveAvgPool2d(output_size=1)\n",
            "              (1): Conv2d(128, 8, kernel_size=(1, 1), stride=(1, 1))\n",
            "              (2): ReLU(inplace=True)\n",
            "              (3): Conv2d(8, 128, kernel_size=(1, 1), stride=(1, 1))\n",
            "              (4): Sigmoid()\n",
            "            )\n",
            "            (sSE): Sequential(\n",
            "              (0): Conv2d(128, 1, kernel_size=(1, 1), stride=(1, 1))\n",
            "              (1): Sigmoid()\n",
            "            )\n",
            "          )\n",
            "        )\n",
            "      )\n",
            "      (2): DecoderBlock(\n",
            "        (conv1): Conv2dReLU(\n",
            "          (0): Conv2d(192, 64, kernel_size=(3, 3), stride=(1, 1), padding=(1, 1), bias=False)\n",
            "          (1): BatchNorm2d(64, eps=1e-05, momentum=0.1, affine=True, track_running_stats=True)\n",
            "          (2): ReLU(inplace=True)\n",
            "        )\n",
            "        (attention1): Attention(\n",
            "          (attention): SCSEModule(\n",
            "            (cSE): Sequential(\n",
            "              (0): AdaptiveAvgPool2d(output_size=1)\n",
            "              (1): Conv2d(192, 12, kernel_size=(1, 1), stride=(1, 1))\n",
            "              (2): ReLU(inplace=True)\n",
            "              (3): Conv2d(12, 192, kernel_size=(1, 1), stride=(1, 1))\n",
            "              (4): Sigmoid()\n",
            "            )\n",
            "            (sSE): Sequential(\n",
            "              (0): Conv2d(192, 1, kernel_size=(1, 1), stride=(1, 1))\n",
            "              (1): Sigmoid()\n",
            "            )\n",
            "          )\n",
            "        )\n",
            "        (conv2): Conv2dReLU(\n",
            "          (0): Conv2d(64, 64, kernel_size=(3, 3), stride=(1, 1), padding=(1, 1), bias=False)\n",
            "          (1): BatchNorm2d(64, eps=1e-05, momentum=0.1, affine=True, track_running_stats=True)\n",
            "          (2): ReLU(inplace=True)\n",
            "        )\n",
            "        (attention2): Attention(\n",
            "          (attention): SCSEModule(\n",
            "            (cSE): Sequential(\n",
            "              (0): AdaptiveAvgPool2d(output_size=1)\n",
            "              (1): Conv2d(64, 4, kernel_size=(1, 1), stride=(1, 1))\n",
            "              (2): ReLU(inplace=True)\n",
            "              (3): Conv2d(4, 64, kernel_size=(1, 1), stride=(1, 1))\n",
            "              (4): Sigmoid()\n",
            "            )\n",
            "            (sSE): Sequential(\n",
            "              (0): Conv2d(64, 1, kernel_size=(1, 1), stride=(1, 1))\n",
            "              (1): Sigmoid()\n",
            "            )\n",
            "          )\n",
            "        )\n",
            "      )\n",
            "      (3): DecoderBlock(\n",
            "        (conv1): Conv2dReLU(\n",
            "          (0): Conv2d(128, 32, kernel_size=(3, 3), stride=(1, 1), padding=(1, 1), bias=False)\n",
            "          (1): BatchNorm2d(32, eps=1e-05, momentum=0.1, affine=True, track_running_stats=True)\n",
            "          (2): ReLU(inplace=True)\n",
            "        )\n",
            "        (attention1): Attention(\n",
            "          (attention): SCSEModule(\n",
            "            (cSE): Sequential(\n",
            "              (0): AdaptiveAvgPool2d(output_size=1)\n",
            "              (1): Conv2d(128, 8, kernel_size=(1, 1), stride=(1, 1))\n",
            "              (2): ReLU(inplace=True)\n",
            "              (3): Conv2d(8, 128, kernel_size=(1, 1), stride=(1, 1))\n",
            "              (4): Sigmoid()\n",
            "            )\n",
            "            (sSE): Sequential(\n",
            "              (0): Conv2d(128, 1, kernel_size=(1, 1), stride=(1, 1))\n",
            "              (1): Sigmoid()\n",
            "            )\n",
            "          )\n",
            "        )\n",
            "        (conv2): Conv2dReLU(\n",
            "          (0): Conv2d(32, 32, kernel_size=(3, 3), stride=(1, 1), padding=(1, 1), bias=False)\n",
            "          (1): BatchNorm2d(32, eps=1e-05, momentum=0.1, affine=True, track_running_stats=True)\n",
            "          (2): ReLU(inplace=True)\n",
            "        )\n",
            "        (attention2): Attention(\n",
            "          (attention): SCSEModule(\n",
            "            (cSE): Sequential(\n",
            "              (0): AdaptiveAvgPool2d(output_size=1)\n",
            "              (1): Conv2d(32, 2, kernel_size=(1, 1), stride=(1, 1))\n",
            "              (2): ReLU(inplace=True)\n",
            "              (3): Conv2d(2, 32, kernel_size=(1, 1), stride=(1, 1))\n",
            "              (4): Sigmoid()\n",
            "            )\n",
            "            (sSE): Sequential(\n",
            "              (0): Conv2d(32, 1, kernel_size=(1, 1), stride=(1, 1))\n",
            "              (1): Sigmoid()\n",
            "            )\n",
            "          )\n",
            "        )\n",
            "      )\n",
            "      (4): DecoderBlock(\n",
            "        (conv1): Conv2dReLU(\n",
            "          (0): Conv2d(32, 16, kernel_size=(3, 3), stride=(1, 1), padding=(1, 1), bias=False)\n",
            "          (1): BatchNorm2d(16, eps=1e-05, momentum=0.1, affine=True, track_running_stats=True)\n",
            "          (2): ReLU(inplace=True)\n",
            "        )\n",
            "        (attention1): Attention(\n",
            "          (attention): SCSEModule(\n",
            "            (cSE): Sequential(\n",
            "              (0): AdaptiveAvgPool2d(output_size=1)\n",
            "              (1): Conv2d(32, 2, kernel_size=(1, 1), stride=(1, 1))\n",
            "              (2): ReLU(inplace=True)\n",
            "              (3): Conv2d(2, 32, kernel_size=(1, 1), stride=(1, 1))\n",
            "              (4): Sigmoid()\n",
            "            )\n",
            "            (sSE): Sequential(\n",
            "              (0): Conv2d(32, 1, kernel_size=(1, 1), stride=(1, 1))\n",
            "              (1): Sigmoid()\n",
            "            )\n",
            "          )\n",
            "        )\n",
            "        (conv2): Conv2dReLU(\n",
            "          (0): Conv2d(16, 16, kernel_size=(3, 3), stride=(1, 1), padding=(1, 1), bias=False)\n",
            "          (1): BatchNorm2d(16, eps=1e-05, momentum=0.1, affine=True, track_running_stats=True)\n",
            "          (2): ReLU(inplace=True)\n",
            "        )\n",
            "        (attention2): Attention(\n",
            "          (attention): SCSEModule(\n",
            "            (cSE): Sequential(\n",
            "              (0): AdaptiveAvgPool2d(output_size=1)\n",
            "              (1): Conv2d(16, 1, kernel_size=(1, 1), stride=(1, 1))\n",
            "              (2): ReLU(inplace=True)\n",
            "              (3): Conv2d(1, 16, kernel_size=(1, 1), stride=(1, 1))\n",
            "              (4): Sigmoid()\n",
            "            )\n",
            "            (sSE): Sequential(\n",
            "              (0): Conv2d(16, 1, kernel_size=(1, 1), stride=(1, 1))\n",
            "              (1): Sigmoid()\n",
            "            )\n",
            "          )\n",
            "        )\n",
            "      )\n",
            "    )\n",
            "  )\n",
            "  (segmentation_head): SegmentationHead(\n",
            "    (0): Conv2d(16, 1, kernel_size=(3, 3), stride=(1, 1), padding=(1, 1))\n",
            "    (1): Identity()\n",
            "    (2): Activation(\n",
            "      (activation): Identity()\n",
            "    )\n",
            "  )\n",
            ")\n"
          ]
        }
      ],
      "source": [
        "import segmentation_models_pytorch as smp\n",
        "\n",
        "# Create a U-Net model with a specified encoder\n",
        "model = smp.Unet(encoder_name=\"resnet34\",        # Choose encoder, e.g., resnet34 or any other encoder\n",
        "                 encoder_weights=\"imagenet\",     # Use pre-trained weights for the encoder\n",
        "                 in_channels=3,                  # Model input channels (1 for grayscale, 3 for RGB)\n",
        "                 classes=1,\n",
        "                 decoder_attention_type='scse')                      # Model output channels (number of classes)\n",
        "# model = smp.Unet(encoder_name=\"resnet34\",        # Choose encoder, e.g., resnet34 or any other encoder\n",
        "#                  in_channels=3,                  # Model input channels (1 for grayscale, 3 for RGB)\n",
        "#                  classes=1)                      # Model output channels (number of classes)\n",
        "\n",
        "# Print the model architecture\n",
        "print(model)\n",
        "# Input has 3 color channels [RGB] & Output has 1 color channel\n",
        "# Format NCHW - no. of samples in a mini-batch, no. of color channels, height and width."
      ]
    },
    {
      "cell_type": "markdown",
      "metadata": {
        "id": "Vzze2VhIK2S5"
      },
      "source": [
        "### Early Stopping"
      ]
    },
    {
      "cell_type": "code",
      "execution_count": 26,
      "metadata": {
        "id": "TbTO94ePK2S5"
      },
      "outputs": [],
      "source": [
        "class EarlyStopping:\n",
        "    def __init__(self, patience=7, mode=\"max\", delta=0.0001):\n",
        "        self.patience = patience\n",
        "        self.counter = 0\n",
        "        self.mode = mode\n",
        "        self.best_score = None\n",
        "        self.early_stop = False\n",
        "        self.delta = delta\n",
        "        if self.mode == \"min\":\n",
        "            self.val_score = np.Inf\n",
        "        else:\n",
        "            self.val_score = -np.Inf\n",
        "\n",
        "    def __call__(self, epoch, epoch_score, model, optimizer, loss, model_path):\n",
        "        if self.mode == \"min\":\n",
        "            score = -1.0 * epoch_score\n",
        "        else:\n",
        "            score = np.copy(epoch_score)\n",
        "\n",
        "        if self.best_score is None:\n",
        "            self.best_score = score\n",
        "            self.save_checkpoint(epoch, epoch_score, model, optimizer, loss, model_path)\n",
        "        elif score < self.best_score + self.delta:\n",
        "            self.counter += 1\n",
        "            print(\n",
        "                \"EarlyStopping counter: {} out of {}\".format(\n",
        "                    self.counter, self.patience\n",
        "                )\n",
        "            )\n",
        "            if self.counter >= self.patience:\n",
        "                self.early_stop = True\n",
        "        else:\n",
        "            self.best_score = score\n",
        "            self.save_checkpoint(epoch, epoch_score, model, optimizer, loss, model_path)\n",
        "            self.counter = 0\n",
        "\n",
        "    def save_checkpoint(self, epoch, epoch_score, model, optimizer, loss, model_path):\n",
        "        model_path = Path(model_path)\n",
        "        parent = model_path.parent\n",
        "        os.makedirs(parent, exist_ok=True)\n",
        "        if epoch_score not in [-np.inf, np.inf, -np.nan, np.nan]:\n",
        "            print(\n",
        "                \"Validation score improved ({} --> {}). Model saved at {}!\".format(\n",
        "                    self.val_score, epoch_score, model_path\n",
        "                )\n",
        "            )\n",
        "            torch.save({\"Epoch\": epoch, \"Train Loss\": loss, \"Validation Dice Score\": self.val_score, \"model_state_dict\": model.state_dict(), \"optimizer_state_dict\": optimizer.state_dict()}, model_path)\n",
        "            BEST_MODEL_PATH = model_path\n",
        "            print(f\"Checkpoint saved on epoch - {epoch} with dice score - {epoch_score}\")\n",
        "        self.val_score = epoch_score"
      ]
    },
    {
      "cell_type": "markdown",
      "metadata": {
        "id": "kOlM9jTEK2S5"
      },
      "source": [
        "### train_one_epoch"
      ]
    },
    {
      "cell_type": "code",
      "execution_count": 27,
      "metadata": {
        "id": "_amog1GHK2S5"
      },
      "outputs": [],
      "source": [
        "class AverageMeter:\n",
        "    def __init__(self):\n",
        "        self.val = 0\n",
        "        self.avg = 0\n",
        "        self.sum = 0\n",
        "        self.count = 0\n",
        "\n",
        "    def reset(self):\n",
        "        self.val = 0\n",
        "        self.avg = 0\n",
        "        self.sum = 0\n",
        "        self.count = 0\n",
        "\n",
        "    def update(self, val, n=1):\n",
        "        self.val = val\n",
        "        self.sum += val * n\n",
        "        self.count += n\n",
        "        self.avg = self.sum / self.count"
      ]
    },
    {
      "cell_type": "code",
      "execution_count": 28,
      "metadata": {
        "id": "xbn3pKTaK2S5"
      },
      "outputs": [],
      "source": [
        "def train_one_epoch(train_loader, model, optimizer, loss_fn, accumulation_steps=int(EFFECTIVE_BATCH_SIZE/BATCH_SIZE), device='cuda'):\n",
        "    losses = AverageMeter()\n",
        "\n",
        "    # Lists to store batch-to-batch progress details within the epoch while training\n",
        "    batch_count_train = []\n",
        "    batch_train_loss = []\n",
        "\n",
        "    model = model.to(device)\n",
        "    model.train()\n",
        "    if accumulation_steps > 1:\n",
        "      optimizer.zero_grad()\n",
        "    tk0 = tqdm(train_loader, total=len(train_loader))\n",
        "    for b_idx, data in enumerate(tk0):\n",
        "      # print(data['image'].shape) -> torch.Size([8, 3, 512, 512])\n",
        "      # print(data['mask'].shape) -> torch.Size([8, 1, 512, 512])\n",
        "      if (b_idx + 1) % accumulation_steps == 0:\n",
        "        batch_count_train.append(b_idx)\n",
        "\n",
        "      # moves image tensor and mask tensor to gpu\n",
        "      for key, value in data.items():\n",
        "        data[key] = value.to(\"cuda\")\n",
        "\n",
        "      if accumulation_steps == 1 and b_idx == 0:\n",
        "        optimizer.zero_grad()\n",
        "      out  = model(data['image']) # out.shape = torch.Size([8, 1, 512, 512])\n",
        "      loss = loss_fn(out, data['mask'].float()) # mask.shape = torch.Size([8, 1, 512, 512])\n",
        "      with torch.set_grad_enabled(True):\n",
        "        loss.backward()\n",
        "        if (b_idx + 1) % accumulation_steps == 0:\n",
        "          if GRADIENT_CLIPPING:\n",
        "            clip_grad_norm_(model.parameters(), GRADIENT_CLIPPING_THRESHOLD)\n",
        "          optimizer.step()\n",
        "          optimizer.zero_grad()\n",
        "      losses.update(loss.item(), train_loader.batch_size)\n",
        "      if (b_idx + 1) % accumulation_steps == 0:\n",
        "        batch_train_loss.append(loss.item())\n",
        "      tk0.set_postfix(loss=losses.avg, learning_rate=optimizer.param_groups[0]['lr'])\n",
        "    return losses.avg, batch_count_train, batch_train_loss"
      ]
    },
    {
      "cell_type": "code",
      "execution_count": 29,
      "metadata": {
        "id": "QCUdPtqF-unk"
      },
      "outputs": [],
      "source": [
        "criterion = CRITERION\n",
        "es = EarlyStopping(patience=EARLY_STOPPING_PATIENCE, mode='max')"
      ]
    },
    {
      "cell_type": "code",
      "execution_count": 30,
      "metadata": {
        "colab": {
          "base_uri": "https://localhost:8080/"
        },
        "id": "FKL6S336-unk",
        "outputId": "6cf126b9-50fb-4cff-cc16-0e229f0816c3"
      },
      "outputs": [
        {
          "data": {
            "text/plain": [
              "ComboLoss(\n",
              "  (bce): StableBCELoss()\n",
              "  (dice): DiceLoss()\n",
              "  (jaccard): JaccardLoss()\n",
              "  (lovasz): LovaszLoss()\n",
              "  (lovasz_sigmoid): LovaszLossSigmoid()\n",
              "  (focal): FocalLoss2d()\n",
              ")"
            ]
          },
          "execution_count": 30,
          "metadata": {},
          "output_type": "execute_result"
        }
      ],
      "source": [
        "criterion"
      ]
    },
    {
      "cell_type": "markdown",
      "metadata": {
        "id": "K136b3eqK2S5"
      },
      "source": [
        "### Validation Functions"
      ]
    },
    {
      "cell_type": "markdown",
      "metadata": {
        "id": "N1RY2NxC-unk"
      },
      "source": [
        "#### Mask Binarizer"
      ]
    },
    {
      "cell_type": "code",
      "execution_count": 31,
      "metadata": {
        "id": "V4my02Uf-unk"
      },
      "outputs": [],
      "source": [
        "class MaskBinarization():\n",
        "    def __init__(self):\n",
        "        self.thresholds = 0.5\n",
        "    def transform(self, predicted):\n",
        "        yield predicted > self.thresholds\n",
        "\n",
        "class SimpleMaskBinarization(MaskBinarization):\n",
        "    def __init__(self, score_thresholds):\n",
        "        super().__init__()\n",
        "        self.thresholds = score_thresholds\n",
        "    def transform(self, predicted):\n",
        "        for thr in self.thresholds:\n",
        "            yield predicted > thr\n",
        "\n",
        "class DupletMaskBinarization(MaskBinarization):\n",
        "    def __init__(self, duplets, with_channels=True):\n",
        "        super().__init__()\n",
        "        self.thresholds = duplets\n",
        "        self.dims = (2,3) if with_channels else (1,2)\n",
        "    def transform(self, predicted):\n",
        "        for score_threshold, area_threshold in self.thresholds:\n",
        "            mask = predicted > score_threshold\n",
        "            mask[mask.sum(dim=self.dims) < area_threshold] = 0\n",
        "            yield mask\n",
        "\n",
        "class TripletMaskBinarization(MaskBinarization):\n",
        "    def __init__(self, triplets, with_channels=True):\n",
        "        super().__init__()\n",
        "        self.thresholds = triplets\n",
        "        self.dims = (2,3) if with_channels else (1,2) # dims should be HxW, basically it should ignore batch_size and no_of_channels in the general format of BxCxHxW\n",
        "    def transform(self, predicted):\n",
        "        for top_score_threshold, area_threshold, bottom_score_threshold in self.thresholds:\n",
        "            clf_mask = (predicted > top_score_threshold).float()\n",
        "            pred_mask = (predicted > bottom_score_threshold).float()\n",
        "            pred_mask[clf_mask.sum(dim=self.dims) < area_threshold] = 0\n",
        "            yield pred_mask"
      ]
    },
    {
      "cell_type": "markdown",
      "metadata": {
        "id": "joGnfZgw-unl"
      },
      "source": [
        "#### Metric used in validation and evaluate function"
      ]
    },
    {
      "cell_type": "code",
      "execution_count": 32,
      "metadata": {
        "id": "zlWOcwQdK2S5"
      },
      "outputs": [],
      "source": [
        "def metric(probability, truth):\n",
        "    if probability.shape[0] == truth.shape[0]: # checking for batch size mismatches in the code for image & mask\n",
        "        batch_size = probability.shape[0]\n",
        "    with torch.no_grad():\n",
        "        probability = probability.view(batch_size, -1) # probability's size is [8, 1*512*512]\n",
        "        truth = truth.view(batch_size, -1)             # truth's size is [8, 1*512*512]\n",
        "        assert(probability.shape == truth.shape)\n",
        "\n",
        "        p = probability.float() # prob_preds already comes in binarized.\n",
        "        t = (truth > 0.5).float()\n",
        "\n",
        "        t_sum = t.sum(-1) # t_sum size is 8 # Each value in the vector represents the sum of all pixels in one mask\n",
        "        p_sum = p.sum(-1) # p_sum size is 8 # Each value in the vector represents the sum of all elements in one pred_probs\n",
        "        neg_index = torch.nonzero(t_sum == 0) # indices of masks which are negative.\n",
        "        pos_index = torch.nonzero(t_sum >= 1) # indices of masks which are positive.\n",
        "\n",
        "        dice_neg = (p_sum == 0).float() # tensor of size 8\n",
        "        \"\"\"\n",
        "        if t_sum = torch.tensor([0.0, 1000.0, 0.0, 600.0, 720.0, 420.0, 0.0, 0.0]), then dice_neg = tensor([1.0, 0.0, 1.0, 0.0, 0.0, 0.0, 1.0, 1.0])\n",
        "        \"\"\"\n",
        "        dice_pos = 2 * (p*t).sum(-1)/((p+t).sum(-1)) # tensor of size 8\n",
        "\n",
        "        dice_neg = dice_neg[neg_index] # selects elements of dice_neg acc to the indices in neg_index, it can have more than one element.\n",
        "        dice_pos = dice_pos[pos_index] # similar to the above code line.\n",
        "        dice = torch.cat([dice_pos, dice_neg])\n",
        "\n",
        "        num_neg = len(neg_index) # no. of negative masks in a batch\n",
        "        num_pos = len(pos_index) # no. of positive masks in a batch\n",
        "\n",
        "    return dice.mean()"
      ]
    },
    {
      "cell_type": "code",
      "execution_count": 33,
      "metadata": {
        "id": "u3ovO3f9XHQt"
      },
      "outputs": [],
      "source": [
        "# Function to save the data dynamically\n",
        "def save_best_thresholds(epoch, b_idx, best_metric, best_threshold, filepath=Path(save_best_thresholds_path)):\n",
        "    # Create a dictionary of lists\n",
        "    data = {\n",
        "        'epoch': epoch,\n",
        "        'batch_number': b_idx,\n",
        "        'best_metric': best_metric,\n",
        "        'best_threshold': best_threshold\n",
        "    }\n",
        "\n",
        "    # Create a DataFrame\n",
        "    df = pd.DataFrame(data)\n",
        "\n",
        "    # Save DataFrame to CSV (mode='w' to write from scratch each time, mode='a' to append)\n",
        "    df.to_csv(filepath, index=False, mode='w')"
      ]
    },
    {
      "cell_type": "code",
      "execution_count": 34,
      "metadata": {
        "id": "7opE5TuMRCvg"
      },
      "outputs": [],
      "source": [
        "epoch_count_thr = []\n",
        "batch_indices = []\n",
        "best_metrics_list = []\n",
        "best_thresholds_list = []"
      ]
    },
    {
      "cell_type": "code",
      "execution_count": 35,
      "metadata": {
        "id": "ww6ftfKmK2S5"
      },
      "outputs": [],
      "source": [
        "def evaluate(valid_loader, model, epoch, device=DEVICE, metric=metric, loss_fn=criterion):\n",
        "    losses = AverageMeter()\n",
        "    combolosses = AverageMeter()\n",
        "    metrics = defaultdict(float)\n",
        "    # Lists to store batch-to-batch progress details within the epoch while training\n",
        "    batch_count_val = []\n",
        "    batch_val_loss_values = []\n",
        "    model = model.to(device)\n",
        "    model.eval()\n",
        "    tk0 = tqdm(valid_loader, total=len(valid_loader))\n",
        "    with torch.inference_mode():\n",
        "        for b_idx, data in enumerate(tk0):\n",
        "          batch_count_val.append(b_idx)\n",
        "          for key, value in data.items():\n",
        "            data[key] = value.to(device)\n",
        "          out   = model(data['image']) # Raw model output\n",
        "          loss = loss_fn(out, data['mask']).cpu()\n",
        "          pred_probs   = torch.sigmoid(out) # Prediction probabilities, this is already done in ComboLoss's forward function.\n",
        "          # dice and jaccard expect prediction probabilities whereas bce expects logits (raw model outputs). It's mentioned inside the class too.\n",
        "          # This is a mistake, you can't pass prediction probability into a evaluation metric like this.\n",
        "          # You must pass the mask cuz u are comparing the actual mask(target) and the predicted mask not predicted probabilities.\n",
        "          # So, 1st apply mask binarization to the prediction probabilities.\n",
        "          binarizer_fn = TripletMaskBinarization(TRIPLET_THRESHOLDS)\n",
        "          mask_generator = binarizer_fn.transform(pred_probs)\n",
        "          used_thresholds = binarizer_fn.thresholds\n",
        "          # ------------------------------------- Tests Required ---------------------------------------------------------\n",
        "          for current_thr, current_mask in zip(used_thresholds, mask_generator):\n",
        "              current_metric = metric(current_mask, data['mask']).item()\n",
        "              current_thr = tuple(current_thr)\n",
        "              metrics[current_thr] = (metrics[current_thr] * b_idx + current_metric) / (b_idx + 1)\n",
        "\n",
        "          best_threshold = max(metrics, key=metrics.get)\n",
        "          best_metric = metrics[best_threshold]\n",
        "          tk0.set_description('score: {:.5f} on {}'.format(best_metric, best_threshold))\n",
        "          dice = best_metric\n",
        "\n",
        "          epoch_count_thr.append(epoch)\n",
        "          batch_indices.append(b_idx)\n",
        "          best_metrics_list.append(best_metric)\n",
        "          best_thresholds_list.append(best_threshold)\n",
        "          save_best_thresholds(epoch_count_thr, batch_indices, best_metrics_list, best_thresholds_list)\n",
        "\n",
        "          # if .item() is used then .cpu() is NOT required. .item() will itself return a float value.\n",
        "          losses.update(dice, valid_loader.batch_size)\n",
        "          combolosses.update(loss.item(), valid_loader.batch_size)\n",
        "          batch_val_loss_values.append(loss.item())\n",
        "          tk0.set_postfix(dice_score=losses.avg, val_loss=combolosses.avg)\n",
        "    return losses.avg, batch_count_val, batch_val_loss_values, combolosses.avg"
      ]
    },
    {
      "cell_type": "markdown",
      "metadata": {
        "id": "mE7TO5J9XHQt"
      },
      "source": [
        "### Optimizer & Scheduler"
      ]
    },
    {
      "cell_type": "code",
      "execution_count": 36,
      "metadata": {
        "id": "Fn0XAwlyK2S6"
      },
      "outputs": [],
      "source": [
        "if PRETRAINED:\n",
        "  checkpoint = torch.load(TRAINING_MODEL_PATH)\n",
        "  model.to(DEVICE)\n",
        "  model.load_state_dict(checkpoint[\"model_state_dict\"])\n",
        "  optimizer = torch.optim.Adam(model.parameters(), lr= LEARNING_RATE, weight_decay= L2_WEIGHT_DECAY)\n",
        "  if OPTIMIZER_LOAD:\n",
        "    optimizer.load_state_dict(checkpoint[\"optimizer_state_dict\"])\n",
        "\n",
        "  # Manually set the new learning rate for this stage of training as loading optimizer's state dict will\n",
        "  # load parameters that was there while saving the previous checkpoint but loading the optimizer's state dict is\n",
        "  # crucial\n",
        "  for param_group in optimizer.param_groups:\n",
        "    param_group['lr'] = LEARNING_RATE\n",
        "\n",
        "  if SCHEDULER == \"ReduceLROnPlateau\":\n",
        "    scheduler = torch.optim.lr_scheduler.ReduceLROnPlateau(optimizer, mode='max', factor=SCHEDULER_PARAMS[\"factor\"], patience=SCHEDULER_PARAMS[\"patience\"], threshold=SCHEDULER_PARAMS[\"threshold\"], min_lr=SCHEDULER_PARAMS[\"min_lr\"])\n",
        "  elif SCHEDULER == \"CosineAnnealingWarmRestarts\":\n",
        "    scheduler = torch.optim.lr_scheduler.CosineAnnealingWarmRestarts(optimizer, T_0=SCHEDULER_PARAMS[\"T_0\"], T_mult=SCHEDULER_PARAMS[\"T_mult\"], eta_min=SCHEDULER_PARAMS[\"eta_min\"])\n",
        "  elif SCHEDULER == \"CosineAnnealingLR\":\n",
        "    scheduler = torch.optim.lr_scheduler.CosineAnnealingLR(optimizer, T_max=SCHEDULER_PARAMS[\"T_max\"], eta_min=SCHEDULER_PARAMS[\"eta_min\"])"
      ]
    },
    {
      "cell_type": "code",
      "execution_count": 37,
      "metadata": {
        "id": "gK69cmOlRCvg"
      },
      "outputs": [],
      "source": [
        "if not PRETRAINED:\n",
        "    optimizer = torch.optim.Adam(model.parameters(), lr= LEARNING_RATE, weight_decay= L2_WEIGHT_DECAY)\n",
        "    scheduler = torch.optim.lr_scheduler.ReduceLROnPlateau(optimizer, mode='max', factor=SCHEDULER_PARAMS[\"factor\"], patience=SCHEDULER_PARAMS[\"patience\"], threshold=SCHEDULER_PARAMS[\"threshold\"], min_lr=SCHEDULER_PARAMS[\"min_lr\"])"
      ]
    },
    {
      "cell_type": "code",
      "execution_count": 38,
      "metadata": {
        "colab": {
          "base_uri": "https://localhost:8080/"
        },
        "id": "LqlFcFDSRCvh",
        "outputId": "637f07b0-7eac-44f6-b44f-c88d30947096"
      },
      "outputs": [
        {
          "name": "stdout",
          "output_type": "stream",
          "text": [
            "New learning rate: 1e-05\n"
          ]
        }
      ],
      "source": [
        "for param_group in optimizer.param_groups:\n",
        "    print(f\"New learning rate: {param_group['lr']}\")"
      ]
    },
    {
      "cell_type": "code",
      "execution_count": 39,
      "metadata": {
        "colab": {
          "base_uri": "https://localhost:8080/"
        },
        "id": "ig7E3afMOi-6",
        "outputId": "263ea848-38e9-442d-b82b-0f24380e38e0"
      },
      "outputs": [
        {
          "name": "stdout",
          "output_type": "stream",
          "text": [
            "Initial learning rate of scheduler: 1e-05\n"
          ]
        }
      ],
      "source": [
        "initial_lr_scheduler = scheduler.base_lrs[0]  # Assuming a single learning rate for all parameters\n",
        "print(\"Initial learning rate of scheduler:\", initial_lr_scheduler)\n"
      ]
    },
    {
      "cell_type": "markdown",
      "metadata": {
        "id": "RtHHjC45vsqr"
      },
      "source": [
        "### Training"
      ]
    },
    {
      "cell_type": "markdown",
      "metadata": {
        "id": "LcACWXgAXHQu"
      },
      "source": [
        "#### Saving Functions"
      ]
    },
    {
      "cell_type": "code",
      "execution_count": 41,
      "metadata": {
        "id": "AzIGIAe2FmJQ"
      },
      "outputs": [],
      "source": [
        "def store_batch_training_details(epoch, batch_count_train, batch_train_loss):\n",
        "  # Directory where you want to save the CSV file\n",
        "  directory = store_batch_training_details_path\n",
        "\n",
        "  # Ensure the directory exists\n",
        "  os.makedirs(directory, exist_ok=True)\n",
        "\n",
        "  # File path\n",
        "  file_path = os.path.join(directory, name_of_batch_training_details_csv + f\"{epoch}.csv\")\n",
        "\n",
        "  # Write to CSV file\n",
        "  with open(file_path, \"w\", newline=\"\") as file:\n",
        "      writer = csv.writer(file)\n",
        "      # Write header\n",
        "      writer.writerow([\"Batch Count Train\", \"Batch Train Loss\"])\n",
        "      # Write data rows\n",
        "      for batch_count, train_loss in zip(batch_count_train, batch_train_loss):\n",
        "          writer.writerow([batch_count, train_loss])\n",
        "\n",
        "  print(f\"CSV file for epoch-{epoch}has been created at: {file_path}\")\n"
      ]
    },
    {
      "cell_type": "code",
      "execution_count": 42,
      "metadata": {
        "id": "f5-0shprvsqr"
      },
      "outputs": [],
      "source": [
        "def store_batch_validation_details(epoch, batch_count_val, batch_val_score_values):\n",
        "  # Directory where you want to save the CSV file\n",
        "  directory = store_batch_validation_details_path\n",
        "\n",
        "  # Ensure the directory exists\n",
        "  os.makedirs(directory, exist_ok=True)\n",
        "\n",
        "  # File path\n",
        "  file_path = os.path.join(directory, name_of_batch_validation_details_csv + f\"{epoch}.csv\")\n",
        "\n",
        "  # Write to CSV file\n",
        "  with open(file_path, \"w\", newline=\"\") as file:\n",
        "      writer = csv.writer(file)\n",
        "      # Write header\n",
        "      writer.writerow([\"Batch Count Validation\", \"Batch Validation Loss\"])\n",
        "      # Write data rows\n",
        "      for batch_count, batch_val_score in zip(batch_count_val, batch_val_score_values):\n",
        "          writer.writerow([batch_count, batch_val_score])\n",
        "\n",
        "  print(f\"CSV file for validation, epoch-{epoch}has been created at: {file_path}\")\n"
      ]
    },
    {
      "cell_type": "code",
      "execution_count": 43,
      "metadata": {
        "id": "ijkQ3VlU-unm"
      },
      "outputs": [],
      "source": [
        "# Function to save the data dynamically\n",
        "def save_progress(epoch_count, loss_values, val_loss_values, filepath= Path(save_progress_path)):\n",
        "    # Create a dictionary of lists\n",
        "    data = {\n",
        "        'epoch': epoch_count,\n",
        "        'train_loss': loss_values,\n",
        "        'val_loss': [None] * (len(epoch_count) - len(val_loss_values)) + val_loss_values\n",
        "    }\n",
        "\n",
        "    # Create a DataFrame\n",
        "    df = pd.DataFrame(data)\n",
        "\n",
        "    # Save DataFrame to CSV (mode='w' to write from scratch each time, mode='a' to append)\n",
        "    df.to_csv(filepath, index=False, mode='w')"
      ]
    },
    {
      "cell_type": "code",
      "execution_count": 44,
      "metadata": {
        "id": "PTogqmQgWkZC"
      },
      "outputs": [],
      "source": [
        "# Function to save the data dynamically\n",
        "def save_dice_score(epoch_count, val_score_values, filepath= Path(save_dice_score_path)):\n",
        "    # Create a dictionary of lists\n",
        "    data = {\n",
        "        'epoch': epoch_count,\n",
        "        'val_dice_scores': [None] * (len(epoch_count) - len(val_score_values)) + val_score_values\n",
        "    }\n",
        "\n",
        "    # Create a DataFrame\n",
        "    df = pd.DataFrame(data)\n",
        "\n",
        "    # Save DataFrame to CSV (mode='w' to write from scratch each time, mode='a' to append)\n",
        "    df.to_csv(filepath, index=False, mode='w')"
      ]
    },
    {
      "cell_type": "code",
      "execution_count": 45,
      "metadata": {
        "id": "ntFd7ioHXHQv"
      },
      "outputs": [],
      "source": [
        "# Function to save the data dynamically\n",
        "def save_losses(bce_losses=bce_losses, dice_losses=dice_losses, focal_losses=focal_losses, filepath= Path(save_3losses_path)):\n",
        "    # Create a dictionary of lists\n",
        "    data = {\n",
        "        'bce': bce_losses,\n",
        "        'dice': dice_losses,\n",
        "        'focal': focal_losses\n",
        "    }\n",
        "\n",
        "    # Create a DataFrame\n",
        "    df = pd.DataFrame(data)\n",
        "\n",
        "    # Save DataFrame to CSV (mode='w' to write from scratch each time, mode='a' to append)\n",
        "    df.to_csv(filepath, index=False, mode='w')"
      ]
    },
    {
      "cell_type": "markdown",
      "metadata": {
        "id": "WMFmkSOtXHQv"
      },
      "source": [
        "#### Training Pipeline"
      ]
    },
    {
      "cell_type": "code",
      "execution_count": 46,
      "metadata": {
        "colab": {
          "base_uri": "https://localhost:8080/"
        },
        "id": "0bPiRNBuK2S6",
        "outputId": "de7bef60-e147-4263-f2f6-374254bd45cc",
        "scrolled": false
      },
      "outputs": [
        {
          "name": "stderr",
          "output_type": "stream",
          "text": [
            "100%|██████████| 595/595 [15:51<00:00,  1.60s/it, learning_rate=1e-5, loss=0.922]\n"
          ]
        },
        {
          "name": "stdout",
          "output_type": "stream",
          "text": [
            "CSV file for epoch-1has been created at: /content/drive/MyDrive/Saved Models/model1024/Model1024_HPT_EXP_ATT_4_BS_8_PHASE_3_step_1_explore/Model1024_HPT_train_m1024_b8/Model1024_HPT_TRAIN_1024_b_8_epoch_1.csv\n",
            "EPOCH: 1, TRAIN LOSS: 0.9221551354191885\n"
          ]
        },
        {
          "name": "stderr",
          "output_type": "stream",
          "text": [
            "score: 0.77830 on (0.75, 250.0, 0.3): 100%|██████████| 268/268 [06:43<00:00,  1.51s/it, dice_score=0.784, val_loss=1.1]\n"
          ]
        },
        {
          "name": "stdout",
          "output_type": "stream",
          "text": [
            "CSV file for validation, epoch-1has been created at: /content/drive/MyDrive/Saved Models/model1024/Model1024_HPT_EXP_ATT_4_BS_8_PHASE_3_step_1_explore/Model1024_HPT_vali_m1024_b8/Model1024_HPT_1024_b_8_Validation_Metrics1.csv\n",
            "EPOCH: 1, TRAIN LOSS: 0.9221551354191885, VAL DICE: 0.7841194347758371\n",
            "Validation score improved (-inf --> 0.7841194347758371). Model saved at /content/drive/MyDrive/Saved Models/model1024/Model1024_HPT_EXP_ATT_4_BS_8_PHASE_3_step_1_explore/m_1024_CHECKPOINTS_epoch1_bst_model1024_fold4_0.7841.tar!\n",
            "Checkpoint saved on epoch - 1 with dice score - 0.7841194347758371\n"
          ]
        },
        {
          "name": "stderr",
          "output_type": "stream",
          "text": [
            "100%|██████████| 595/595 [05:58<00:00,  1.66it/s, learning_rate=1e-5, loss=0.919]\n"
          ]
        },
        {
          "name": "stdout",
          "output_type": "stream",
          "text": [
            "CSV file for epoch-2has been created at: /content/drive/MyDrive/Saved Models/model1024/Model1024_HPT_EXP_ATT_4_BS_8_PHASE_3_step_1_explore/Model1024_HPT_train_m1024_b8/Model1024_HPT_TRAIN_1024_b_8_epoch_2.csv\n",
            "EPOCH: 2, TRAIN LOSS: 0.9192208712842284\n"
          ]
        },
        {
          "name": "stderr",
          "output_type": "stream",
          "text": [
            "score: 0.77685 on (0.6, 3000, 0.3): 100%|██████████| 268/268 [00:54<00:00,  4.89it/s, dice_score=0.78, val_loss=1.05]\n"
          ]
        },
        {
          "name": "stdout",
          "output_type": "stream",
          "text": [
            "CSV file for validation, epoch-2has been created at: /content/drive/MyDrive/Saved Models/model1024/Model1024_HPT_EXP_ATT_4_BS_8_PHASE_3_step_1_explore/Model1024_HPT_vali_m1024_b8/Model1024_HPT_1024_b_8_Validation_Metrics2.csv\n",
            "EPOCH: 2, TRAIN LOSS: 0.9192208712842284, VAL DICE: 0.7799081636536486\n",
            "EarlyStopping counter: 1 out of 12\n"
          ]
        },
        {
          "name": "stderr",
          "output_type": "stream",
          "text": [
            "100%|██████████| 595/595 [04:44<00:00,  2.09it/s, learning_rate=5.05e-6, loss=0.912]\n"
          ]
        },
        {
          "name": "stdout",
          "output_type": "stream",
          "text": [
            "CSV file for epoch-3has been created at: /content/drive/MyDrive/Saved Models/model1024/Model1024_HPT_EXP_ATT_4_BS_8_PHASE_3_step_1_explore/Model1024_HPT_train_m1024_b8/Model1024_HPT_TRAIN_1024_b_8_epoch_3.csv\n",
            "EPOCH: 3, TRAIN LOSS: 0.9118364689730797\n"
          ]
        },
        {
          "name": "stderr",
          "output_type": "stream",
          "text": [
            "score: 0.81557 on (0.6, 3000, 0.3): 100%|██████████| 268/268 [00:55<00:00,  4.85it/s, dice_score=0.82, val_loss=1.02]\n"
          ]
        },
        {
          "name": "stdout",
          "output_type": "stream",
          "text": [
            "CSV file for validation, epoch-3has been created at: /content/drive/MyDrive/Saved Models/model1024/Model1024_HPT_EXP_ATT_4_BS_8_PHASE_3_step_1_explore/Model1024_HPT_vali_m1024_b8/Model1024_HPT_1024_b_8_Validation_Metrics3.csv\n",
            "EPOCH: 3, TRAIN LOSS: 0.9118364689730797, VAL DICE: 0.8196133856152807\n",
            "Validation score improved (0.7841194347758371 --> 0.8196133856152807). Model saved at /content/drive/MyDrive/Saved Models/model1024/Model1024_HPT_EXP_ATT_4_BS_8_PHASE_3_step_1_explore/m_1024_CHECKPOINTS_epoch3_bst_model1024_fold4_0.8196.tar!\n",
            "Checkpoint saved on epoch - 3 with dice score - 0.8196133856152807\n"
          ]
        },
        {
          "name": "stderr",
          "output_type": "stream",
          "text": [
            "100%|██████████| 595/595 [04:05<00:00,  2.42it/s, learning_rate=1e-5, loss=0.917]\n"
          ]
        },
        {
          "name": "stdout",
          "output_type": "stream",
          "text": [
            "CSV file for epoch-4has been created at: /content/drive/MyDrive/Saved Models/model1024/Model1024_HPT_EXP_ATT_4_BS_8_PHASE_3_step_1_explore/Model1024_HPT_train_m1024_b8/Model1024_HPT_TRAIN_1024_b_8_epoch_4.csv\n",
            "EPOCH: 4, TRAIN LOSS: 0.9165379207675196\n"
          ]
        },
        {
          "name": "stderr",
          "output_type": "stream",
          "text": [
            "score: 0.50367 on (0.75, 2000, 0.4): 100%|██████████| 268/268 [00:55<00:00,  4.80it/s, dice_score=0.502, val_loss=1.25]\n"
          ]
        },
        {
          "name": "stdout",
          "output_type": "stream",
          "text": [
            "CSV file for validation, epoch-4has been created at: /content/drive/MyDrive/Saved Models/model1024/Model1024_HPT_EXP_ATT_4_BS_8_PHASE_3_step_1_explore/Model1024_HPT_vali_m1024_b8/Model1024_HPT_1024_b_8_Validation_Metrics4.csv\n",
            "EPOCH: 4, TRAIN LOSS: 0.9165379207675196, VAL DICE: 0.5021134955617592\n",
            "EarlyStopping counter: 1 out of 12\n"
          ]
        },
        {
          "name": "stderr",
          "output_type": "stream",
          "text": [
            "100%|██████████| 595/595 [04:03<00:00,  2.44it/s, learning_rate=8.55e-6, loss=0.912]\n"
          ]
        },
        {
          "name": "stdout",
          "output_type": "stream",
          "text": [
            "CSV file for epoch-5has been created at: /content/drive/MyDrive/Saved Models/model1024/Model1024_HPT_EXP_ATT_4_BS_8_PHASE_3_step_1_explore/Model1024_HPT_train_m1024_b8/Model1024_HPT_TRAIN_1024_b_8_epoch_5.csv\n",
            "EPOCH: 5, TRAIN LOSS: 0.9122614010041501\n"
          ]
        },
        {
          "name": "stderr",
          "output_type": "stream",
          "text": [
            "score: 0.19289 on (0.75, 2000, 0.4): 100%|██████████| 268/268 [00:56<00:00,  4.77it/s, dice_score=0.192, val_loss=1.79]\n"
          ]
        },
        {
          "name": "stdout",
          "output_type": "stream",
          "text": [
            "CSV file for validation, epoch-5has been created at: /content/drive/MyDrive/Saved Models/model1024/Model1024_HPT_EXP_ATT_4_BS_8_PHASE_3_step_1_explore/Model1024_HPT_vali_m1024_b8/Model1024_HPT_1024_b_8_Validation_Metrics5.csv\n",
            "EPOCH: 5, TRAIN LOSS: 0.9122614010041501, VAL DICE: 0.19152933813368817\n",
            "EarlyStopping counter: 2 out of 12\n"
          ]
        },
        {
          "name": "stderr",
          "output_type": "stream",
          "text": [
            "100%|██████████| 595/595 [04:04<00:00,  2.44it/s, learning_rate=5.05e-6, loss=0.91]\n"
          ]
        },
        {
          "name": "stdout",
          "output_type": "stream",
          "text": [
            "CSV file for epoch-6has been created at: /content/drive/MyDrive/Saved Models/model1024/Model1024_HPT_EXP_ATT_4_BS_8_PHASE_3_step_1_explore/Model1024_HPT_train_m1024_b8/Model1024_HPT_TRAIN_1024_b_8_epoch_6.csv\n",
            "EPOCH: 6, TRAIN LOSS: 0.9097772496087211\n"
          ]
        },
        {
          "name": "stderr",
          "output_type": "stream",
          "text": [
            "score: 0.77830 on (0.6, 500.0, 0.35): 100%|██████████| 268/268 [00:56<00:00,  4.73it/s, dice_score=0.784, val_loss=1.13]\n"
          ]
        },
        {
          "name": "stdout",
          "output_type": "stream",
          "text": [
            "CSV file for validation, epoch-6has been created at: /content/drive/MyDrive/Saved Models/model1024/Model1024_HPT_EXP_ATT_4_BS_8_PHASE_3_step_1_explore/Model1024_HPT_vali_m1024_b8/Model1024_HPT_1024_b_8_Validation_Metrics6.csv\n",
            "EPOCH: 6, TRAIN LOSS: 0.9097772496087211, VAL DICE: 0.7837868456017937\n",
            "EarlyStopping counter: 3 out of 12\n"
          ]
        },
        {
          "name": "stderr",
          "output_type": "stream",
          "text": [
            "100%|██████████| 595/595 [04:04<00:00,  2.43it/s, learning_rate=1.55e-6, loss=0.906]\n"
          ]
        },
        {
          "name": "stdout",
          "output_type": "stream",
          "text": [
            "CSV file for epoch-7has been created at: /content/drive/MyDrive/Saved Models/model1024/Model1024_HPT_EXP_ATT_4_BS_8_PHASE_3_step_1_explore/Model1024_HPT_train_m1024_b8/Model1024_HPT_TRAIN_1024_b_8_epoch_7.csv\n",
            "EPOCH: 7, TRAIN LOSS: 0.9055663200987487\n"
          ]
        },
        {
          "name": "stderr",
          "output_type": "stream",
          "text": [
            "score: 0.77889 on (0.6, 3000, 0.3): 100%|██████████| 268/268 [00:56<00:00,  4.71it/s, dice_score=0.794, val_loss=0.971]\n"
          ]
        },
        {
          "name": "stdout",
          "output_type": "stream",
          "text": [
            "CSV file for validation, epoch-7has been created at: /content/drive/MyDrive/Saved Models/model1024/Model1024_HPT_EXP_ATT_4_BS_8_PHASE_3_step_1_explore/Model1024_HPT_vali_m1024_b8/Model1024_HPT_1024_b_8_Validation_Metrics7.csv\n",
            "EPOCH: 7, TRAIN LOSS: 0.9055663200987487, VAL DICE: 0.7935205935496978\n",
            "EarlyStopping counter: 4 out of 12\n"
          ]
        },
        {
          "name": "stderr",
          "output_type": "stream",
          "text": [
            "100%|██████████| 595/595 [04:04<00:00,  2.43it/s, learning_rate=1e-5, loss=0.909]\n"
          ]
        },
        {
          "name": "stdout",
          "output_type": "stream",
          "text": [
            "CSV file for epoch-8has been created at: /content/drive/MyDrive/Saved Models/model1024/Model1024_HPT_EXP_ATT_4_BS_8_PHASE_3_step_1_explore/Model1024_HPT_train_m1024_b8/Model1024_HPT_TRAIN_1024_b_8_epoch_8.csv\n",
            "EPOCH: 8, TRAIN LOSS: 0.9089200899380596\n"
          ]
        },
        {
          "name": "stderr",
          "output_type": "stream",
          "text": [
            "score: 0.76195 on (0.75, 2000, 0.3): 100%|██████████| 268/268 [00:57<00:00,  4.68it/s, dice_score=0.769, val_loss=1.05]\n"
          ]
        },
        {
          "name": "stdout",
          "output_type": "stream",
          "text": [
            "CSV file for validation, epoch-8has been created at: /content/drive/MyDrive/Saved Models/model1024/Model1024_HPT_EXP_ATT_4_BS_8_PHASE_3_step_1_explore/Model1024_HPT_vali_m1024_b8/Model1024_HPT_1024_b_8_Validation_Metrics8.csv\n",
            "EPOCH: 8, TRAIN LOSS: 0.9089200899380596, VAL DICE: 0.7688817533732455\n",
            "EarlyStopping counter: 5 out of 12\n"
          ]
        },
        {
          "name": "stderr",
          "output_type": "stream",
          "text": [
            "100%|██████████| 595/595 [04:03<00:00,  2.44it/s, learning_rate=9.62e-6, loss=0.914]\n"
          ]
        },
        {
          "name": "stdout",
          "output_type": "stream",
          "text": [
            "CSV file for epoch-9has been created at: /content/drive/MyDrive/Saved Models/model1024/Model1024_HPT_EXP_ATT_4_BS_8_PHASE_3_step_1_explore/Model1024_HPT_train_m1024_b8/Model1024_HPT_TRAIN_1024_b_8_epoch_9.csv\n",
            "EPOCH: 9, TRAIN LOSS: 0.9140807459334366\n"
          ]
        },
        {
          "name": "stderr",
          "output_type": "stream",
          "text": [
            "score: 0.25344 on (0.75, 2000, 0.4): 100%|██████████| 268/268 [00:57<00:00,  4.68it/s, dice_score=0.247, val_loss=1.44]\n"
          ]
        },
        {
          "name": "stdout",
          "output_type": "stream",
          "text": [
            "CSV file for validation, epoch-9has been created at: /content/drive/MyDrive/Saved Models/model1024/Model1024_HPT_EXP_ATT_4_BS_8_PHASE_3_step_1_explore/Model1024_HPT_vali_m1024_b8/Model1024_HPT_1024_b_8_Validation_Metrics9.csv\n",
            "EPOCH: 9, TRAIN LOSS: 0.9140807459334366, VAL DICE: 0.2473350922394283\n",
            "EarlyStopping counter: 6 out of 12\n"
          ]
        },
        {
          "name": "stderr",
          "output_type": "stream",
          "text": [
            "100%|██████████| 595/595 [04:06<00:00,  2.41it/s, learning_rate=8.55e-6, loss=0.905]\n"
          ]
        },
        {
          "name": "stdout",
          "output_type": "stream",
          "text": [
            "CSV file for epoch-10has been created at: /content/drive/MyDrive/Saved Models/model1024/Model1024_HPT_EXP_ATT_4_BS_8_PHASE_3_step_1_explore/Model1024_HPT_train_m1024_b8/Model1024_HPT_TRAIN_1024_b_8_epoch_10.csv\n",
            "EPOCH: 10, TRAIN LOSS: 0.905291808252575\n"
          ]
        },
        {
          "name": "stderr",
          "output_type": "stream",
          "text": [
            "score: 0.77811 on (0.75, 2000, 0.4): 100%|██████████| 268/268 [00:57<00:00,  4.63it/s, dice_score=0.782, val_loss=1.19]\n"
          ]
        },
        {
          "name": "stdout",
          "output_type": "stream",
          "text": [
            "CSV file for validation, epoch-10has been created at: /content/drive/MyDrive/Saved Models/model1024/Model1024_HPT_EXP_ATT_4_BS_8_PHASE_3_step_1_explore/Model1024_HPT_vali_m1024_b8/Model1024_HPT_1024_b_8_Validation_Metrics10.csv\n",
            "EPOCH: 10, TRAIN LOSS: 0.905291808252575, VAL DICE: 0.7822311712467849\n",
            "EarlyStopping counter: 7 out of 12\n"
          ]
        },
        {
          "name": "stderr",
          "output_type": "stream",
          "text": [
            "100%|██████████| 595/595 [04:04<00:00,  2.44it/s, learning_rate=6.94e-6, loss=0.898]\n"
          ]
        },
        {
          "name": "stdout",
          "output_type": "stream",
          "text": [
            "CSV file for epoch-11has been created at: /content/drive/MyDrive/Saved Models/model1024/Model1024_HPT_EXP_ATT_4_BS_8_PHASE_3_step_1_explore/Model1024_HPT_train_m1024_b8/Model1024_HPT_TRAIN_1024_b_8_epoch_11.csv\n",
            "EPOCH: 11, TRAIN LOSS: 0.8977756171667275\n"
          ]
        },
        {
          "name": "stderr",
          "output_type": "stream",
          "text": [
            "score: 0.81117 on (0.6, 3000, 0.3): 100%|██████████| 268/268 [00:58<00:00,  4.60it/s, dice_score=0.812, val_loss=1.03]\n"
          ]
        },
        {
          "name": "stdout",
          "output_type": "stream",
          "text": [
            "CSV file for validation, epoch-11has been created at: /content/drive/MyDrive/Saved Models/model1024/Model1024_HPT_EXP_ATT_4_BS_8_PHASE_3_step_1_explore/Model1024_HPT_vali_m1024_b8/Model1024_HPT_1024_b_8_Validation_Metrics11.csv\n",
            "EPOCH: 11, TRAIN LOSS: 0.8977756171667275, VAL DICE: 0.8121446715237434\n",
            "EarlyStopping counter: 8 out of 12\n"
          ]
        },
        {
          "name": "stderr",
          "output_type": "stream",
          "text": [
            "100%|██████████| 595/595 [04:03<00:00,  2.44it/s, learning_rate=5.05e-6, loss=0.897]\n"
          ]
        },
        {
          "name": "stdout",
          "output_type": "stream",
          "text": [
            "CSV file for epoch-12has been created at: /content/drive/MyDrive/Saved Models/model1024/Model1024_HPT_EXP_ATT_4_BS_8_PHASE_3_step_1_explore/Model1024_HPT_train_m1024_b8/Model1024_HPT_TRAIN_1024_b_8_epoch_12.csv\n",
            "EPOCH: 12, TRAIN LOSS: 0.8966217079082457\n"
          ]
        },
        {
          "name": "stderr",
          "output_type": "stream",
          "text": [
            "score: 0.77951 on (0.6, 750.0, 0.3): 100%|██████████| 268/268 [00:58<00:00,  4.59it/s, dice_score=0.785, val_loss=1.09]\n"
          ]
        },
        {
          "name": "stdout",
          "output_type": "stream",
          "text": [
            "CSV file for validation, epoch-12has been created at: /content/drive/MyDrive/Saved Models/model1024/Model1024_HPT_EXP_ATT_4_BS_8_PHASE_3_step_1_explore/Model1024_HPT_vali_m1024_b8/Model1024_HPT_1024_b_8_Validation_Metrics12.csv\n",
            "EPOCH: 12, TRAIN LOSS: 0.8966217079082457, VAL DICE: 0.7847783422414186\n",
            "EarlyStopping counter: 9 out of 12\n"
          ]
        },
        {
          "name": "stderr",
          "output_type": "stream",
          "text": [
            "100%|██████████| 595/595 [04:03<00:00,  2.44it/s, learning_rate=3.16e-6, loss=0.898]\n"
          ]
        },
        {
          "name": "stdout",
          "output_type": "stream",
          "text": [
            "CSV file for epoch-13has been created at: /content/drive/MyDrive/Saved Models/model1024/Model1024_HPT_EXP_ATT_4_BS_8_PHASE_3_step_1_explore/Model1024_HPT_train_m1024_b8/Model1024_HPT_TRAIN_1024_b_8_epoch_13.csv\n",
            "EPOCH: 13, TRAIN LOSS: 0.8983870119607749\n"
          ]
        },
        {
          "name": "stderr",
          "output_type": "stream",
          "text": [
            "score: 0.78266 on (0.75, 2000, 0.3): 100%|██████████| 268/268 [00:58<00:00,  4.56it/s, dice_score=0.792, val_loss=1.02]\n"
          ]
        },
        {
          "name": "stdout",
          "output_type": "stream",
          "text": [
            "CSV file for validation, epoch-13has been created at: /content/drive/MyDrive/Saved Models/model1024/Model1024_HPT_EXP_ATT_4_BS_8_PHASE_3_step_1_explore/Model1024_HPT_vali_m1024_b8/Model1024_HPT_1024_b_8_Validation_Metrics13.csv\n",
            "EPOCH: 13, TRAIN LOSS: 0.8983870119607749, VAL DICE: 0.7915849298980259\n",
            "EarlyStopping counter: 10 out of 12\n"
          ]
        },
        {
          "name": "stderr",
          "output_type": "stream",
          "text": [
            "100%|██████████| 595/595 [04:03<00:00,  2.44it/s, learning_rate=1.55e-6, loss=0.894]\n"
          ]
        },
        {
          "name": "stdout",
          "output_type": "stream",
          "text": [
            "CSV file for epoch-14has been created at: /content/drive/MyDrive/Saved Models/model1024/Model1024_HPT_EXP_ATT_4_BS_8_PHASE_3_step_1_explore/Model1024_HPT_train_m1024_b8/Model1024_HPT_TRAIN_1024_b_8_epoch_14.csv\n",
            "EPOCH: 14, TRAIN LOSS: 0.8941678300625135\n"
          ]
        },
        {
          "name": "stderr",
          "output_type": "stream",
          "text": [
            "score: 0.82074 on (0.6, 3000, 0.4): 100%|██████████| 268/268 [00:59<00:00,  4.53it/s, dice_score=0.821, val_loss=0.948]\n"
          ]
        },
        {
          "name": "stdout",
          "output_type": "stream",
          "text": [
            "CSV file for validation, epoch-14has been created at: /content/drive/MyDrive/Saved Models/model1024/Model1024_HPT_EXP_ATT_4_BS_8_PHASE_3_step_1_explore/Model1024_HPT_vali_m1024_b8/Model1024_HPT_1024_b_8_Validation_Metrics14.csv\n",
            "EPOCH: 14, TRAIN LOSS: 0.8941678300625135, VAL DICE: 0.8206615664062022\n",
            "Validation score improved (0.8196133856152807 --> 0.8206615664062022). Model saved at /content/drive/MyDrive/Saved Models/model1024/Model1024_HPT_EXP_ATT_4_BS_8_PHASE_3_step_1_explore/m_1024_CHECKPOINTS_epoch14_bst_model1024_fold4_0.8207.tar!\n",
            "Checkpoint saved on epoch - 14 with dice score - 0.8206615664062022\n"
          ]
        },
        {
          "name": "stderr",
          "output_type": "stream",
          "text": [
            "100%|██████████| 595/595 [04:04<00:00,  2.44it/s, learning_rate=4.77e-7, loss=0.896]\n"
          ]
        },
        {
          "name": "stdout",
          "output_type": "stream",
          "text": [
            "CSV file for epoch-15has been created at: /content/drive/MyDrive/Saved Models/model1024/Model1024_HPT_EXP_ATT_4_BS_8_PHASE_3_step_1_explore/Model1024_HPT_train_m1024_b8/Model1024_HPT_TRAIN_1024_b_8_epoch_15.csv\n",
            "EPOCH: 15, TRAIN LOSS: 0.8958942259059233\n"
          ]
        },
        {
          "name": "stderr",
          "output_type": "stream",
          "text": [
            "score: 0.83006 on (0.6, 3000, 0.3): 100%|██████████| 268/268 [00:59<00:00,  4.54it/s, dice_score=0.829, val_loss=0.945]\n"
          ]
        },
        {
          "name": "stdout",
          "output_type": "stream",
          "text": [
            "CSV file for validation, epoch-15has been created at: /content/drive/MyDrive/Saved Models/model1024/Model1024_HPT_EXP_ATT_4_BS_8_PHASE_3_step_1_explore/Model1024_HPT_vali_m1024_b8/Model1024_HPT_1024_b_8_Validation_Metrics15.csv\n",
            "EPOCH: 15, TRAIN LOSS: 0.8958942259059233, VAL DICE: 0.8294179083124175\n",
            "Validation score improved (0.8206615664062022 --> 0.8294179083124175). Model saved at /content/drive/MyDrive/Saved Models/model1024/Model1024_HPT_EXP_ATT_4_BS_8_PHASE_3_step_1_explore/m_1024_CHECKPOINTS_epoch15_bst_model1024_fold4_0.8294.tar!\n",
            "Checkpoint saved on epoch - 15 with dice score - 0.8294179083124175\n"
          ]
        },
        {
          "name": "stderr",
          "output_type": "stream",
          "text": [
            "100%|██████████| 595/595 [04:03<00:00,  2.44it/s, learning_rate=1e-5, loss=0.905]\n"
          ]
        },
        {
          "name": "stdout",
          "output_type": "stream",
          "text": [
            "CSV file for epoch-16has been created at: /content/drive/MyDrive/Saved Models/model1024/Model1024_HPT_EXP_ATT_4_BS_8_PHASE_3_step_1_explore/Model1024_HPT_train_m1024_b8/Model1024_HPT_TRAIN_1024_b_8_epoch_16.csv\n",
            "EPOCH: 16, TRAIN LOSS: 0.9046423892013166\n"
          ]
        },
        {
          "name": "stderr",
          "output_type": "stream",
          "text": [
            "score: 0.81302 on (0.6, 2000, 0.3): 100%|██████████| 268/268 [00:59<00:00,  4.48it/s, dice_score=0.817, val_loss=1.01]\n"
          ]
        },
        {
          "name": "stdout",
          "output_type": "stream",
          "text": [
            "CSV file for validation, epoch-16has been created at: /content/drive/MyDrive/Saved Models/model1024/Model1024_HPT_EXP_ATT_4_BS_8_PHASE_3_step_1_explore/Model1024_HPT_vali_m1024_b8/Model1024_HPT_1024_b_8_Validation_Metrics16.csv\n",
            "EPOCH: 16, TRAIN LOSS: 0.9046423892013166, VAL DICE: 0.8168905017831881\n",
            "EarlyStopping counter: 1 out of 12\n"
          ]
        },
        {
          "name": "stderr",
          "output_type": "stream",
          "text": [
            "100%|██████████| 595/595 [04:03<00:00,  2.44it/s, learning_rate=9.9e-6, loss=0.904]\n"
          ]
        },
        {
          "name": "stdout",
          "output_type": "stream",
          "text": [
            "CSV file for epoch-17has been created at: /content/drive/MyDrive/Saved Models/model1024/Model1024_HPT_EXP_ATT_4_BS_8_PHASE_3_step_1_explore/Model1024_HPT_train_m1024_b8/Model1024_HPT_TRAIN_1024_b_8_epoch_17.csv\n",
            "EPOCH: 17, TRAIN LOSS: 0.9040544192330177\n"
          ]
        },
        {
          "name": "stderr",
          "output_type": "stream",
          "text": [
            "score: 0.76234 on (0.75, 2000, 0.3): 100%|██████████| 268/268 [01:00<00:00,  4.46it/s, dice_score=0.766, val_loss=1.15]\n"
          ]
        },
        {
          "name": "stdout",
          "output_type": "stream",
          "text": [
            "CSV file for validation, epoch-17has been created at: /content/drive/MyDrive/Saved Models/model1024/Model1024_HPT_EXP_ATT_4_BS_8_PHASE_3_step_1_explore/Model1024_HPT_vali_m1024_b8/Model1024_HPT_1024_b_8_Validation_Metrics17.csv\n",
            "EPOCH: 17, TRAIN LOSS: 0.9040544192330177, VAL DICE: 0.7656490185054221\n",
            "EarlyStopping counter: 2 out of 12\n"
          ]
        },
        {
          "name": "stderr",
          "output_type": "stream",
          "text": [
            "100%|██████████| 595/595 [04:03<00:00,  2.44it/s, learning_rate=9.62e-6, loss=0.893]\n"
          ]
        },
        {
          "name": "stdout",
          "output_type": "stream",
          "text": [
            "CSV file for epoch-18has been created at: /content/drive/MyDrive/Saved Models/model1024/Model1024_HPT_EXP_ATT_4_BS_8_PHASE_3_step_1_explore/Model1024_HPT_train_m1024_b8/Model1024_HPT_TRAIN_1024_b_8_epoch_18.csv\n",
            "EPOCH: 18, TRAIN LOSS: 0.8926398721061835\n"
          ]
        },
        {
          "name": "stderr",
          "output_type": "stream",
          "text": [
            "score: 0.75610 on (0.6, 3000, 0.3): 100%|██████████| 268/268 [01:00<00:00,  4.44it/s, dice_score=0.771, val_loss=1.05]\n"
          ]
        },
        {
          "name": "stdout",
          "output_type": "stream",
          "text": [
            "CSV file for validation, epoch-18has been created at: /content/drive/MyDrive/Saved Models/model1024/Model1024_HPT_EXP_ATT_4_BS_8_PHASE_3_step_1_explore/Model1024_HPT_vali_m1024_b8/Model1024_HPT_1024_b_8_Validation_Metrics18.csv\n",
            "EPOCH: 18, TRAIN LOSS: 0.8926398721061835, VAL DICE: 0.7705736890750975\n",
            "EarlyStopping counter: 3 out of 12\n"
          ]
        },
        {
          "name": "stderr",
          "output_type": "stream",
          "text": [
            "100%|██████████| 595/595 [04:04<00:00,  2.44it/s, learning_rate=9.17e-6, loss=0.901]\n"
          ]
        },
        {
          "name": "stdout",
          "output_type": "stream",
          "text": [
            "CSV file for epoch-19has been created at: /content/drive/MyDrive/Saved Models/model1024/Model1024_HPT_EXP_ATT_4_BS_8_PHASE_3_step_1_explore/Model1024_HPT_train_m1024_b8/Model1024_HPT_TRAIN_1024_b_8_epoch_19.csv\n",
            "EPOCH: 19, TRAIN LOSS: 0.900634253726286\n"
          ]
        },
        {
          "name": "stderr",
          "output_type": "stream",
          "text": [
            "score: 0.56522 on (0.75, 2000, 0.4): 100%|██████████| 268/268 [01:00<00:00,  4.42it/s, dice_score=0.568, val_loss=1.17]\n"
          ]
        },
        {
          "name": "stdout",
          "output_type": "stream",
          "text": [
            "CSV file for validation, epoch-19has been created at: /content/drive/MyDrive/Saved Models/model1024/Model1024_HPT_EXP_ATT_4_BS_8_PHASE_3_step_1_explore/Model1024_HPT_vali_m1024_b8/Model1024_HPT_1024_b_8_Validation_Metrics19.csv\n",
            "EPOCH: 19, TRAIN LOSS: 0.900634253726286, VAL DICE: 0.5677835713780254\n",
            "EarlyStopping counter: 4 out of 12\n"
          ]
        },
        {
          "name": "stderr",
          "output_type": "stream",
          "text": [
            "100%|██████████| 595/595 [04:04<00:00,  2.44it/s, learning_rate=8.55e-6, loss=0.898]\n"
          ]
        },
        {
          "name": "stdout",
          "output_type": "stream",
          "text": [
            "CSV file for epoch-20has been created at: /content/drive/MyDrive/Saved Models/model1024/Model1024_HPT_EXP_ATT_4_BS_8_PHASE_3_step_1_explore/Model1024_HPT_train_m1024_b8/Model1024_HPT_TRAIN_1024_b_8_epoch_20.csv\n",
            "EPOCH: 20, TRAIN LOSS: 0.8978940673235084\n"
          ]
        },
        {
          "name": "stderr",
          "output_type": "stream",
          "text": [
            "score: 0.77830 on (0.75, 250.0, 0.3): 100%|██████████| 268/268 [01:01<00:00,  4.38it/s, dice_score=0.784, val_loss=1.09]\n"
          ]
        },
        {
          "name": "stdout",
          "output_type": "stream",
          "text": [
            "CSV file for validation, epoch-20has been created at: /content/drive/MyDrive/Saved Models/model1024/Model1024_HPT_EXP_ATT_4_BS_8_PHASE_3_step_1_explore/Model1024_HPT_vali_m1024_b8/Model1024_HPT_1024_b_8_Validation_Metrics20.csv\n",
            "EPOCH: 20, TRAIN LOSS: 0.8978940673235084, VAL DICE: 0.7837868456017937\n",
            "EarlyStopping counter: 5 out of 12\n"
          ]
        },
        {
          "name": "stderr",
          "output_type": "stream",
          "text": [
            "100%|██████████| 595/595 [04:04<00:00,  2.43it/s, learning_rate=7.8e-6, loss=0.895]\n"
          ]
        },
        {
          "name": "stdout",
          "output_type": "stream",
          "text": [
            "CSV file for epoch-21has been created at: /content/drive/MyDrive/Saved Models/model1024/Model1024_HPT_EXP_ATT_4_BS_8_PHASE_3_step_1_explore/Model1024_HPT_train_m1024_b8/Model1024_HPT_TRAIN_1024_b_8_epoch_21.csv\n",
            "EPOCH: 21, TRAIN LOSS: 0.8945616490700665\n"
          ]
        },
        {
          "name": "stderr",
          "output_type": "stream",
          "text": [
            "score: 0.77067 on (0.75, 2000, 0.3): 100%|██████████| 268/268 [01:01<00:00,  4.34it/s, dice_score=0.778, val_loss=1.07]\n"
          ]
        },
        {
          "name": "stdout",
          "output_type": "stream",
          "text": [
            "CSV file for validation, epoch-21has been created at: /content/drive/MyDrive/Saved Models/model1024/Model1024_HPT_EXP_ATT_4_BS_8_PHASE_3_step_1_explore/Model1024_HPT_vali_m1024_b8/Model1024_HPT_1024_b_8_Validation_Metrics21.csv\n",
            "EPOCH: 21, TRAIN LOSS: 0.8945616490700665, VAL DICE: 0.7777885572331759\n",
            "EarlyStopping counter: 6 out of 12\n"
          ]
        },
        {
          "name": "stderr",
          "output_type": "stream",
          "text": [
            "100%|██████████| 595/595 [04:04<00:00,  2.44it/s, learning_rate=6.94e-6, loss=0.898]\n"
          ]
        },
        {
          "name": "stdout",
          "output_type": "stream",
          "text": [
            "CSV file for epoch-22has been created at: /content/drive/MyDrive/Saved Models/model1024/Model1024_HPT_EXP_ATT_4_BS_8_PHASE_3_step_1_explore/Model1024_HPT_train_m1024_b8/Model1024_HPT_TRAIN_1024_b_8_epoch_22.csv\n",
            "EPOCH: 22, TRAIN LOSS: 0.8975558381120697\n"
          ]
        },
        {
          "name": "stderr",
          "output_type": "stream",
          "text": [
            "score: 0.81506 on (0.75, 2000, 0.3): 100%|██████████| 268/268 [01:01<00:00,  4.33it/s, dice_score=0.821, val_loss=0.977]\n"
          ]
        },
        {
          "name": "stdout",
          "output_type": "stream",
          "text": [
            "CSV file for validation, epoch-22has been created at: /content/drive/MyDrive/Saved Models/model1024/Model1024_HPT_EXP_ATT_4_BS_8_PHASE_3_step_1_explore/Model1024_HPT_vali_m1024_b8/Model1024_HPT_1024_b_8_Validation_Metrics22.csv\n",
            "EPOCH: 22, TRAIN LOSS: 0.8975558381120697, VAL DICE: 0.8209269681840863\n",
            "EarlyStopping counter: 7 out of 12\n"
          ]
        },
        {
          "name": "stderr",
          "output_type": "stream",
          "text": [
            "100%|██████████| 595/595 [04:04<00:00,  2.44it/s, learning_rate=6.02e-6, loss=0.887]\n"
          ]
        },
        {
          "name": "stdout",
          "output_type": "stream",
          "text": [
            "CSV file for epoch-23has been created at: /content/drive/MyDrive/Saved Models/model1024/Model1024_HPT_EXP_ATT_4_BS_8_PHASE_3_step_1_explore/Model1024_HPT_train_m1024_b8/Model1024_HPT_TRAIN_1024_b_8_epoch_23.csv\n",
            "EPOCH: 23, TRAIN LOSS: 0.8867435239944137\n"
          ]
        },
        {
          "name": "stderr",
          "output_type": "stream",
          "text": [
            "score: 0.76116 on (0.6, 3000, 0.3): 100%|██████████| 268/268 [01:02<00:00,  4.31it/s, dice_score=0.774, val_loss=1.05]\n"
          ]
        },
        {
          "name": "stdout",
          "output_type": "stream",
          "text": [
            "CSV file for validation, epoch-23has been created at: /content/drive/MyDrive/Saved Models/model1024/Model1024_HPT_EXP_ATT_4_BS_8_PHASE_3_step_1_explore/Model1024_HPT_vali_m1024_b8/Model1024_HPT_1024_b_8_Validation_Metrics23.csv\n",
            "EPOCH: 23, TRAIN LOSS: 0.8867435239944137, VAL DICE: 0.7740473896917552\n",
            "EarlyStopping counter: 8 out of 12\n"
          ]
        },
        {
          "name": "stderr",
          "output_type": "stream",
          "text": [
            "100%|██████████| 595/595 [04:04<00:00,  2.43it/s, learning_rate=5.05e-6, loss=0.894]\n"
          ]
        },
        {
          "name": "stdout",
          "output_type": "stream",
          "text": [
            "CSV file for epoch-24has been created at: /content/drive/MyDrive/Saved Models/model1024/Model1024_HPT_EXP_ATT_4_BS_8_PHASE_3_step_1_explore/Model1024_HPT_train_m1024_b8/Model1024_HPT_TRAIN_1024_b_8_epoch_24.csv\n",
            "EPOCH: 24, TRAIN LOSS: 0.8944177654610962\n"
          ]
        },
        {
          "name": "stderr",
          "output_type": "stream",
          "text": [
            "score: 0.76208 on (0.75, 2000, 0.3): 100%|██████████| 268/268 [01:02<00:00,  4.28it/s, dice_score=0.774, val_loss=1.04]\n"
          ]
        },
        {
          "name": "stdout",
          "output_type": "stream",
          "text": [
            "CSV file for validation, epoch-24has been created at: /content/drive/MyDrive/Saved Models/model1024/Model1024_HPT_EXP_ATT_4_BS_8_PHASE_3_step_1_explore/Model1024_HPT_vali_m1024_b8/Model1024_HPT_1024_b_8_Validation_Metrics24.csv\n",
            "EPOCH: 24, TRAIN LOSS: 0.8944177654610962, VAL DICE: 0.7743444413807351\n",
            "EarlyStopping counter: 9 out of 12\n"
          ]
        },
        {
          "name": "stderr",
          "output_type": "stream",
          "text": [
            "100%|██████████| 595/595 [04:04<00:00,  2.43it/s, learning_rate=4.08e-6, loss=0.885]\n"
          ]
        },
        {
          "name": "stdout",
          "output_type": "stream",
          "text": [
            "CSV file for epoch-25has been created at: /content/drive/MyDrive/Saved Models/model1024/Model1024_HPT_EXP_ATT_4_BS_8_PHASE_3_step_1_explore/Model1024_HPT_train_m1024_b8/Model1024_HPT_TRAIN_1024_b_8_epoch_25.csv\n",
            "EPOCH: 25, TRAIN LOSS: 0.8854661204233891\n"
          ]
        },
        {
          "name": "stderr",
          "output_type": "stream",
          "text": [
            "score: 0.77028 on (0.75, 2000, 0.3): 100%|██████████| 268/268 [01:02<00:00,  4.29it/s, dice_score=0.78, val_loss=1.04]\n"
          ]
        },
        {
          "name": "stdout",
          "output_type": "stream",
          "text": [
            "CSV file for validation, epoch-25has been created at: /content/drive/MyDrive/Saved Models/model1024/Model1024_HPT_EXP_ATT_4_BS_8_PHASE_3_step_1_explore/Model1024_HPT_vali_m1024_b8/Model1024_HPT_1024_b_8_Validation_Metrics25.csv\n",
            "EPOCH: 25, TRAIN LOSS: 0.8854661204233891, VAL DICE: 0.7795697323329565\n",
            "EarlyStopping counter: 10 out of 12\n"
          ]
        },
        {
          "name": "stderr",
          "output_type": "stream",
          "text": [
            "100%|██████████| 595/595 [04:04<00:00,  2.44it/s, learning_rate=3.16e-6, loss=0.876]\n"
          ]
        },
        {
          "name": "stdout",
          "output_type": "stream",
          "text": [
            "CSV file for epoch-26has been created at: /content/drive/MyDrive/Saved Models/model1024/Model1024_HPT_EXP_ATT_4_BS_8_PHASE_3_step_1_explore/Model1024_HPT_train_m1024_b8/Model1024_HPT_TRAIN_1024_b_8_epoch_26.csv\n",
            "EPOCH: 26, TRAIN LOSS: 0.8763040107839247\n"
          ]
        },
        {
          "name": "stderr",
          "output_type": "stream",
          "text": [
            "score: 0.81631 on (0.6, 3000, 0.3): 100%|██████████| 268/268 [01:02<00:00,  4.27it/s, dice_score=0.815, val_loss=1.02]\n"
          ]
        },
        {
          "name": "stdout",
          "output_type": "stream",
          "text": [
            "CSV file for validation, epoch-26has been created at: /content/drive/MyDrive/Saved Models/model1024/Model1024_HPT_EXP_ATT_4_BS_8_PHASE_3_step_1_explore/Model1024_HPT_vali_m1024_b8/Model1024_HPT_1024_b_8_Validation_Metrics26.csv\n",
            "EPOCH: 26, TRAIN LOSS: 0.8763040107839247, VAL DICE: 0.8152638571975142\n",
            "EarlyStopping counter: 11 out of 12\n"
          ]
        },
        {
          "name": "stderr",
          "output_type": "stream",
          "text": [
            "100%|██████████| 595/595 [04:04<00:00,  2.43it/s, learning_rate=2.3e-6, loss=0.887]\n"
          ]
        },
        {
          "name": "stdout",
          "output_type": "stream",
          "text": [
            "CSV file for epoch-27has been created at: /content/drive/MyDrive/Saved Models/model1024/Model1024_HPT_EXP_ATT_4_BS_8_PHASE_3_step_1_explore/Model1024_HPT_train_m1024_b8/Model1024_HPT_TRAIN_1024_b_8_epoch_27.csv\n",
            "EPOCH: 27, TRAIN LOSS: 0.8867978241263318\n"
          ]
        },
        {
          "name": "stderr",
          "output_type": "stream",
          "text": [
            "score: 0.82476 on (0.6, 3000, 0.3): 100%|██████████| 268/268 [01:03<00:00,  4.21it/s, dice_score=0.825, val_loss=0.948]\n"
          ]
        },
        {
          "name": "stdout",
          "output_type": "stream",
          "text": [
            "CSV file for validation, epoch-27has been created at: /content/drive/MyDrive/Saved Models/model1024/Model1024_HPT_EXP_ATT_4_BS_8_PHASE_3_step_1_explore/Model1024_HPT_vali_m1024_b8/Model1024_HPT_1024_b_8_Validation_Metrics27.csv\n",
            "EPOCH: 27, TRAIN LOSS: 0.8867978241263318, VAL DICE: 0.8247871555851205\n",
            "EarlyStopping counter: 12 out of 12\n",
            "\n",
            "\n",
            " -------------- EARLY STOPPING -------------- \n",
            "\n",
            "\n"
          ]
        }
      ],
      "source": [
        "till_epoch = EPOCHS\n",
        "model.to(DEVICE)\n",
        "model.train()\n",
        "# Lists to store epoch-to-epoch progress details\n",
        "epoch_count = []\n",
        "loss_values = []\n",
        "val_score_values = []\n",
        "val_loss_values = []\n",
        "\n",
        "# Training Loop\n",
        "for epoch in range(1, till_epoch+1):\n",
        "    epoch_count.append(epoch)\n",
        "    loss, batch_count_train, batch_train_loss = train_one_epoch(train_dataloader, model, optimizer, criterion)\n",
        "    loss_values.append(loss)\n",
        "    store_batch_training_details(epoch, batch_count_train, batch_train_loss)\n",
        "    if not isinstance(scheduler, torch.optim.lr_scheduler.ReduceLROnPlateau):\n",
        "        scheduler.step()\n",
        "    # Storing Training details for plotting curves and inference\n",
        "    print(f\"EPOCH: {epoch}, TRAIN LOSS: {loss}\")\n",
        "\n",
        "    \"\"\"-------------------VALIDATION---------------------\"\"\"\n",
        "    dice, batch_count_val, batch_val_score_values, val_loss = evaluate(val_dataloader, model, epoch=epoch) # Evaluates model performance by calculating the dice coefficient\n",
        "    val_score_values.append(dice)\n",
        "    val_loss_values.append(val_loss)\n",
        "    # Storing Validation details for plotting curves and inference\n",
        "    store_batch_validation_details(epoch, batch_count_val, batch_val_score_values)\n",
        "    print(f\"EPOCH: {epoch}, TRAIN LOSS: {loss}, VAL DICE: {dice}\")\n",
        "\n",
        "    save_progress(epoch_count, loss_values, val_loss_values)\n",
        "    save_dice_score(epoch_count, val_score_values)\n",
        "    save_losses()\n",
        "# \"\"\"\" If it is necessary to save model's state dict as checkpoint, do the essential changes\n",
        "#      in Early Stopping class.\"\"\"\n",
        "\n",
        "    if isinstance(scheduler, torch.optim.lr_scheduler.ReduceLROnPlateau):\n",
        "        scheduler.step(dice)\n",
        "\n",
        "    es(epoch, dice, model, optimizer, loss, model_path= model_checkpoint_path + f\"_epoch{epoch}_bst_model{IMG_SIZE}_fold{FOLD_ID}_{np.round(dice,4)}.tar\")\n",
        "    if es.early_stop:\n",
        "        print('\\n\\n -------------- EARLY STOPPING -------------- \\n\\n')\n",
        "        break"
      ]
    },
    {
      "cell_type": "markdown",
      "metadata": {
        "id": "gJFz9wAhzL4k"
      },
      "source": [
        "# Training Dynamics"
      ]
    },
    {
      "cell_type": "code",
      "execution_count": 50,
      "metadata": {
        "colab": {
          "base_uri": "https://localhost:8080/",
          "height": 607
        },
        "id": "n2BXTyFrPxzy",
        "outputId": "beeb869f-17b3-43d1-9d36-6cd1adc7eea4"
      },
      "outputs": [
        {
          "data": {
            "image/png": "[encoded data removed]",
            "text/plain": [
              "<Figure size 1000x600 with 1 Axes>"
            ]
          },
          "metadata": {},
          "output_type": "display_data"
        }
      ],
      "source": [
        "# Load data from CSV into a DataFrame\n",
        "file_path = save_progress_path  # Replace with your CSV file path\n",
        "df = pd.read_csv(file_path)\n",
        "\n",
        "# Plotting the line plot\n",
        "plt.figure(figsize=(10, 6))\n",
        "plt.plot(df['epoch'], df['train_loss'], marker='o', linestyle='-', color='b', label='Train Loss')\n",
        "plt.plot(df['epoch'], df['val_loss'], marker='o', linestyle='-', color='r', label='Validation Loss')\n",
        "\n",
        "plt.title('Training and Validation Loss')\n",
        "plt.xlabel('Epoch')\n",
        "plt.ylabel('Loss')\n",
        "plt.legend()\n",
        "plt.grid(True)\n",
        "plt.tight_layout()\n",
        "plt.show()"
      ]
    },
    {
      "cell_type": "markdown",
      "metadata": {
        "id": "iOQs9Sy2VBHR"
      },
      "source": [
        "# Sample Predictions"
      ]
    },
    {
      "cell_type": "code",
      "execution_count": null,
      "metadata": {
        "id": "RnM0qtplSwyW"
      },
      "outputs": [],
      "source": [
        "model.to(DEVICE)\n",
        "model.eval()\n",
        "idx = 1995\n",
        "mask = val_dataset[idx][\"mask\"].unsqueeze(0)\n",
        "print(\"Mask Shape: \",mask.shape)\n",
        "image = val_dataset[idx][\"image\"].unsqueeze(0)\n",
        "print(\"Image Shape: \",image.shape)\n",
        "raw_output = model(image.to(DEVICE))\n",
        "print(\"raw output shape: \", raw_output.shape)\n",
        "print(\"------ Raw Output ------\")\n",
        "print(raw_output)\n",
        "print(\"------- Pred Probs -------\")\n",
        "pred_probs = torch.sigmoid(raw_output)\n",
        "print(pred_probs)\n",
        "print(\"------- How does the Mask look like? ------\")\n",
        "print(mask)\n",
        "print(\"-------- Predicted Segmentation mask --------\")\n",
        "# binarizer_fn = TripletMaskBinarization(triplets=[[0.7, 600, 0.3]])\n",
        "# mask = binarizer_fn.transform(mask).float()\n",
        "# print(segmentation_mask)\n",
        "segmentation_mask = (pred_probs > 0.4).float()\n",
        "print(segmentation_mask)"
      ]
    },
    {
      "cell_type": "code",
      "execution_count": null,
      "metadata": {
        "id": "cALrPDiZFyhu"
      },
      "outputs": [],
      "source": [
        "mask.unique()"
      ]
    },
    {
      "cell_type": "code",
      "execution_count": null,
      "metadata": {
        "id": "prdvPG3XZiuL"
      },
      "outputs": [],
      "source": [
        "segmentation_mask.unique()"
      ]
    },
    {
      "cell_type": "code",
      "execution_count": null,
      "metadata": {
        "id": "iAzD4mVaTYJg"
      },
      "outputs": [],
      "source": [
        "plt.style.use(\"classic\")"
      ]
    },
    {
      "cell_type": "code",
      "execution_count": null,
      "metadata": {
        "id": "Ak3eAHrDdY_V"
      },
      "outputs": [],
      "source": [
        "first_channel_tensor = image[0, 0, :, :]\n",
        "print(first_channel_tensor.shape)  # torch.Size([512, 512])\n",
        "second_channel_tensor = image[0, 1, :, :]\n",
        "print(second_channel_tensor.shape)  # torch.Size([512, 512])\n",
        "third_channel_tensor = image[0, 2, :, :]\n",
        "print(third_channel_tensor.shape)  # torch.Size([512, 512])"
      ]
    },
    {
      "cell_type": "code",
      "execution_count": null,
      "metadata": {
        "id": "LRJzqWT1drZv"
      },
      "outputs": [],
      "source": [
        "plt.title(\"First Channel Image\")\n",
        "plt.imshow(first_channel_tensor.detach().cpu().numpy(), cmap=\"gray\")"
      ]
    },
    {
      "cell_type": "code",
      "execution_count": null,
      "metadata": {
        "id": "tS4Lttr2TLad"
      },
      "outputs": [],
      "source": [
        "plt.imshow(mask.squeeze().detach().cpu().numpy(), cmap = 'gray')\n",
        "print(mask.squeeze().shape)\n",
        "plt.title(\"Mask\")"
      ]
    },
    {
      "cell_type": "code",
      "execution_count": null,
      "metadata": {
        "id": "_X9nSoL1TNw_"
      },
      "outputs": [],
      "source": [
        "print(segmentation_mask.squeeze().shape)\n",
        "plt.imshow(segmentation_mask.squeeze().detach().cpu().numpy(), cmap='gray')\n",
        "plt.title(\"Segmentation Mask\")"
      ]
    },
    {
      "cell_type": "code",
      "execution_count": null,
      "metadata": {
        "id": "xi-kZiELUV79"
      },
      "outputs": [],
      "source": [
        "print(type(pred_probs), type(mask))\n",
        "print(pred_probs.shape, mask.shape)"
      ]
    },
    {
      "cell_type": "code",
      "execution_count": null,
      "metadata": {
        "id": "nKAY7_pFh_Vt"
      },
      "outputs": [],
      "source": [
        "print(segmentation_mask.squeeze().squeeze().shape)"
      ]
    },
    {
      "cell_type": "code",
      "execution_count": null,
      "metadata": {
        "id": "Sm9Qm1_FiFbS"
      },
      "outputs": [],
      "source": [
        "print(mask.squeeze().squeeze().shape)"
      ]
    },
    {
      "cell_type": "code",
      "execution_count": null,
      "metadata": {
        "id": "7kiIFEw2TPZn"
      },
      "outputs": [],
      "source": [
        "# \"\"\"\n",
        "# Both methods aim to capture the overlap between predicted positive regions and actual positive regions in the ground truth.\n",
        "# The dice_metric approach leverages the full range of predicted probabilities, while the  metric function relies on a binary classification based on a chosen threshold.\n",
        "# \"\"\"\n",
        "# Dice = metric(pred_probs.detach().cpu(), mask).item()\n",
        "# print(f\"Dice coefficient: {Dice}\")\n",
        "# dice_metric_score = dice_metric(pred_probs.detach().cpu(), mask)\n",
        "# print(f\"Dice coefficient: {dice_metric_score}\")\n",
        "\n",
        "\"\"\"\n",
        "Both methods aim to capture the overlap between predicted positive regions and actual positive regions in the ground truth.\n",
        "The dice_metric approach leverages the full range of predicted probabilities, while the  metric function relies on a binary classification based on a chosen threshold.\n",
        "\"\"\"\n",
        "Dice = metric(segmentation_mask.detach().cpu(), mask).item()\n",
        "print(f\"Dice coefficient: {Dice}\")\n",
        "dice_metric_score = dice_metric(segmentation_mask.squeeze().squeeze().detach().cpu(), mask.squeeze().squeeze(), per_image=False)\n",
        "print(f\"Dice coefficient: {dice_metric_score}\")"
      ]
    }
  ],
  "metadata": {
    "accelerator": "GPU",
    "colab": {
      "collapsed_sections": [
        "Y7HFiESzDWcY",
        "3A4XlffPf1jV",
        "7xtZrBIJeLH_",
        "A-y8ovXEK2St",
        "od_pZDUoK2Su",
        "BNLEHf3QK2Sv",
        "6-dcysMmK2Sw",
        "Vzze2VhIK2S5",
        "kOlM9jTEK2S5",
        "K136b3eqK2S5",
        "pOkP2HYpvsqr",
        "LcACWXgAXHQu",
        "gJFz9wAhzL4k",
        "Ay8rDOynkDJU",
        "v3bIua6-VHh9"
      ],
      "gpuType": "A100",
      "machine_shape": "hm",
      "provenance": []
    },
    "kernelspec": {
      "display_name": "Python 3",
      "name": "python3"
    },
    "language_info": {
      "codemirror_mode": {
        "name": "ipython",
        "version": 3
      },
      "file_extension": ".py",
      "mimetype": "text/x-python",
      "name": "python",
      "nbconvert_exporter": "python",
      "pygments_lexer": "ipython3",
      "version": "3.10.9"
    },
    "toc": {
      "base_numbering": 1,
      "nav_menu": {},
      "number_sections": true,
      "sideBar": true,
      "skip_h1_title": false,
      "title_cell": "Table of Contents",
      "title_sidebar": "Contents",
      "toc_cell": false,
      "toc_position": {
        "height": "calc(100% - 180px)",
        "left": "10px",
        "top": "150px",
        "width": "165px"
      },
      "toc_section_display": true,
      "toc_window_display": false
    }
  },
  "nbformat": 4,
  "nbformat_minor": 0
}
